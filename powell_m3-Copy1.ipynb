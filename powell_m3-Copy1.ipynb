{
 "cells": [
  {
   "cell_type": "code",
   "execution_count": 1,
   "metadata": {},
   "outputs": [],
   "source": [
    "%matplotlib inline\n",
    "# Dependencies and Setup\n",
    "import pandas as pd\n",
    "import numpy as np\n",
    "import pickle\n",
    "from sklearn.ensemble import RandomForestRegressor\n",
    "from sklearn.model_selection import train_test_split\n",
    "from sklearn.linear_model import Ridge\n",
    "from sklearn.tree import DecisionTreeClassifier # Import Decision Tree Classifier\n",
    "from sklearn.tree import export_graphviz\n",
    "from sklearn import metrics #Import scikit-learn metrics module for accuracy calculation\n",
    "import matplotlib.pyplot as plt\n",
    "import matplotlib\n",
    "from matplotlib.widgets import Slider\n",
    "import seaborn as sns; sns.set()\n",
    "import ppscore as pps\n",
    "import seaborn as seabornInstance\n",
    "\n"
   ]
  },
  {
   "cell_type": "code",
   "execution_count": 2,
   "metadata": {},
   "outputs": [],
   "source": [
    "import warnings\n",
    "warnings.filterwarnings('ignore')"
   ]
  },
  {
   "cell_type": "markdown",
   "metadata": {},
   "source": [
    "Read all files as indicated in subsequent cells containing data for labels and NLP formulated features of our project."
   ]
  },
  {
   "cell_type": "code",
   "execution_count": 3,
   "metadata": {},
   "outputs": [
    {
     "data": {
      "text/html": [
       "<div>\n",
       "<style scoped>\n",
       "    .dataframe tbody tr th:only-of-type {\n",
       "        vertical-align: middle;\n",
       "    }\n",
       "\n",
       "    .dataframe tbody tr th {\n",
       "        vertical-align: top;\n",
       "    }\n",
       "\n",
       "    .dataframe thead th {\n",
       "        text-align: right;\n",
       "    }\n",
       "</style>\n",
       "<table border=\"1\" class=\"dataframe\">\n",
       "  <thead>\n",
       "    <tr style=\"text-align: right;\">\n",
       "      <th></th>\n",
       "      <th>date</th>\n",
       "      <th>change</th>\n",
       "    </tr>\n",
       "  </thead>\n",
       "  <tbody>\n",
       "    <tr>\n",
       "      <th>4068</th>\n",
       "      <td>2016-01-04</td>\n",
       "      <td>0.002644</td>\n",
       "    </tr>\n",
       "  </tbody>\n",
       "</table>\n",
       "</div>"
      ],
      "text/plain": [
       "            date    change\n",
       "4068  2016-01-04  0.002644"
      ]
     },
     "execution_count": 3,
     "metadata": {},
     "output_type": "execute_result"
    }
   ],
   "source": [
    "L_cap = pd.read_csv(\"./data/stock_spy.csv\")\n",
    "L_cap = L_cap.loc[L_cap['date']>'2016-01-01']\n",
    "L_cap = L_cap.loc[:, [\"date\", \"change\"]]\n",
    "L_cap.head(1)"
   ]
  },
  {
   "cell_type": "code",
   "execution_count": 4,
   "metadata": {},
   "outputs": [
    {
     "data": {
      "text/html": [
       "<div>\n",
       "<style scoped>\n",
       "    .dataframe tbody tr th:only-of-type {\n",
       "        vertical-align: middle;\n",
       "    }\n",
       "\n",
       "    .dataframe tbody tr th {\n",
       "        vertical-align: top;\n",
       "    }\n",
       "\n",
       "    .dataframe thead th {\n",
       "        text-align: right;\n",
       "    }\n",
       "</style>\n",
       "<table border=\"1\" class=\"dataframe\">\n",
       "  <thead>\n",
       "    <tr style=\"text-align: right;\">\n",
       "      <th></th>\n",
       "      <th>date</th>\n",
       "      <th>change</th>\n",
       "    </tr>\n",
       "  </thead>\n",
       "  <tbody>\n",
       "    <tr>\n",
       "      <th>4068</th>\n",
       "      <td>2016-01-04</td>\n",
       "      <td>0.003601</td>\n",
       "    </tr>\n",
       "  </tbody>\n",
       "</table>\n",
       "</div>"
      ],
      "text/plain": [
       "            date    change\n",
       "4068  2016-01-04  0.003601"
      ]
     },
     "execution_count": 4,
     "metadata": {},
     "output_type": "execute_result"
    }
   ],
   "source": [
    "M_cap = pd.read_csv(\"./data/stock_mdy.csv\")\n",
    "M_cap = M_cap.loc[M_cap['date']>'2016-01-01']\n",
    "M_cap = M_cap.loc[:, [\"date\", \"change\"]]\n",
    "M_cap.head(1)"
   ]
  },
  {
   "cell_type": "code",
   "execution_count": 5,
   "metadata": {},
   "outputs": [
    {
     "data": {
      "text/html": [
       "<div>\n",
       "<style scoped>\n",
       "    .dataframe tbody tr th:only-of-type {\n",
       "        vertical-align: middle;\n",
       "    }\n",
       "\n",
       "    .dataframe tbody tr th {\n",
       "        vertical-align: top;\n",
       "    }\n",
       "\n",
       "    .dataframe thead th {\n",
       "        text-align: right;\n",
       "    }\n",
       "</style>\n",
       "<table border=\"1\" class=\"dataframe\">\n",
       "  <thead>\n",
       "    <tr style=\"text-align: right;\">\n",
       "      <th></th>\n",
       "      <th>date</th>\n",
       "      <th>change</th>\n",
       "    </tr>\n",
       "  </thead>\n",
       "  <tbody>\n",
       "    <tr>\n",
       "      <th>3924</th>\n",
       "      <td>2016-01-04</td>\n",
       "      <td>-0.006651</td>\n",
       "    </tr>\n",
       "  </tbody>\n",
       "</table>\n",
       "</div>"
      ],
      "text/plain": [
       "            date    change\n",
       "3924  2016-01-04 -0.006651"
      ]
     },
     "execution_count": 5,
     "metadata": {},
     "output_type": "execute_result"
    }
   ],
   "source": [
    "S_cap = pd.read_csv(\"./data/stock_ijr.csv\")\n",
    "S_cap = S_cap.loc[S_cap['date']>'2016-01-01']\n",
    "S_cap = S_cap.loc[:, [\"date\", \"change\"]]\n",
    "S_cap.head(1)"
   ]
  },
  {
   "cell_type": "code",
   "execution_count": 6,
   "metadata": {},
   "outputs": [
    {
     "data": {
      "text/html": [
       "<div>\n",
       "<style scoped>\n",
       "    .dataframe tbody tr th:only-of-type {\n",
       "        vertical-align: middle;\n",
       "    }\n",
       "\n",
       "    .dataframe tbody tr th {\n",
       "        vertical-align: top;\n",
       "    }\n",
       "\n",
       "    .dataframe thead th {\n",
       "        text-align: right;\n",
       "    }\n",
       "</style>\n",
       "<table border=\"1\" class=\"dataframe\">\n",
       "  <thead>\n",
       "    <tr style=\"text-align: right;\">\n",
       "      <th></th>\n",
       "      <th>Date</th>\n",
       "      <th>Count</th>\n",
       "    </tr>\n",
       "  </thead>\n",
       "  <tbody>\n",
       "    <tr>\n",
       "      <th>0</th>\n",
       "      <td>2021-02-10</td>\n",
       "      <td>11</td>\n",
       "    </tr>\n",
       "  </tbody>\n",
       "</table>\n",
       "</div>"
      ],
      "text/plain": [
       "         Date  Count\n",
       "0  2021-02-10     11"
      ]
     },
     "execution_count": 6,
     "metadata": {},
     "output_type": "execute_result"
    }
   ],
   "source": [
    "powell_econ = pd.read_csv(\"./data/powell_daydf_count.csv\")\n",
    "powell_econ.head(1)"
   ]
  },
  {
   "cell_type": "code",
   "execution_count": 7,
   "metadata": {},
   "outputs": [
    {
     "data": {
      "text/html": [
       "<div>\n",
       "<style scoped>\n",
       "    .dataframe tbody tr th:only-of-type {\n",
       "        vertical-align: middle;\n",
       "    }\n",
       "\n",
       "    .dataframe tbody tr th {\n",
       "        vertical-align: top;\n",
       "    }\n",
       "\n",
       "    .dataframe thead th {\n",
       "        text-align: right;\n",
       "    }\n",
       "</style>\n",
       "<table border=\"1\" class=\"dataframe\">\n",
       "  <thead>\n",
       "    <tr style=\"text-align: right;\">\n",
       "      <th></th>\n",
       "      <th>Date</th>\n",
       "      <th>Sent_Count</th>\n",
       "    </tr>\n",
       "  </thead>\n",
       "  <tbody>\n",
       "    <tr>\n",
       "      <th>0</th>\n",
       "      <td>2021-03-18</td>\n",
       "      <td>10</td>\n",
       "    </tr>\n",
       "  </tbody>\n",
       "</table>\n",
       "</div>"
      ],
      "text/plain": [
       "         Date  Sent_Count\n",
       "0  2021-03-18          10"
      ]
     },
     "execution_count": 7,
     "metadata": {},
     "output_type": "execute_result"
    }
   ],
   "source": [
    "powell_sentbyday = pd.read_csv(\"./data/powell_sentbydaydf_count.csv\")\n",
    "powell_sentbyday.head(1)"
   ]
  },
  {
   "cell_type": "code",
   "execution_count": 8,
   "metadata": {},
   "outputs": [
    {
     "data": {
      "text/html": [
       "<div>\n",
       "<style scoped>\n",
       "    .dataframe tbody tr th:only-of-type {\n",
       "        vertical-align: middle;\n",
       "    }\n",
       "\n",
       "    .dataframe tbody tr th {\n",
       "        vertical-align: top;\n",
       "    }\n",
       "\n",
       "    .dataframe thead th {\n",
       "        text-align: right;\n",
       "    }\n",
       "</style>\n",
       "<table border=\"1\" class=\"dataframe\">\n",
       "  <thead>\n",
       "    <tr style=\"text-align: right;\">\n",
       "      <th></th>\n",
       "      <th>Date</th>\n",
       "      <th>Pos_Count</th>\n",
       "    </tr>\n",
       "  </thead>\n",
       "  <tbody>\n",
       "    <tr>\n",
       "      <th>0</th>\n",
       "      <td>2021-03-18</td>\n",
       "      <td>18</td>\n",
       "    </tr>\n",
       "  </tbody>\n",
       "</table>\n",
       "</div>"
      ],
      "text/plain": [
       "         Date  Pos_Count\n",
       "0  2021-03-18         18"
      ]
     },
     "execution_count": 8,
     "metadata": {},
     "output_type": "execute_result"
    }
   ],
   "source": [
    "powell_sentbydaypos = pd.read_csv(\"./data/powell_sentbydayposdf_count.csv\")\n",
    "powell_sentbydaypos.head(1)"
   ]
  },
  {
   "cell_type": "code",
   "execution_count": 9,
   "metadata": {},
   "outputs": [
    {
     "data": {
      "text/html": [
       "<div>\n",
       "<style scoped>\n",
       "    .dataframe tbody tr th:only-of-type {\n",
       "        vertical-align: middle;\n",
       "    }\n",
       "\n",
       "    .dataframe tbody tr th {\n",
       "        vertical-align: top;\n",
       "    }\n",
       "\n",
       "    .dataframe thead th {\n",
       "        text-align: right;\n",
       "    }\n",
       "</style>\n",
       "<table border=\"1\" class=\"dataframe\">\n",
       "  <thead>\n",
       "    <tr style=\"text-align: right;\">\n",
       "      <th></th>\n",
       "      <th>Date</th>\n",
       "      <th>Neg_Count</th>\n",
       "    </tr>\n",
       "  </thead>\n",
       "  <tbody>\n",
       "    <tr>\n",
       "      <th>0</th>\n",
       "      <td>2021-03-18</td>\n",
       "      <td>8</td>\n",
       "    </tr>\n",
       "  </tbody>\n",
       "</table>\n",
       "</div>"
      ],
      "text/plain": [
       "         Date  Neg_Count\n",
       "0  2021-03-18          8"
      ]
     },
     "execution_count": 9,
     "metadata": {},
     "output_type": "execute_result"
    }
   ],
   "source": [
    "powell_sentbydayneg = pd.read_csv(\"./data/powell_sentbydaynegdf_count.csv\")\n",
    "powell_sentbydayneg.head(1)"
   ]
  },
  {
   "cell_type": "markdown",
   "metadata": {},
   "source": [
    "Join data frames and create classification labels."
   ]
  },
  {
   "cell_type": "code",
   "execution_count": 10,
   "metadata": {},
   "outputs": [
    {
     "data": {
      "text/html": [
       "<div>\n",
       "<style scoped>\n",
       "    .dataframe tbody tr th:only-of-type {\n",
       "        vertical-align: middle;\n",
       "    }\n",
       "\n",
       "    .dataframe tbody tr th {\n",
       "        vertical-align: top;\n",
       "    }\n",
       "\n",
       "    .dataframe thead th {\n",
       "        text-align: right;\n",
       "    }\n",
       "</style>\n",
       "<table border=\"1\" class=\"dataframe\">\n",
       "  <thead>\n",
       "    <tr style=\"text-align: right;\">\n",
       "      <th></th>\n",
       "      <th>date</th>\n",
       "      <th>change</th>\n",
       "      <th>Date</th>\n",
       "      <th>Neg_Count</th>\n",
       "      <th>Pos_Count</th>\n",
       "      <th>Sent_Count</th>\n",
       "      <th>Count</th>\n",
       "      <th>pos_neg</th>\n",
       "      <th>pos</th>\n",
       "      <th>neg</th>\n",
       "      <th>flat</th>\n",
       "    </tr>\n",
       "  </thead>\n",
       "  <tbody>\n",
       "    <tr>\n",
       "      <th>0</th>\n",
       "      <td>2016-02-26</td>\n",
       "      <td>-0.000668</td>\n",
       "      <td>2016-02-26</td>\n",
       "      <td>20</td>\n",
       "      <td>15</td>\n",
       "      <td>-5</td>\n",
       "      <td>3</td>\n",
       "      <td>0</td>\n",
       "      <td>0</td>\n",
       "      <td>0</td>\n",
       "      <td>1</td>\n",
       "    </tr>\n",
       "    <tr>\n",
       "      <th>1</th>\n",
       "      <td>2016-05-26</td>\n",
       "      <td>-0.002005</td>\n",
       "      <td>2016-05-26</td>\n",
       "      <td>59</td>\n",
       "      <td>61</td>\n",
       "      <td>2</td>\n",
       "      <td>20</td>\n",
       "      <td>0</td>\n",
       "      <td>0</td>\n",
       "      <td>1</td>\n",
       "      <td>0</td>\n",
       "    </tr>\n",
       "    <tr>\n",
       "      <th>2</th>\n",
       "      <td>2016-06-21</td>\n",
       "      <td>-0.002062</td>\n",
       "      <td>2016-06-21</td>\n",
       "      <td>15</td>\n",
       "      <td>5</td>\n",
       "      <td>-10</td>\n",
       "      <td>8</td>\n",
       "      <td>0</td>\n",
       "      <td>0</td>\n",
       "      <td>1</td>\n",
       "      <td>0</td>\n",
       "    </tr>\n",
       "    <tr>\n",
       "      <th>3</th>\n",
       "      <td>2016-06-28</td>\n",
       "      <td>0.004960</td>\n",
       "      <td>2016-06-28</td>\n",
       "      <td>67</td>\n",
       "      <td>72</td>\n",
       "      <td>5</td>\n",
       "      <td>40</td>\n",
       "      <td>1</td>\n",
       "      <td>1</td>\n",
       "      <td>0</td>\n",
       "      <td>0</td>\n",
       "    </tr>\n",
       "    <tr>\n",
       "      <th>4</th>\n",
       "      <td>2016-09-29</td>\n",
       "      <td>-0.012142</td>\n",
       "      <td>2016-09-29</td>\n",
       "      <td>57</td>\n",
       "      <td>51</td>\n",
       "      <td>-6</td>\n",
       "      <td>4</td>\n",
       "      <td>0</td>\n",
       "      <td>0</td>\n",
       "      <td>1</td>\n",
       "      <td>0</td>\n",
       "    </tr>\n",
       "  </tbody>\n",
       "</table>\n",
       "</div>"
      ],
      "text/plain": [
       "         date    change        Date  Neg_Count  Pos_Count  Sent_Count  Count  \\\n",
       "0  2016-02-26 -0.000668  2016-02-26         20         15          -5      3   \n",
       "1  2016-05-26 -0.002005  2016-05-26         59         61           2     20   \n",
       "2  2016-06-21 -0.002062  2016-06-21         15          5         -10      8   \n",
       "3  2016-06-28  0.004960  2016-06-28         67         72           5     40   \n",
       "4  2016-09-29 -0.012142  2016-09-29         57         51          -6      4   \n",
       "\n",
       "   pos_neg  pos  neg  flat  \n",
       "0        0    0    0     1  \n",
       "1        0    0    1     0  \n",
       "2        0    0    1     0  \n",
       "3        1    1    0     0  \n",
       "4        0    0    1     0  "
      ]
     },
     "execution_count": 10,
     "metadata": {},
     "output_type": "execute_result"
    }
   ],
   "source": [
    "powell_mkt = S_cap.merge(powell_sentbydayneg, how='inner', left_on=\"date\" ,right_on=\"Date\")\n",
    "powell_mkt = powell_mkt.merge(powell_sentbydaypos, how='inner' ,on=\"Date\")\n",
    "powell_mkt =  powell_mkt.merge(powell_sentbyday, how='inner' ,on=\"Date\")\n",
    "powell_mkt =  powell_mkt.merge(powell_econ, how='inner' ,on=\"Date\")\n",
    "powell_mkt['pos_neg'] = np.where (powell_mkt['change'] > 0,1,0)\n",
    "powell_mkt['pos'] = np.where (powell_mkt['change'] > 0.002,1,0)\n",
    "powell_mkt['neg'] = np.where (powell_mkt['change'] < -0.002,1,0)\n",
    "powell_mkt['flat'] = np.where ((powell_mkt['change'] <= 0.002) & (powell_mkt['change'] >= -0.002) ,1,0)\n",
    "\n",
    "powell_mkt.head()"
   ]
  },
  {
   "cell_type": "markdown",
   "metadata": {},
   "source": [
    "Add % changes of fundamental factors as features.  Since they are monthly released data, the values of subsequent daily rows after each releasing date would be equal to their prior row until they reach the new releasing date."
   ]
  },
  {
   "cell_type": "code",
   "execution_count": 11,
   "metadata": {},
   "outputs": [],
   "source": [
    "powell_rgdp = pd.read_csv(\"./Data/RGDP.csv\")\n",
    "powell_rgdp.head()\n",
    "#powell_rgdp['Date']=pd.to_datetime(powell_rgdp['Date'])\n",
    "powell_mkt['date'] = pd.to_datetime(powell_mkt['date'])"
   ]
  },
  {
   "cell_type": "code",
   "execution_count": 12,
   "metadata": {},
   "outputs": [
    {
     "data": {
      "text/html": [
       "<div>\n",
       "<style scoped>\n",
       "    .dataframe tbody tr th:only-of-type {\n",
       "        vertical-align: middle;\n",
       "    }\n",
       "\n",
       "    .dataframe tbody tr th {\n",
       "        vertical-align: top;\n",
       "    }\n",
       "\n",
       "    .dataframe thead th {\n",
       "        text-align: right;\n",
       "    }\n",
       "</style>\n",
       "<table border=\"1\" class=\"dataframe\">\n",
       "  <thead>\n",
       "    <tr style=\"text-align: right;\">\n",
       "      <th></th>\n",
       "      <th>date</th>\n",
       "      <th>change</th>\n",
       "      <th>Date</th>\n",
       "      <th>Neg_Count</th>\n",
       "      <th>Pos_Count</th>\n",
       "      <th>Sent_Count</th>\n",
       "      <th>Count</th>\n",
       "      <th>pos_neg</th>\n",
       "      <th>pos</th>\n",
       "      <th>neg</th>\n",
       "      <th>flat</th>\n",
       "      <th>growthgap</th>\n",
       "    </tr>\n",
       "  </thead>\n",
       "  <tbody>\n",
       "    <tr>\n",
       "      <th>0</th>\n",
       "      <td>2016-02-26</td>\n",
       "      <td>-0.000668</td>\n",
       "      <td>2016-02-26</td>\n",
       "      <td>20</td>\n",
       "      <td>15</td>\n",
       "      <td>-5</td>\n",
       "      <td>3</td>\n",
       "      <td>0</td>\n",
       "      <td>0</td>\n",
       "      <td>0</td>\n",
       "      <td>1</td>\n",
       "      <td>-0.4</td>\n",
       "    </tr>\n",
       "  </tbody>\n",
       "</table>\n",
       "</div>"
      ],
      "text/plain": [
       "        date    change        Date  Neg_Count  Pos_Count  Sent_Count  Count  \\\n",
       "0 2016-02-26 -0.000668  2016-02-26         20         15          -5      3   \n",
       "\n",
       "   pos_neg  pos  neg  flat  growthgap  \n",
       "0        0    0    0     1       -0.4  "
      ]
     },
     "execution_count": 12,
     "metadata": {},
     "output_type": "execute_result"
    }
   ],
   "source": [
    "powell_mkt['growthgap']=np.nan\n",
    "for x in range(len(powell_rgdp.index)-1):\n",
    "   powell_mkt.loc[((powell_mkt['date']>= powell_rgdp.loc[x][0]) & (powell_mkt['date']< powell_rgdp.loc[x+1][0])),['growthgap']]=powell_rgdp.loc[x][3]\n",
    "powell_mkt.head(1)"
   ]
  },
  {
   "cell_type": "code",
   "execution_count": 13,
   "metadata": {},
   "outputs": [],
   "source": [
    "powell_empsit = pd.read_csv(\"./Data/empsit.csv\")\n",
    "powell_empsit.head()\n",
    "powell_mkt['date'] = pd.to_datetime(powell_mkt['date'])"
   ]
  },
  {
   "cell_type": "code",
   "execution_count": 14,
   "metadata": {},
   "outputs": [
    {
     "data": {
      "text/html": [
       "<div>\n",
       "<style scoped>\n",
       "    .dataframe tbody tr th:only-of-type {\n",
       "        vertical-align: middle;\n",
       "    }\n",
       "\n",
       "    .dataframe tbody tr th {\n",
       "        vertical-align: top;\n",
       "    }\n",
       "\n",
       "    .dataframe thead th {\n",
       "        text-align: right;\n",
       "    }\n",
       "</style>\n",
       "<table border=\"1\" class=\"dataframe\">\n",
       "  <thead>\n",
       "    <tr style=\"text-align: right;\">\n",
       "      <th></th>\n",
       "      <th>date</th>\n",
       "      <th>change</th>\n",
       "      <th>Date</th>\n",
       "      <th>Neg_Count</th>\n",
       "      <th>Pos_Count</th>\n",
       "      <th>Sent_Count</th>\n",
       "      <th>Count</th>\n",
       "      <th>pos_neg</th>\n",
       "      <th>pos</th>\n",
       "      <th>neg</th>\n",
       "      <th>flat</th>\n",
       "      <th>growthgap</th>\n",
       "      <th>job_change</th>\n",
       "    </tr>\n",
       "  </thead>\n",
       "  <tbody>\n",
       "    <tr>\n",
       "      <th>0</th>\n",
       "      <td>2016-02-26</td>\n",
       "      <td>-0.000668</td>\n",
       "      <td>2016-02-26</td>\n",
       "      <td>20</td>\n",
       "      <td>15</td>\n",
       "      <td>-5</td>\n",
       "      <td>3</td>\n",
       "      <td>0</td>\n",
       "      <td>0</td>\n",
       "      <td>0</td>\n",
       "      <td>1</td>\n",
       "      <td>-0.4</td>\n",
       "      <td>108.0</td>\n",
       "    </tr>\n",
       "  </tbody>\n",
       "</table>\n",
       "</div>"
      ],
      "text/plain": [
       "        date    change        Date  Neg_Count  Pos_Count  Sent_Count  Count  \\\n",
       "0 2016-02-26 -0.000668  2016-02-26         20         15          -5      3   \n",
       "\n",
       "   pos_neg  pos  neg  flat  growthgap  job_change  \n",
       "0        0    0    0     1       -0.4       108.0  "
      ]
     },
     "execution_count": 14,
     "metadata": {},
     "output_type": "execute_result"
    }
   ],
   "source": [
    "powell_mkt['job_change']=np.nan\n",
    "for x in range(len(powell_empsit.index)-1):\n",
    "   powell_mkt.loc[((powell_mkt['date']>= powell_empsit.loc[x][0]) & (powell_mkt['date']< powell_empsit.loc[x+1][0])),['job_change']]=powell_empsit.loc[x][1]\n",
    "#    print(wsb_mkt.loc[(wsb_mkt['date']>= wsb_empsit.loc[x][0]) & (wsb_mkt['date']< wsb_empsit.loc[x+1][0])]['job_change'])\n",
    "powell_mkt.head(1)"
   ]
  },
  {
   "cell_type": "code",
   "execution_count": 15,
   "metadata": {},
   "outputs": [
    {
     "data": {
      "text/plain": [
       "<matplotlib.legend.Legend at 0x1628dd19080>"
      ]
     },
     "execution_count": 15,
     "metadata": {},
     "output_type": "execute_result"
    },
    {
     "data": {
      "text/plain": [
       "<Figure size 432x288 with 0 Axes>"
      ]
     },
     "metadata": {},
     "output_type": "display_data"
    },
    {
     "data": {
      "image/png": "[encoded data removed]",
      "text/plain": [
       "<Figure size 1152x1152 with 7 Axes>"
      ]
     },
     "metadata": {
      "needs_background": "light"
     },
     "output_type": "display_data"
    }
   ],
   "source": [
    "powell_mkt_hm1 = powell_mkt.loc[:, [\n",
    "\"date\",\n",
    "\"change\",\n",
    "\"Neg_Count\",\n",
    "\"Pos_Count\",\n",
    "\"Sent_Count\",\n",
    "\"Count\",\n",
    "\"job_change\",\n",
    "\"growthgap\"]]\n",
    "powell_mkt_hm1.set_index('date', inplace=True)\n",
    "plt.subplots_adjust(bottom=0.25)\n",
    "powell_mkt_hm1.plot(subplots=True, figsize=(16, 16)); plt.legend(loc='best')"
   ]
  },
  {
   "cell_type": "code",
   "execution_count": 16,
   "metadata": {},
   "outputs": [
    {
     "data": {
      "image/png": "[encoded data removed]",
      "text/plain": [
       "<Figure size 432x288 with 2 Axes>"
      ]
     },
     "metadata": {
      "needs_background": "light"
     },
     "output_type": "display_data"
    }
   ],
   "source": [
    "#pps matrix plot\n",
    "powell_mkt_hm1 = powell_mkt.loc[:, [\n",
    "\n",
    "\"pos_neg\",\n",
    "\"Neg_Count\",\n",
    "\"Pos_Count\",\n",
    "\"Sent_Count\",\n",
    "#\"favorites\",\n",
    "\"Count\",\n",
    "\"job_change\",\n",
    "\"growthgap\"]]\n",
    "\n",
    "ax = sns.heatmap(pps.matrix(powell_mkt_hm1), vmin=0, vmax=1, cmap=\"Blues\", linewidths=0.5, annot=True, fmt=\".3f\")\n",
    "ax.set_xticklabels(\n",
    "    ax.get_xticklabels(),\n",
    "    rotation=45,\n",
    "    horizontalalignment='right'\n",
    ")\n",
    "bottom, top = ax.get_ylim()\n",
    "ax.set_ylim(bottom + 0.5, top - 0.5)\n",
    ";\n",
    "\n",
    "# Save Figure\n",
    "plt.savefig('./Images/powell_MCap_PPS_Matrix.png', figsize=(400,240))\n",
    "\n",
    "# Show plot\n",
    "plt.show()"
   ]
  },
  {
   "cell_type": "markdown",
   "metadata": {},
   "source": [
    "Create lag values to add to features given that signals may adjust in lagged time."
   ]
  },
  {
   "cell_type": "code",
   "execution_count": 17,
   "metadata": {},
   "outputs": [
    {
     "data": {
      "text/html": [
       "<div>\n",
       "<style scoped>\n",
       "    .dataframe tbody tr th:only-of-type {\n",
       "        vertical-align: middle;\n",
       "    }\n",
       "\n",
       "    .dataframe tbody tr th {\n",
       "        vertical-align: top;\n",
       "    }\n",
       "\n",
       "    .dataframe thead th {\n",
       "        text-align: right;\n",
       "    }\n",
       "</style>\n",
       "<table border=\"1\" class=\"dataframe\">\n",
       "  <thead>\n",
       "    <tr style=\"text-align: right;\">\n",
       "      <th></th>\n",
       "      <th>date</th>\n",
       "      <th>change</th>\n",
       "      <th>Date</th>\n",
       "      <th>Neg_Count</th>\n",
       "      <th>Pos_Count</th>\n",
       "      <th>Sent_Count</th>\n",
       "      <th>Count</th>\n",
       "      <th>pos_neg</th>\n",
       "      <th>pos</th>\n",
       "      <th>neg</th>\n",
       "      <th>...</th>\n",
       "      <th>growthgap14day</th>\n",
       "      <th>econcount14day</th>\n",
       "      <th>change14day</th>\n",
       "      <th>negcount15day</th>\n",
       "      <th>poscount15day</th>\n",
       "      <th>sentcount15day</th>\n",
       "      <th>econcount15day</th>\n",
       "      <th>job_change15day</th>\n",
       "      <th>growthgap15day</th>\n",
       "      <th>change15day</th>\n",
       "    </tr>\n",
       "  </thead>\n",
       "  <tbody>\n",
       "    <tr>\n",
       "      <th>0</th>\n",
       "      <td>2016-02-26</td>\n",
       "      <td>-0.000668</td>\n",
       "      <td>2016-02-26</td>\n",
       "      <td>20</td>\n",
       "      <td>15</td>\n",
       "      <td>-5</td>\n",
       "      <td>3</td>\n",
       "      <td>0</td>\n",
       "      <td>0</td>\n",
       "      <td>0</td>\n",
       "      <td>...</td>\n",
       "      <td>NaN</td>\n",
       "      <td>NaN</td>\n",
       "      <td>NaN</td>\n",
       "      <td>NaN</td>\n",
       "      <td>NaN</td>\n",
       "      <td>NaN</td>\n",
       "      <td>NaN</td>\n",
       "      <td>NaN</td>\n",
       "      <td>NaN</td>\n",
       "      <td>NaN</td>\n",
       "    </tr>\n",
       "  </tbody>\n",
       "</table>\n",
       "<p>1 rows × 118 columns</p>\n",
       "</div>"
      ],
      "text/plain": [
       "        date    change        Date  Neg_Count  Pos_Count  Sent_Count  Count  \\\n",
       "0 2016-02-26 -0.000668  2016-02-26         20         15          -5      3   \n",
       "\n",
       "   pos_neg  pos  neg  ...  growthgap14day  econcount14day  change14day  \\\n",
       "0        0    0    0  ...             NaN             NaN          NaN   \n",
       "\n",
       "   negcount15day  poscount15day  sentcount15day  econcount15day  \\\n",
       "0            NaN            NaN             NaN             NaN   \n",
       "\n",
       "   job_change15day  growthgap15day  change15day  \n",
       "0              NaN             NaN          NaN  \n",
       "\n",
       "[1 rows x 118 columns]"
      ]
     },
     "execution_count": 17,
     "metadata": {},
     "output_type": "execute_result"
    }
   ],
   "source": [
    "powell_mkt['negcount1day'] = powell_mkt['Neg_Count'].shift(1)\n",
    "powell_mkt['poscount1day'] = powell_mkt['Pos_Count'].shift(1)\n",
    "powell_mkt['sentcount1day'] = powell_mkt['Sent_Count'].shift(1)\n",
    "powell_mkt['econcount1day'] = powell_mkt['Count'].shift(1)\n",
    "powell_mkt['job_change1day'] = powell_mkt['job_change'].shift(1)\n",
    "powell_mkt['growthgap1day'] = powell_mkt['growthgap'].shift(1)\n",
    "powell_mkt['change1day'] = powell_mkt['change'].shift(1)\n",
    "powell_mkt['negcount2day'] = powell_mkt['Neg_Count'].shift(2)\n",
    "powell_mkt['poscount2day'] = powell_mkt['Pos_Count'].shift(2)\n",
    "powell_mkt['sentcount2day'] = powell_mkt['Sent_Count'].shift(2)\n",
    "powell_mkt['econcount2day'] = powell_mkt['Count'].shift(2)\n",
    "powell_mkt['job_change2day'] = powell_mkt['job_change'].shift(2)\n",
    "powell_mkt['growthgap2day'] = powell_mkt['growthgap'].shift(2)\n",
    "powell_mkt['change2day'] = powell_mkt['change'].shift(2)\n",
    "powell_mkt['negcount3day'] = powell_mkt['Neg_Count'].shift(3)\n",
    "powell_mkt['poscount3day'] = powell_mkt['Pos_Count'].shift(3)\n",
    "powell_mkt['sentcount3day'] = powell_mkt['Sent_Count'].shift(3)\n",
    "powell_mkt['econcount3day'] = powell_mkt['Count'].shift(3)\n",
    "powell_mkt['job_change3day'] = powell_mkt['job_change'].shift(3)\n",
    "powell_mkt['growthgap3day'] = powell_mkt['growthgap'].shift(3)\n",
    "powell_mkt['change3day'] = powell_mkt['change'].shift(3)\n",
    "powell_mkt['negcount4day'] = powell_mkt['Neg_Count'].shift(4)\n",
    "powell_mkt['poscount4day'] = powell_mkt['Pos_Count'].shift(4)\n",
    "powell_mkt['sentcount4day'] = powell_mkt['Sent_Count'].shift(4)\n",
    "powell_mkt['econcount4day'] = powell_mkt['Count'].shift(4)\n",
    "powell_mkt['job_change4day'] = powell_mkt['job_change'].shift(4)\n",
    "powell_mkt['growthgap4day'] = powell_mkt['growthgap'].shift(4)\n",
    "powell_mkt['change4day'] = powell_mkt['change'].shift(4)\n",
    "powell_mkt['negcount5day'] = powell_mkt['Neg_Count'].shift(5)\n",
    "powell_mkt['poscount5day'] = powell_mkt['Pos_Count'].shift(5)\n",
    "powell_mkt['sentcount5day'] = powell_mkt['Sent_Count'].shift(5)\n",
    "powell_mkt['econcount5day'] = powell_mkt['Count'].shift(5)\n",
    "powell_mkt['job_change5day'] = powell_mkt['job_change'].shift(5)\n",
    "powell_mkt['growthgap5day'] = powell_mkt['growthgap'].shift(5)\n",
    "powell_mkt['change5day'] = powell_mkt['change'].shift(5)\n",
    "powell_mkt['negcount6day'] = powell_mkt['Neg_Count'].shift(6)\n",
    "powell_mkt['poscount6day'] = powell_mkt['Pos_Count'].shift(6)\n",
    "powell_mkt['sentcount6day'] = powell_mkt['Sent_Count'].shift(6)\n",
    "powell_mkt['econcount6day'] = powell_mkt['Count'].shift(6)\n",
    "powell_mkt['job_change6day'] = powell_mkt['job_change'].shift(6)\n",
    "powell_mkt['growthgap6day'] = powell_mkt['growthgap'].shift(6)\n",
    "powell_mkt['change6day'] = powell_mkt['change'].shift(6)\n",
    "powell_mkt['negcount7day'] = powell_mkt['Neg_Count'].shift(7)\n",
    "powell_mkt['poscount7day'] = powell_mkt['Pos_Count'].shift(7)\n",
    "powell_mkt['sentcount7day'] = powell_mkt['Sent_Count'].shift(7)\n",
    "powell_mkt['econcount7day'] = powell_mkt['Count'].shift(7)\n",
    "powell_mkt['job_change7day'] = powell_mkt['job_change'].shift(7)\n",
    "powell_mkt['growthgap7day'] = powell_mkt['growthgap'].shift(7)\n",
    "powell_mkt['change7day'] = powell_mkt['change'].shift(7)\n",
    "powell_mkt['negcount8day'] = powell_mkt['Neg_Count'].shift(8)\n",
    "powell_mkt['poscount8day'] = powell_mkt['Pos_Count'].shift(8)\n",
    "powell_mkt['sentcount8day'] = powell_mkt['Sent_Count'].shift(8)\n",
    "powell_mkt['econcount8day'] = powell_mkt['Count'].shift(8)\n",
    "powell_mkt['job_change8day'] = powell_mkt['job_change'].shift(8)\n",
    "powell_mkt['growthgap8day'] = powell_mkt['growthgap'].shift(8)\n",
    "powell_mkt['change8day'] = powell_mkt['change'].shift(8)\n",
    "powell_mkt['negcount9day'] = powell_mkt['Neg_Count'].shift(9)\n",
    "powell_mkt['poscount9day'] = powell_mkt['Pos_Count'].shift(9)\n",
    "powell_mkt['sentcount9day'] = powell_mkt['Sent_Count'].shift(9)\n",
    "powell_mkt['econcount9day'] = powell_mkt['Count'].shift(9)\n",
    "powell_mkt['job_change9day'] = powell_mkt['job_change'].shift(9)\n",
    "powell_mkt['growthgap9day'] = powell_mkt['growthgap'].shift(9)\n",
    "powell_mkt['change9day'] = powell_mkt['change'].shift(9)\n",
    "powell_mkt['negcount10day'] = powell_mkt['Neg_Count'].shift(10)\n",
    "powell_mkt['poscount10day'] = powell_mkt['Pos_Count'].shift(10)\n",
    "powell_mkt['sentcount10day'] = powell_mkt['Sent_Count'].shift(10)\n",
    "powell_mkt['econcount10day'] = powell_mkt['Count'].shift(10)\n",
    "powell_mkt['job_change10day'] = powell_mkt['job_change'].shift(10)\n",
    "powell_mkt['growthgap10day'] = powell_mkt['growthgap'].shift(10)\n",
    "powell_mkt['change10day'] = powell_mkt['change'].shift(10)\n",
    "powell_mkt['negcount11day'] = powell_mkt['Neg_Count'].shift(11)\n",
    "powell_mkt['poscount11day'] = powell_mkt['Pos_Count'].shift(11)\n",
    "powell_mkt['sentcount11day'] = powell_mkt['Sent_Count'].shift(11)\n",
    "powell_mkt['econcount11day'] = powell_mkt['Count'].shift(11)\n",
    "powell_mkt['job_change11day'] = powell_mkt['job_change'].shift(11)\n",
    "powell_mkt['growthgap11day'] = powell_mkt['growthgap'].shift(11)\n",
    "powell_mkt['change11day'] = powell_mkt['change'].shift(11)\n",
    "powell_mkt['negcount12day'] = powell_mkt['Neg_Count'].shift(12)\n",
    "powell_mkt['poscount12day'] = powell_mkt['Pos_Count'].shift(12)\n",
    "powell_mkt['sentcount12day'] = powell_mkt['Sent_Count'].shift(12)\n",
    "powell_mkt['econcount12day'] = powell_mkt['Count'].shift(12)\n",
    "powell_mkt['job_change12day'] = powell_mkt['job_change'].shift(12)\n",
    "powell_mkt['growthgap12day'] = powell_mkt['growthgap'].shift(12)\n",
    "powell_mkt['change12day'] = powell_mkt['change'].shift(12)\n",
    "powell_mkt['negcount13day'] = powell_mkt['Neg_Count'].shift(13)\n",
    "powell_mkt['poscount13day'] = powell_mkt['Pos_Count'].shift(13)\n",
    "powell_mkt['sentcount13day'] = powell_mkt['Sent_Count'].shift(13)\n",
    "powell_mkt['econcount13day'] = powell_mkt['Count'].shift(13)\n",
    "powell_mkt['job_change13day'] = powell_mkt['job_change'].shift(13)\n",
    "powell_mkt['growthgap13day'] = powell_mkt['growthgap'].shift(13)\n",
    "powell_mkt['change13day'] = powell_mkt['change'].shift(13)\n",
    "powell_mkt['negcount14day'] = powell_mkt['Neg_Count'].shift(14)\n",
    "powell_mkt['poscount14day'] = powell_mkt['Pos_Count'].shift(14)\n",
    "powell_mkt['sentcount14day'] = powell_mkt['Sent_Count'].shift(14)\n",
    "powell_mkt['job_change14day'] = powell_mkt['job_change'].shift(14)\n",
    "powell_mkt['growthgap14day'] = powell_mkt['growthgap'].shift(14)\n",
    "powell_mkt['econcount14day'] = powell_mkt['change'].shift(14)\n",
    "powell_mkt['change14day'] = powell_mkt['change'].shift(14)\n",
    "powell_mkt['negcount15day'] = powell_mkt['Neg_Count'].shift(15)\n",
    "powell_mkt['poscount15day'] = powell_mkt['Pos_Count'].shift(15)\n",
    "powell_mkt['sentcount15day'] = powell_mkt['Sent_Count'].shift(15)\n",
    "powell_mkt['econcount15day'] = powell_mkt['Count'].shift(15)\n",
    "powell_mkt['job_change15day'] = powell_mkt['job_change'].shift(15)\n",
    "powell_mkt['growthgap15day'] = powell_mkt['growthgap'].shift(15)\n",
    "powell_mkt['change15day'] = powell_mkt['change'].shift(15)\n",
    "powell_mkt.head(1)"
   ]
  },
  {
   "cell_type": "code",
   "execution_count": 18,
   "metadata": {},
   "outputs": [],
   "source": [
    "powell_mkt.to_csv('./Data/powell_smkt.csv', index=False)"
   ]
  },
  {
   "cell_type": "code",
   "execution_count": 19,
   "metadata": {},
   "outputs": [
    {
     "name": "stdout",
     "output_type": "stream",
     "text": [
      "date\n",
      "change\n",
      "Date\n",
      "Neg_Count\n",
      "Pos_Count\n",
      "Sent_Count\n",
      "Count\n",
      "pos_neg\n",
      "pos\n",
      "neg\n",
      "flat\n",
      "growthgap\n",
      "job_change\n",
      "negcount1day\n",
      "poscount1day\n",
      "sentcount1day\n",
      "econcount1day\n",
      "job_change1day\n",
      "growthgap1day\n",
      "change1day\n",
      "negcount2day\n",
      "poscount2day\n",
      "sentcount2day\n",
      "econcount2day\n",
      "job_change2day\n",
      "growthgap2day\n",
      "change2day\n",
      "negcount3day\n",
      "poscount3day\n",
      "sentcount3day\n",
      "econcount3day\n",
      "job_change3day\n",
      "growthgap3day\n",
      "change3day\n",
      "negcount4day\n",
      "poscount4day\n",
      "sentcount4day\n",
      "econcount4day\n",
      "job_change4day\n",
      "growthgap4day\n",
      "change4day\n",
      "negcount5day\n",
      "poscount5day\n",
      "sentcount5day\n",
      "econcount5day\n",
      "job_change5day\n",
      "growthgap5day\n",
      "change5day\n",
      "negcount6day\n",
      "poscount6day\n",
      "sentcount6day\n",
      "econcount6day\n",
      "job_change6day\n",
      "growthgap6day\n",
      "change6day\n",
      "negcount7day\n",
      "poscount7day\n",
      "sentcount7day\n",
      "econcount7day\n",
      "job_change7day\n",
      "growthgap7day\n",
      "change7day\n",
      "negcount8day\n",
      "poscount8day\n",
      "sentcount8day\n",
      "econcount8day\n",
      "job_change8day\n",
      "growthgap8day\n",
      "change8day\n",
      "negcount9day\n",
      "poscount9day\n",
      "sentcount9day\n",
      "econcount9day\n",
      "job_change9day\n",
      "growthgap9day\n",
      "change9day\n",
      "negcount10day\n",
      "poscount10day\n",
      "sentcount10day\n",
      "econcount10day\n",
      "job_change10day\n",
      "growthgap10day\n",
      "change10day\n",
      "negcount11day\n",
      "poscount11day\n",
      "sentcount11day\n",
      "econcount11day\n",
      "job_change11day\n",
      "growthgap11day\n",
      "change11day\n",
      "negcount12day\n",
      "poscount12day\n",
      "sentcount12day\n",
      "econcount12day\n",
      "job_change12day\n",
      "growthgap12day\n",
      "change12day\n",
      "negcount13day\n",
      "poscount13day\n",
      "sentcount13day\n",
      "econcount13day\n",
      "job_change13day\n",
      "growthgap13day\n",
      "change13day\n",
      "negcount14day\n",
      "poscount14day\n",
      "sentcount14day\n",
      "job_change14day\n",
      "growthgap14day\n",
      "econcount14day\n",
      "change14day\n",
      "negcount15day\n",
      "poscount15day\n",
      "sentcount15day\n",
      "econcount15day\n",
      "job_change15day\n",
      "growthgap15day\n",
      "change15day\n"
     ]
    }
   ],
   "source": [
    "for x in powell_mkt.columns:\n",
    "    print(x)"
   ]
  },
  {
   "cell_type": "markdown",
   "metadata": {},
   "source": [
    "Machine Learning Models: RandomForesRegression & Ridge for the model with % change of prices for SPY, MDY and IJR as labels; RandomClassifier and LogisticRegressor for the models with labels as classifiers of price change directions -- up or down. The RandomFlorest models also oberve feature importance and decision trees. "
   ]
  },
  {
   "cell_type": "code",
   "execution_count": 20,
   "metadata": {},
   "outputs": [
    {
     "data": {
      "text/html": [
       "<div>\n",
       "<style scoped>\n",
       "    .dataframe tbody tr th:only-of-type {\n",
       "        vertical-align: middle;\n",
       "    }\n",
       "\n",
       "    .dataframe tbody tr th {\n",
       "        vertical-align: top;\n",
       "    }\n",
       "\n",
       "    .dataframe thead th {\n",
       "        text-align: right;\n",
       "    }\n",
       "</style>\n",
       "<table border=\"1\" class=\"dataframe\">\n",
       "  <thead>\n",
       "    <tr style=\"text-align: right;\">\n",
       "      <th></th>\n",
       "      <th>Neg_Count</th>\n",
       "      <th>Pos_Count</th>\n",
       "      <th>Count</th>\n",
       "      <th>growthgap</th>\n",
       "      <th>job_change</th>\n",
       "    </tr>\n",
       "    <tr>\n",
       "      <th>date</th>\n",
       "      <th></th>\n",
       "      <th></th>\n",
       "      <th></th>\n",
       "      <th></th>\n",
       "      <th></th>\n",
       "    </tr>\n",
       "  </thead>\n",
       "  <tbody>\n",
       "    <tr>\n",
       "      <th>2017-06-26</th>\n",
       "      <td>26</td>\n",
       "      <td>33</td>\n",
       "      <td>2</td>\n",
       "      <td>1.1</td>\n",
       "      <td>141.0</td>\n",
       "    </tr>\n",
       "  </tbody>\n",
       "</table>\n",
       "</div>"
      ],
      "text/plain": [
       "            Neg_Count  Pos_Count  Count  growthgap  job_change\n",
       "date                                                          \n",
       "2017-06-26         26         33      2        1.1       141.0"
      ]
     },
     "execution_count": 20,
     "metadata": {},
     "output_type": "execute_result"
    }
   ],
   "source": [
    "powell_mkt.dropna(inplace=True)\n",
    "powell_smkt_x = powell_mkt.iloc[:, np.r_[0, 3:5, 6:7, 11:13]] #1 %Change (y_3)\n",
    "#powell_smkt_x = powell_mkt.iloc[:, np.r_[0, 3:5, 6:7, 11:13]] #2 Classification Change (y_1)\n",
    "#powell_smkt_x = powell_mkt.iloc[:, np.r_[0, 3:5, 6:7]] #3 y_1 Neg_Count, Pos_Count, Count\n",
    "\n",
    "powell_smkt_x.set_index(\"date\", inplace=True)\n",
    "powell_smkt_y1 = powell_mkt['pos_neg']\n",
    "powell_smkt_y2 = powell_mkt[['pos','neg','flat']]\n",
    "powell_smkt_y3 = powell_mkt[['change']]\n",
    "powell_smkt_x.head(1)\n",
    "#powell_smkt_x.to_csv('./Data/powell_smkt_x.csv', index=True)\n",
    "#powell_smkt_y1.to_csv('./Data/powell_smkt_y1.csv', index=False)"
   ]
  },
  {
   "cell_type": "code",
   "execution_count": 21,
   "metadata": {},
   "outputs": [
    {
     "name": "stdout",
     "output_type": "stream",
     "text": [
      "-0.7690328415233774\n",
      "-0.09027808289945449\n"
     ]
    }
   ],
   "source": [
    "X_train, X_test,y_train,y_test = train_test_split(powell_smkt_x, powell_smkt_y3, test_size = 0.33,random_state=42)\n",
    "regr = RandomForestRegressor()\n",
    "regr.fit(X_train,y_train)\n",
    "print(regr.score(X_test, y_test))\n",
    "\n",
    "#1 %Change\n",
    "\n",
    "ridge = Ridge()\n",
    "ridge.fit(X_train,y_train)\n",
    "print(ridge.score(X_test, y_test))\n",
    "# regr.predict_proba(X_test)"
   ]
  },
  {
   "cell_type": "code",
   "execution_count": 27,
   "metadata": {},
   "outputs": [],
   "source": [
    "powell_mkt.dropna(inplace=True)\n",
    "#powell_smkt_x = powell_mkt.iloc[:, np.r_[0, 3:5, 6:7, 11:13]] #1 %Change (y_3)\n",
    "powell_smkt_x = powell_mkt.iloc[:, np.r_[0, 3:5, 6:7, 11:13]] #2 Classification Change (y_1)\n",
    "#powell_smkt_x = powell_mkt.iloc[:, np.r_[0, 3:5, 6:7]] #3 y_1, Pos_Count, Neg_Count, Count\n",
    "\n",
    "powell_smkt_x.set_index(\"date\", inplace=True)\n",
    "powell_smkt_y1 = powell_mkt['pos_neg']\n",
    "powell_smkt_y2 = powell_mkt[['pos','neg','flat']]\n",
    "powell_smkt_y3 = powell_mkt[['change']]\n",
    "#powell_smkt_x.head(1)\n",
    "#powell_smkt_x.to_csv('./Data/powell_smkt_x.csv', index=True)\n",
    "#powell_smkt_y1.to_csv('./Data/powell_smkt_y1.csv', index=False)"
   ]
  },
  {
   "cell_type": "code",
   "execution_count": 32,
   "metadata": {},
   "outputs": [
    {
     "name": "stdout",
     "output_type": "stream",
     "text": [
      "0.3333333333333333\n"
     ]
    }
   ],
   "source": [
    "X_train, X_test,y_train,y_test = train_test_split(powell_smkt_x, powell_smkt_y1, test_size = 0.33,random_state=42)\n",
    "from sklearn.ensemble import RandomForestClassifier\n",
    "\n",
    "regr = RandomForestClassifier()\n",
    "regr.fit(X_train,y_train)\n",
    "print(regr.score(X_test, y_test))\n",
    "\n",
    "#2 Pos_Count, Neg_Count, Count, job_change, growthgap\n",
    "\n",
    "from sklearn.linear_model import RidgeClassifier\n",
    "\n",
    "# ridge = RidgeClassifier()\n",
    "# ridge.fit(X_train,y_train)\n",
    "# print(ridge.score(X_test, y_test))\n",
    "# regr.predict_proba(X_test)\n"
   ]
  },
  {
   "cell_type": "code",
   "execution_count": 24,
   "metadata": {},
   "outputs": [
    {
     "data": {
      "text/html": [
       "<div>\n",
       "<style scoped>\n",
       "    .dataframe tbody tr th:only-of-type {\n",
       "        vertical-align: middle;\n",
       "    }\n",
       "\n",
       "    .dataframe tbody tr th {\n",
       "        vertical-align: top;\n",
       "    }\n",
       "\n",
       "    .dataframe thead th {\n",
       "        text-align: right;\n",
       "    }\n",
       "</style>\n",
       "<table border=\"1\" class=\"dataframe\">\n",
       "  <thead>\n",
       "    <tr style=\"text-align: right;\">\n",
       "      <th></th>\n",
       "      <th>Neg_Count</th>\n",
       "      <th>Pos_Count</th>\n",
       "      <th>Count</th>\n",
       "    </tr>\n",
       "    <tr>\n",
       "      <th>date</th>\n",
       "      <th></th>\n",
       "      <th></th>\n",
       "      <th></th>\n",
       "    </tr>\n",
       "  </thead>\n",
       "  <tbody>\n",
       "    <tr>\n",
       "      <th>2017-06-26</th>\n",
       "      <td>26</td>\n",
       "      <td>33</td>\n",
       "      <td>2</td>\n",
       "    </tr>\n",
       "  </tbody>\n",
       "</table>\n",
       "</div>"
      ],
      "text/plain": [
       "            Neg_Count  Pos_Count  Count\n",
       "date                                   \n",
       "2017-06-26         26         33      2"
      ]
     },
     "execution_count": 24,
     "metadata": {},
     "output_type": "execute_result"
    }
   ],
   "source": [
    "powell_mkt.dropna(inplace=True)\n",
    "#powell_smkt_x = powell_mkt.iloc[:, np.r_[0, 3:5, 6:7, 11:13]] #1 %Change\n",
    "#powell_smkt_x = powell_mkt.iloc[:, np.r_[0, 3:5, 6:7, 11:13]] #2 Pos_Count, Neg_Count, Count, job_change, growthgap\n",
    "powell_smkt_x = powell_mkt.iloc[:, np.r_[0, 3:5, 6:7]] #3 Pos_Count, Neg_Count, Count\n",
    "\n",
    "powell_smkt_x.set_index(\"date\", inplace=True)\n",
    "powell_smkt_y1 = powell_mkt['pos_neg']\n",
    "powell_smkt_y2 = powell_mkt[['pos','neg','flat']]\n",
    "powell_smkt_y3 = powell_mkt[['change']]\n",
    "powell_smkt_x.head(1)\n",
    "#powell_smkt_x.to_csv('./Data/powell_smkt_x.csv', index=True)\n",
    "#powell_smkt_y1.to_csv('./Data/powell_smkt_y1.csv', index=False)"
   ]
  },
  {
   "cell_type": "code",
   "execution_count": null,
   "metadata": {},
   "outputs": [],
   "source": [
    "X_train, X_test,y_train,y_test = train_test_split(powell_smkt_x, powell_smkt_y1, test_size = 0.33,random_state=42)\n",
    "regr = RandomForestClassifier()\n",
    "regr.fit(X_train,y_train)\n",
    "print(regr.score(X_test, y_test))\n",
    "\n",
    "#3 Pos_Count, Neg_Count, Count\n",
    "\n",
    "ridge = RidgeClassifier()\n",
    "ridge.fit(X_train,y_train)\n",
    "print(ridge.score(X_test, y_test))\n",
    "# regr.predict_proba(X_test)"
   ]
  },
  {
   "cell_type": "code",
   "execution_count": null,
   "metadata": {},
   "outputs": [],
   "source": [
    "powell_mkt.dropna(inplace=True)\n",
    "#powell_smkt_x = powell_mkt.iloc[:, np.r_[0, 3:5, 6:7, 11:13]] #1 %Change\n",
    "#powell_smkt_x = powell_mkt.iloc[:, np.r_[0, 3:5, 6:7, 11:13]] #2 Pos_Count, Neg_Count, Count, job_change, growthgap\n",
    "#powell_smkt_x = powell_mkt.iloc[:, np.r_[0, 3:5, 6:7]] #3 Pos_Count, Neg_Count, Count\n",
    "powell_smkt_x = powell_mkt.iloc[:, np.r_[0, 5:6, 6:7]] #4 Sent_Count, Count\n",
    "#powell_smkt_x = powell_mkt.iloc[:, np.r_[0, 5:6]] #4.1 Sent_Count\n",
    "\n",
    "powell_smkt_x.set_index(\"date\", inplace=True)\n",
    "powell_smkt_y1 = powell_mkt['pos_neg']\n",
    "powell_smkt_y2 = powell_mkt[['pos','neg','flat']]\n",
    "powell_smkt_y3 = powell_mkt[['change']]\n",
    "powell_smkt_x.head(1)\n",
    "#powell_smkt_x.to_csv('./Data/powell_smkt_x.csv', index=True)\n",
    "#powell_smkt_y1.to_csv('./Data/powell_smkt_y1.csv', index=False)"
   ]
  },
  {
   "cell_type": "code",
   "execution_count": null,
   "metadata": {},
   "outputs": [],
   "source": [
    "X_train, X_test,y_train,y_test = train_test_split(powell_smkt_x, powell_smkt_y1, test_size = 0.33,random_state=42)\n",
    "regr = RandomForestClassifier()\n",
    "regr.fit(X_train,y_train)\n",
    "print(regr.score(X_test, y_test))\n",
    "\n",
    "\n",
    "#4.1 Sent_Count\n",
    "\n",
    "ridge = RidgeClassifier()\n",
    "ridge.fit(X_train,y_train)\n",
    "print(ridge.score(X_test, y_test))\n",
    "# regr.predict_proba(X_test)"
   ]
  },
  {
   "cell_type": "code",
   "execution_count": 26,
   "metadata": {},
   "outputs": [
    {
     "name": "stdout",
     "output_type": "stream",
     "text": [
      "0.25\n",
      "0.6666666666666666\n"
     ]
    }
   ],
   "source": [
    "X_train, X_test,y_train,y_test = train_test_split(powell_smkt_x, powell_smkt_y1, test_size = 0.33,random_state=42)\n",
    "regr = RandomForestClassifier()\n",
    "regr.fit(X_train,y_train)\n",
    "print(regr.score(X_test, y_test))\n",
    "\n",
    "#4 Sent_Count, Count\n",
    "\n",
    "ridge = RidgeClassifier()\n",
    "ridge.fit(X_train,y_train)\n",
    "print(ridge.score(X_test, y_test))\n",
    "# regr.predict_proba(X_test)"
   ]
  },
  {
   "cell_type": "code",
   "execution_count": null,
   "metadata": {},
   "outputs": [],
   "source": [
    "powell_mkt.dropna(inplace=True)\n",
    "#powell_smkt_x = powell_mkt.iloc[:, np.r_[0, 3:5, 6:7, 11:13]] #5.1 with 1 lag\n",
    "powell_smkt_x = powell_mkt.iloc[:, np.r_[0, 3:5, 6:7, 13:15, 16:17, 19:20]] #5 with 1 lag\n",
    "#powell_smkt_x = powell_mkt.iloc[:, np.r_[0, 3:5, 6:7, 13:15, 16:17, 19:22, 23:24, 26:29, 30:31,33:36, 37:38, 40:43, 44:45, 47:50, 51:52, 54:57, 58:59, 61:62]] #6 with 7 lags\n",
    "#powell_smkt_x = powell_mkt.iloc[:, np.r_[0, 3:5, 6:7, 13:15, 16:17, 19:22, 23:24, 26:29, 30:31,33:36, 37:38, 40:43, 44:45, 47:50, 51:52, 54:57, 58:59, 61:64, 65:66, 68:71, 72:73, 75:78, 79:80, 82:85, 86:87, 89:92, 93:94, 96:99, 100:101, 103:106, 107:108, 110-113, 114:115, 117:118]] #7 with 15 lags\n",
    "\n",
    "powell_smkt_x.set_index(\"date\", inplace=True)\n",
    "powell_smkt_y1 = powell_mkt['pos_neg']\n",
    "powell_smkt_y2 = powell_mkt[['pos','neg','flat']]\n",
    "powell_smkt_y3 = powell_mkt[['change']]\n",
    "powell_smkt_x.head(1)\n",
    "#powell_smkt_x.to_csv('./Data/powell_smkt_x.csv', index=True)\n",
    "#powell_smkt_y1.to_csv('./Data/powell_smkt_y1.csv', index=False)"
   ]
  },
  {
   "cell_type": "code",
   "execution_count": null,
   "metadata": {},
   "outputs": [],
   "source": [
    "X_train, X_test,y_train,y_test = train_test_split(powell_smkt_x, powell_smkt_y1, test_size = 0.33,random_state=42)\n",
    "regr = RandomForestClassifier()\n",
    "regr.fit(X_train,y_train)\n",
    "print(regr.score(X_test, y_test))\n",
    "\n",
    "#5 with 1 lag\n",
    "\n",
    "ridge = RidgeClassifier()\n",
    "ridge.fit(X_train,y_train)\n",
    "print(ridge.score(X_test, y_test))\n",
    "# regr.predict_proba(X_test)\n",
    "\n",
    "sorted(zip(regr.feature_importances_, powell_mkt.iloc[:, np.r_[5:6, 15:20]]), reverse=True)"
   ]
  },
  {
   "cell_type": "code",
   "execution_count": null,
   "metadata": {},
   "outputs": [],
   "source": [
    "X_train, X_test,y_train,y_test = train_test_split(powell_smkt_x, powell_smkt_y1, test_size = 0.33,random_state=42)\n",
    "regr = RandomForestClassifier()\n",
    "regr.fit(X_train,y_train)\n",
    "print(regr.score(X_test, y_test))\n",
    "\n",
    "\n",
    "#6 with 7 lags\n",
    "\n",
    "ridge = RidgeClassifier()\n",
    "ridge.fit(X_train,y_train)\n",
    "print(ridge.score(X_test, y_test))\n",
    "# regr.predict_proba(X_test)\n",
    "\n",
    "sorted(zip(regr.feature_importances_, powell_mkt.iloc[:, np.r_[5:6, 15:20, 22:27, 29:34, 36:41, 43:48, 50:55, 57:62]]), reverse=True)"
   ]
  },
  {
   "cell_type": "code",
   "execution_count": null,
   "metadata": {},
   "outputs": [],
   "source": [
    "X_train, X_test,y_train,y_test = train_test_split(powell_smkt_x, powell_smkt_y1, test_size = 0.33,random_state=42)\n",
    "regr = RandomForestClassifier()\n",
    "regr.fit(X_train,y_train)\n",
    "print(regr.score(X_test, y_test))\n",
    "\n",
    "\n",
    "#7 with 15 lags\n",
    "\n",
    "ridge = RidgeClassifier()\n",
    "ridge.fit(X_train,y_train)\n",
    "print(ridge.score(X_test, y_test))\n",
    "# regr.predict_proba(X_test)\n",
    "\n",
    "sorted(zip(regr.feature_importances_, powell_mkt.iloc[:, np.r_[5:6, 15:20, 22:27, 29:34, 36:41, 43:48, 50:55, 57:62, 64:69, 71:76, 78:83, 85:90, 92:97, 99:104, 106:111, 113:118]]), reverse=True)"
   ]
  },
  {
   "cell_type": "code",
   "execution_count": null,
   "metadata": {},
   "outputs": [],
   "source": []
  },
  {
   "cell_type": "code",
   "execution_count": null,
   "metadata": {},
   "outputs": [],
   "source": [
    "powell_mkt.dropna(inplace=True)\n",
    "#powell_smkt_x = powell_mkt.iloc[:, np.r_[0, 3:5, 6:7, 11:13]] #1 %Change\n",
    "#powell_smkt_x = powell_mkt.iloc[:, np.r_[0, 3:5, 6:7, 11:13]] #2 Pos_Count, Neg_Count, Count, job_change, growthgap\n",
    "powell_smkt_x = powell_mkt.iloc[:, np.r_[0, 3:5, 6:7]] #3 Pos_Count, Neg_Count, Count\n",
    "\n",
    "powell_smkt_x.set_index(\"date\", inplace=True)\n",
    "powell_smkt_y1 = powell_mkt['pos_neg']\n",
    "powell_smkt_y2 = powell_mkt[['pos','neg','flat']]\n",
    "powell_smkt_y3 = powell_mkt[['change']]\n",
    "powell_smkt_x.head(1)\n",
    "powell_smkt_x.to_csv('./Data/powell_smkt_x.csv', index=True)\n",
    "powell_smkt_y1.to_csv('./Data/powell_smkt_y1.csv', index=False)"
   ]
  },
  {
   "cell_type": "code",
   "execution_count": null,
   "metadata": {},
   "outputs": [],
   "source": [
    "X_train, X_test,y_train,y_test = train_test_split(powell_smkt_x, powell_smkt_y1, test_size = 0.33,random_state=42)\n",
    "regr = RandomForestClassifier()\n",
    "regr.fit(X_train,y_train)\n",
    "print(regr.score(X_test, y_test))\n",
    "regrfn.predict_proba(X_test)\n",
    "\n",
    "#3 Pos_Count, Neg_Count, Count\n",
    "\n",
    "ridge = RidgeClassifier()\n",
    "ridge.fit(X_train,y_train)\n",
    "print(ridge.score(X_test, y_test))\n",
    "\n",
    "\n",
    "sorted(zip(regrfn.feature_importances_, powell_mkt.iloc[:, np.r_[3:5, 6:7]]), reverse=True)"
   ]
  },
  {
   "cell_type": "code",
   "execution_count": null,
   "metadata": {},
   "outputs": [],
   "source": [
    "# Calculate classification report\n",
    "from sklearn.metrics import classification_report\n",
    "y_pred = ridge.predict(X_test)\n",
    "print(classification_report(y_test, y_pred))"
   ]
  },
  {
   "cell_type": "code",
   "execution_count": null,
   "metadata": {},
   "outputs": [],
   "source": [
    "from sklearn.metrics import mean_squared_error, accuracy_score, confusion_matrix, classification_report\n",
    "confusion_matrix(y_test, y_pred)"
   ]
  },
  {
   "cell_type": "code",
   "execution_count": null,
   "metadata": {},
   "outputs": [],
   "source": [
    "# Get and reshape confusion matrix data\n",
    "matrix = confusion_matrix(y_test, y_pred)\n",
    "matrix = matrix.astype('float') / matrix.sum(axis=1)[:, np.newaxis]\n",
    "# Build the plot\n",
    "plt.figure(figsize=(10,5))\n",
    "sns.set(font_scale=1.4)\n",
    "sns.heatmap(matrix, annot=True, annot_kws={'size':10},\n",
    "            cmap=plt.cm.Greens, linewidths=0.2)\n",
    "# Add labels to the plot\n",
    "class_names = ['pos_neg=down', 'pos_neg=up']\n",
    "tick_marks = np.arange(len(class_names))\n",
    "tick_marks2 = tick_marks + 0.5\n",
    "plt.xticks(tick_marks, class_names, rotation=25)\n",
    "plt.yticks(tick_marks2, class_names, rotation=0)\n",
    "plt.xlabel('Predicted label')\n",
    "plt.ylabel('True label')\n",
    "plt.title('Confusion Matrix for Random Forest Model')\n",
    "plt.savefig('./Images/powell_SCap_rf_y_pred4_confusion_matrix.png', bbox_inches=\"tight\")\n",
    "plt.show()"
   ]
  },
  {
   "cell_type": "code",
   "execution_count": null,
   "metadata": {},
   "outputs": [],
   "source": [
    "from sklearn.metrics import roc_auc_score\n",
    "roc_auc_score(y_test, y_pred)"
   ]
  },
  {
   "cell_type": "code",
   "execution_count": null,
   "metadata": {},
   "outputs": [],
   "source": [
    "from sklearn.metrics import roc_curve\n",
    "from sklearn.metrics import auc\n",
    "\n",
    "# Compute fpr, tpr, thresholds and roc auc\n",
    "fpr, tpr, thresholds = roc_curve(y_test, y_pred)\n",
    "roc_auc = auc(fpr, tpr)\n",
    "\n",
    "# Plot ROC curve\n",
    "plt.plot(fpr, tpr, label='ROC curve (area = %0.3f)' % roc_auc)\n",
    "plt.plot([0, 1], [0, 1], 'k--')  # random predictions curve\n",
    "plt.xlim([0.0, 1.0])\n",
    "plt.ylim([0.0, 1.0])\n",
    "plt.xlabel('False Positive Rate or (1 - Specifity)')\n",
    "plt.ylabel('True Positive Rate or (Sensitivity)')\n",
    "plt.title('PowellEffect SCharacteristic/RandomForest Model')\n",
    "plt.legend(loc=\"lower right\")\n",
    "plt.savefig('./Images/powell_SCap_rf_y_pred4.png', bbox_inches=\"tight\")"
   ]
  },
  {
   "cell_type": "code",
   "execution_count": null,
   "metadata": {},
   "outputs": [],
   "source": [
    "#pps matrix plot\n",
    "powell_mkt_hm1 = powell_mkt.loc[:, [\n",
    "    \n",
    "\"pos_neg\",\n",
    "\"Neg_Count\",\n",
    "\"Pos_Count\",\n",
    "\"Count\",\n",
    "\n",
    "]]\n",
    "\n",
    "ax = sns.heatmap(pps.matrix(powell_mkt_hm1), vmin=0, vmax=1, cmap=\"Blues\", linewidths=0.5, annot=True, fmt=\".3f\")\n",
    "ax.set_xticklabels(\n",
    "    ax.get_xticklabels(),\n",
    "    rotation=45,\n",
    "    horizontalalignment='right'\n",
    ")\n",
    "bottom, top = ax.get_ylim()\n",
    "ax.set_ylim(bottom + 0.5, top - 0.5)\n",
    ";\n",
    "\n",
    "# Save Figure\n",
    "plt.savefig('./Images/powell_SCapM_PPS_Matrix4.png', bbox_inches=\"tight\")\n",
    "\n",
    "# Show plot\n",
    "plt.show()"
   ]
  },
  {
   "cell_type": "code",
   "execution_count": null,
   "metadata": {},
   "outputs": [],
   "source": [
    "filename6 = 'powell_smcap2_model.sav'\n",
    "pickle.dump(regrfn, open(filename6, 'wb'))"
   ]
  }
 ],
 "metadata": {
  "kernelspec": {
   "display_name": "Python 3",
   "language": "python",
   "name": "python3"
  },
  "language_info": {
   "codemirror_mode": {
    "name": "ipython",
    "version": 3
   },
   "file_extension": ".py",
   "mimetype": "text/x-python",
   "name": "python",
   "nbconvert_exporter": "python",
   "pygments_lexer": "ipython3",
   "version": "3.6.9"
  }
 },
 "nbformat": 4,
 "nbformat_minor": 2
}
