{
 "cells": [
  {
   "cell_type": "code",
   "execution_count": 257,
   "metadata": {},
   "outputs": [],
   "source": [
    "%matplotlib inline\n",
    "# Dependencies and Setup\n",
    "import pandas as pd\n",
    "import numpy as np\n",
    "import pickle\n",
    "from sklearn.ensemble import RandomForestRegressor\n",
    "from sklearn.model_selection import train_test_split\n",
    "from sklearn.linear_model import Ridge\n",
    "from sklearn.tree import DecisionTreeClassifier # Import Decision Tree Classifier\n",
    "from sklearn.tree import export_graphviz\n",
    "from sklearn import metrics #Import scikit-learn metrics module for accuracy calculation\n",
    "import matplotlib.pyplot as plt\n",
    "import matplotlib\n",
    "from matplotlib.widgets import Slider\n",
    "import seaborn as sns; sns.set()\n",
    "import ppscore as pps\n",
    "import seaborn as seabornInstance \n"
   ]
  },
  {
   "cell_type": "code",
   "execution_count": 258,
   "metadata": {},
   "outputs": [],
   "source": [
    "import warnings\n",
    "warnings.filterwarnings('ignore')"
   ]
  },
  {
   "cell_type": "markdown",
   "metadata": {},
   "source": [
    "Read all files as indicated in subsequent cells containing data for labels and NLP formulated features of our project."
   ]
  },
  {
   "cell_type": "code",
   "execution_count": 259,
   "metadata": {},
   "outputs": [
    {
     "data": {
      "text/html": [
       "<div>\n",
       "<style scoped>\n",
       "    .dataframe tbody tr th:only-of-type {\n",
       "        vertical-align: middle;\n",
       "    }\n",
       "\n",
       "    .dataframe tbody tr th {\n",
       "        vertical-align: top;\n",
       "    }\n",
       "\n",
       "    .dataframe thead th {\n",
       "        text-align: right;\n",
       "    }\n",
       "</style>\n",
       "<table border=\"1\" class=\"dataframe\">\n",
       "  <thead>\n",
       "    <tr style=\"text-align: right;\">\n",
       "      <th></th>\n",
       "      <th>date</th>\n",
       "      <th>change</th>\n",
       "    </tr>\n",
       "  </thead>\n",
       "  <tbody>\n",
       "    <tr>\n",
       "      <th>4068</th>\n",
       "      <td>2016-01-04</td>\n",
       "      <td>0.002644</td>\n",
       "    </tr>\n",
       "  </tbody>\n",
       "</table>\n",
       "</div>"
      ],
      "text/plain": [
       "            date    change\n",
       "4068  2016-01-04  0.002644"
      ]
     },
     "execution_count": 259,
     "metadata": {},
     "output_type": "execute_result"
    }
   ],
   "source": [
    "L_cap = pd.read_csv(\"./data/stock_spy.csv\")\n",
    "L_cap = L_cap.loc[L_cap['date']>'2016-01-01']\n",
    "L_cap = L_cap.loc[:, [\"date\", \"change\"]]\n",
    "L_cap.head(1)"
   ]
  },
  {
   "cell_type": "code",
   "execution_count": 260,
   "metadata": {},
   "outputs": [
    {
     "data": {
      "text/html": [
       "<div>\n",
       "<style scoped>\n",
       "    .dataframe tbody tr th:only-of-type {\n",
       "        vertical-align: middle;\n",
       "    }\n",
       "\n",
       "    .dataframe tbody tr th {\n",
       "        vertical-align: top;\n",
       "    }\n",
       "\n",
       "    .dataframe thead th {\n",
       "        text-align: right;\n",
       "    }\n",
       "</style>\n",
       "<table border=\"1\" class=\"dataframe\">\n",
       "  <thead>\n",
       "    <tr style=\"text-align: right;\">\n",
       "      <th></th>\n",
       "      <th>date</th>\n",
       "      <th>change</th>\n",
       "    </tr>\n",
       "  </thead>\n",
       "  <tbody>\n",
       "    <tr>\n",
       "      <th>4068</th>\n",
       "      <td>2016-01-04</td>\n",
       "      <td>0.003601</td>\n",
       "    </tr>\n",
       "  </tbody>\n",
       "</table>\n",
       "</div>"
      ],
      "text/plain": [
       "            date    change\n",
       "4068  2016-01-04  0.003601"
      ]
     },
     "execution_count": 260,
     "metadata": {},
     "output_type": "execute_result"
    }
   ],
   "source": [
    "M_cap = pd.read_csv(\"./data/stock_mdy.csv\")\n",
    "M_cap = M_cap.loc[M_cap['date']>'2016-01-01']\n",
    "M_cap = M_cap.loc[:, [\"date\", \"change\"]]\n",
    "M_cap.head(1)"
   ]
  },
  {
   "cell_type": "code",
   "execution_count": 261,
   "metadata": {},
   "outputs": [
    {
     "data": {
      "text/html": [
       "<div>\n",
       "<style scoped>\n",
       "    .dataframe tbody tr th:only-of-type {\n",
       "        vertical-align: middle;\n",
       "    }\n",
       "\n",
       "    .dataframe tbody tr th {\n",
       "        vertical-align: top;\n",
       "    }\n",
       "\n",
       "    .dataframe thead th {\n",
       "        text-align: right;\n",
       "    }\n",
       "</style>\n",
       "<table border=\"1\" class=\"dataframe\">\n",
       "  <thead>\n",
       "    <tr style=\"text-align: right;\">\n",
       "      <th></th>\n",
       "      <th>date</th>\n",
       "      <th>change</th>\n",
       "    </tr>\n",
       "  </thead>\n",
       "  <tbody>\n",
       "    <tr>\n",
       "      <th>3924</th>\n",
       "      <td>2016-01-04</td>\n",
       "      <td>-0.006651</td>\n",
       "    </tr>\n",
       "  </tbody>\n",
       "</table>\n",
       "</div>"
      ],
      "text/plain": [
       "            date    change\n",
       "3924  2016-01-04 -0.006651"
      ]
     },
     "execution_count": 261,
     "metadata": {},
     "output_type": "execute_result"
    }
   ],
   "source": [
    "S_cap = pd.read_csv(\"./data/stock_ijr.csv\")\n",
    "S_cap = S_cap.loc[S_cap['date']>'2016-01-01']\n",
    "S_cap = S_cap.loc[:, [\"date\", \"change\"]]\n",
    "S_cap.head(1)"
   ]
  },
  {
   "cell_type": "code",
   "execution_count": 262,
   "metadata": {},
   "outputs": [
    {
     "data": {
      "text/html": [
       "<div>\n",
       "<style scoped>\n",
       "    .dataframe tbody tr th:only-of-type {\n",
       "        vertical-align: middle;\n",
       "    }\n",
       "\n",
       "    .dataframe tbody tr th {\n",
       "        vertical-align: top;\n",
       "    }\n",
       "\n",
       "    .dataframe thead th {\n",
       "        text-align: right;\n",
       "    }\n",
       "</style>\n",
       "<table border=\"1\" class=\"dataframe\">\n",
       "  <thead>\n",
       "    <tr style=\"text-align: right;\">\n",
       "      <th></th>\n",
       "      <th>Date</th>\n",
       "      <th>Count</th>\n",
       "    </tr>\n",
       "  </thead>\n",
       "  <tbody>\n",
       "    <tr>\n",
       "      <th>540</th>\n",
       "      <td>2016-01-02</td>\n",
       "      <td>2</td>\n",
       "    </tr>\n",
       "  </tbody>\n",
       "</table>\n",
       "</div>"
      ],
      "text/plain": [
       "           Date  Count\n",
       "540  2016-01-02      2"
      ]
     },
     "execution_count": 262,
     "metadata": {},
     "output_type": "execute_result"
    }
   ],
   "source": [
    "trump_econ = pd.read_csv(\"./data/trump_daydf_count.csv\")\n",
    "trump_econ.sort_values(by=['Date'], inplace=True, ascending=True)\n",
    "trump_econ.head(1)"
   ]
  },
  {
   "cell_type": "code",
   "execution_count": 263,
   "metadata": {},
   "outputs": [
    {
     "data": {
      "text/html": [
       "<div>\n",
       "<style scoped>\n",
       "    .dataframe tbody tr th:only-of-type {\n",
       "        vertical-align: middle;\n",
       "    }\n",
       "\n",
       "    .dataframe tbody tr th {\n",
       "        vertical-align: top;\n",
       "    }\n",
       "\n",
       "    .dataframe thead th {\n",
       "        text-align: right;\n",
       "    }\n",
       "</style>\n",
       "<table border=\"1\" class=\"dataframe\">\n",
       "  <thead>\n",
       "    <tr style=\"text-align: right;\">\n",
       "      <th></th>\n",
       "      <th>day</th>\n",
       "      <th>favorites</th>\n",
       "    </tr>\n",
       "  </thead>\n",
       "  <tbody>\n",
       "    <tr>\n",
       "      <th>0</th>\n",
       "      <td>2016-01-01</td>\n",
       "      <td>68955</td>\n",
       "    </tr>\n",
       "  </tbody>\n",
       "</table>\n",
       "</div>"
      ],
      "text/plain": [
       "          day  favorites\n",
       "0  2016-01-01      68955"
      ]
     },
     "execution_count": 263,
     "metadata": {},
     "output_type": "execute_result"
    }
   ],
   "source": [
    "trump_favd = pd.read_csv(\"./data/trump_favd_count.csv\")\n",
    "\n",
    "trump_favd.head(1)"
   ]
  },
  {
   "cell_type": "code",
   "execution_count": 264,
   "metadata": {},
   "outputs": [
    {
     "data": {
      "text/html": [
       "<div>\n",
       "<style scoped>\n",
       "    .dataframe tbody tr th:only-of-type {\n",
       "        vertical-align: middle;\n",
       "    }\n",
       "\n",
       "    .dataframe tbody tr th {\n",
       "        vertical-align: top;\n",
       "    }\n",
       "\n",
       "    .dataframe thead th {\n",
       "        text-align: right;\n",
       "    }\n",
       "</style>\n",
       "<table border=\"1\" class=\"dataframe\">\n",
       "  <thead>\n",
       "    <tr style=\"text-align: right;\">\n",
       "      <th></th>\n",
       "      <th>Date</th>\n",
       "      <th>Sent_Count</th>\n",
       "    </tr>\n",
       "  </thead>\n",
       "  <tbody>\n",
       "    <tr>\n",
       "      <th>1813</th>\n",
       "      <td>2016-01-01</td>\n",
       "      <td>2</td>\n",
       "    </tr>\n",
       "  </tbody>\n",
       "</table>\n",
       "</div>"
      ],
      "text/plain": [
       "            Date  Sent_Count\n",
       "1813  2016-01-01           2"
      ]
     },
     "execution_count": 264,
     "metadata": {},
     "output_type": "execute_result"
    }
   ],
   "source": [
    "trump_sentbyday = pd.read_csv(\"./data/trump_sentbydaydf_count.csv\")\n",
    "trump_sentbyday.sort_values(by=['Date'], inplace=True, ascending=True)\n",
    "trump_sentbyday.head(1)"
   ]
  },
  {
   "cell_type": "code",
   "execution_count": 265,
   "metadata": {},
   "outputs": [
    {
     "data": {
      "text/html": [
       "<div>\n",
       "<style scoped>\n",
       "    .dataframe tbody tr th:only-of-type {\n",
       "        vertical-align: middle;\n",
       "    }\n",
       "\n",
       "    .dataframe tbody tr th {\n",
       "        vertical-align: top;\n",
       "    }\n",
       "\n",
       "    .dataframe thead th {\n",
       "        text-align: right;\n",
       "    }\n",
       "</style>\n",
       "<table border=\"1\" class=\"dataframe\">\n",
       "  <thead>\n",
       "    <tr style=\"text-align: right;\">\n",
       "      <th></th>\n",
       "      <th>Date</th>\n",
       "      <th>Pos_Count</th>\n",
       "    </tr>\n",
       "  </thead>\n",
       "  <tbody>\n",
       "    <tr>\n",
       "      <th>1726</th>\n",
       "      <td>2016-01-01</td>\n",
       "      <td>5</td>\n",
       "    </tr>\n",
       "  </tbody>\n",
       "</table>\n",
       "</div>"
      ],
      "text/plain": [
       "            Date  Pos_Count\n",
       "1726  2016-01-01          5"
      ]
     },
     "execution_count": 265,
     "metadata": {},
     "output_type": "execute_result"
    }
   ],
   "source": [
    "trump_sentbydaypos = pd.read_csv(\"./data/trump_sentbydayposdf_count.csv\")\n",
    "trump_sentbydaypos.sort_values(by=['Date'], inplace=True, ascending=True)\n",
    "trump_sentbydaypos.head(1)"
   ]
  },
  {
   "cell_type": "code",
   "execution_count": 266,
   "metadata": {},
   "outputs": [
    {
     "data": {
      "text/html": [
       "<div>\n",
       "<style scoped>\n",
       "    .dataframe tbody tr th:only-of-type {\n",
       "        vertical-align: middle;\n",
       "    }\n",
       "\n",
       "    .dataframe tbody tr th {\n",
       "        vertical-align: top;\n",
       "    }\n",
       "\n",
       "    .dataframe thead th {\n",
       "        text-align: right;\n",
       "    }\n",
       "</style>\n",
       "<table border=\"1\" class=\"dataframe\">\n",
       "  <thead>\n",
       "    <tr style=\"text-align: right;\">\n",
       "      <th></th>\n",
       "      <th>Date</th>\n",
       "      <th>Neg_Count</th>\n",
       "    </tr>\n",
       "  </thead>\n",
       "  <tbody>\n",
       "    <tr>\n",
       "      <th>1638</th>\n",
       "      <td>2016-01-01</td>\n",
       "      <td>3</td>\n",
       "    </tr>\n",
       "  </tbody>\n",
       "</table>\n",
       "</div>"
      ],
      "text/plain": [
       "            Date  Neg_Count\n",
       "1638  2016-01-01          3"
      ]
     },
     "execution_count": 266,
     "metadata": {},
     "output_type": "execute_result"
    }
   ],
   "source": [
    "trump_sentbydayneg = pd.read_csv(\"./data/trump_sentbydaynegdf_count.csv\")\n",
    "trump_sentbydayneg.sort_values(by=['Date'], inplace=True, ascending=True)\n",
    "trump_sentbydayneg.head(1)"
   ]
  },
  {
   "cell_type": "markdown",
   "metadata": {},
   "source": [
    "Merge all the features and label, % change of large-cap daily prices, dataframes together to form the dataframe, trump_mkt, to be used for analyses.  In additiion, a classified label 'pos_neg' is created to determine whether the stock market prices are up (1) or down (0) each day.  "
   ]
  },
  {
   "cell_type": "code",
   "execution_count": 267,
   "metadata": {},
   "outputs": [
    {
     "data": {
      "text/html": [
       "<div>\n",
       "<style scoped>\n",
       "    .dataframe tbody tr th:only-of-type {\n",
       "        vertical-align: middle;\n",
       "    }\n",
       "\n",
       "    .dataframe tbody tr th {\n",
       "        vertical-align: top;\n",
       "    }\n",
       "\n",
       "    .dataframe thead th {\n",
       "        text-align: right;\n",
       "    }\n",
       "</style>\n",
       "<table border=\"1\" class=\"dataframe\">\n",
       "  <thead>\n",
       "    <tr style=\"text-align: right;\">\n",
       "      <th></th>\n",
       "      <th>date</th>\n",
       "      <th>change</th>\n",
       "      <th>Date</th>\n",
       "      <th>Neg_Count</th>\n",
       "      <th>Pos_Count</th>\n",
       "      <th>Sent_Count</th>\n",
       "      <th>day</th>\n",
       "      <th>favorites</th>\n",
       "      <th>Count</th>\n",
       "      <th>pos_neg</th>\n",
       "      <th>pos</th>\n",
       "      <th>neg</th>\n",
       "      <th>flat</th>\n",
       "    </tr>\n",
       "  </thead>\n",
       "  <tbody>\n",
       "    <tr>\n",
       "      <th>0</th>\n",
       "      <td>2016-01-07</td>\n",
       "      <td>-0.006553</td>\n",
       "      <td>2016-01-07</td>\n",
       "      <td>9</td>\n",
       "      <td>5</td>\n",
       "      <td>-4</td>\n",
       "      <td>2016-01-07</td>\n",
       "      <td>58819</td>\n",
       "      <td>1</td>\n",
       "      <td>0</td>\n",
       "      <td>0</td>\n",
       "      <td>1</td>\n",
       "      <td>0</td>\n",
       "    </tr>\n",
       "  </tbody>\n",
       "</table>\n",
       "</div>"
      ],
      "text/plain": [
       "         date    change        Date  Neg_Count  Pos_Count  Sent_Count  \\\n",
       "0  2016-01-07 -0.006553  2016-01-07          9          5          -4   \n",
       "\n",
       "          day  favorites  Count  pos_neg  pos  neg  flat  \n",
       "0  2016-01-07      58819      1        0    0    1     0  "
      ]
     },
     "execution_count": 267,
     "metadata": {},
     "output_type": "execute_result"
    }
   ],
   "source": [
    "trump_mkt = L_cap.merge(trump_sentbydayneg, how='inner', left_on=\"date\" ,right_on=\"Date\")\n",
    "trump_mkt = trump_mkt.merge(trump_sentbydaypos, how='inner' ,on=\"Date\")\n",
    "trump_mkt = trump_mkt.merge(trump_sentbyday, how='inner' ,on=\"Date\")\n",
    "trump_mkt = trump_mkt.merge(trump_favd, how='inner' , left_on=\"date\" ,right_on=\"day\")\n",
    "trump_mkt = trump_mkt.merge(trump_econ, how='inner' ,on=\"Date\")\n",
    "trump_mkt['pos_neg'] = np.where (trump_mkt['change'] > 0,1,0)\n",
    "trump_mkt['pos'] = np.where (trump_mkt['change'] > 0.002,1,0)\n",
    "trump_mkt['neg'] = np.where (trump_mkt['change'] < -0.002,1,0)\n",
    "trump_mkt['flat'] = np.where ((trump_mkt['change'] <= 0.002) & (trump_mkt['change'] >= -0.002) ,1,0)\n",
    "\n",
    "trump_mkt.head(1)"
   ]
  },
  {
   "cell_type": "markdown",
   "metadata": {},
   "source": [
    "Add the monthly news releases on employment situations and quarterly real GDP estimates.  Since the data are monthly, the missing daily data are filled with the data on the immediate prior values until the new values are announced. "
   ]
  },
  {
   "cell_type": "code",
   "execution_count": 268,
   "metadata": {},
   "outputs": [],
   "source": [
    "trump_empsit = pd.read_csv(\"./Data/empsit.csv\")\n",
    "trump_empsit.head()\n",
    "trump_mkt['date'] = pd.to_datetime(trump_mkt['date'])"
   ]
  },
  {
   "cell_type": "code",
   "execution_count": 269,
   "metadata": {},
   "outputs": [
    {
     "data": {
      "text/html": [
       "<div>\n",
       "<style scoped>\n",
       "    .dataframe tbody tr th:only-of-type {\n",
       "        vertical-align: middle;\n",
       "    }\n",
       "\n",
       "    .dataframe tbody tr th {\n",
       "        vertical-align: top;\n",
       "    }\n",
       "\n",
       "    .dataframe thead th {\n",
       "        text-align: right;\n",
       "    }\n",
       "</style>\n",
       "<table border=\"1\" class=\"dataframe\">\n",
       "  <thead>\n",
       "    <tr style=\"text-align: right;\">\n",
       "      <th></th>\n",
       "      <th>date</th>\n",
       "      <th>change</th>\n",
       "      <th>Date</th>\n",
       "      <th>Neg_Count</th>\n",
       "      <th>Pos_Count</th>\n",
       "      <th>Sent_Count</th>\n",
       "      <th>day</th>\n",
       "      <th>favorites</th>\n",
       "      <th>Count</th>\n",
       "      <th>pos_neg</th>\n",
       "      <th>pos</th>\n",
       "      <th>neg</th>\n",
       "      <th>flat</th>\n",
       "      <th>job_change</th>\n",
       "    </tr>\n",
       "  </thead>\n",
       "  <tbody>\n",
       "    <tr>\n",
       "      <th>0</th>\n",
       "      <td>2016-01-07</td>\n",
       "      <td>-0.006553</td>\n",
       "      <td>2016-01-07</td>\n",
       "      <td>9</td>\n",
       "      <td>5</td>\n",
       "      <td>-4</td>\n",
       "      <td>2016-01-07</td>\n",
       "      <td>58819</td>\n",
       "      <td>1</td>\n",
       "      <td>0</td>\n",
       "      <td>0</td>\n",
       "      <td>1</td>\n",
       "      <td>0</td>\n",
       "      <td>237.0</td>\n",
       "    </tr>\n",
       "  </tbody>\n",
       "</table>\n",
       "</div>"
      ],
      "text/plain": [
       "        date    change        Date  Neg_Count  Pos_Count  Sent_Count  \\\n",
       "0 2016-01-07 -0.006553  2016-01-07          9          5          -4   \n",
       "\n",
       "          day  favorites  Count  pos_neg  pos  neg  flat  job_change  \n",
       "0  2016-01-07      58819      1        0    0    1     0       237.0  "
      ]
     },
     "execution_count": 269,
     "metadata": {},
     "output_type": "execute_result"
    }
   ],
   "source": [
    "trump_mkt['job_change']=np.nan\n",
    "for x in range(len(trump_empsit.index)-1):\n",
    "   trump_mkt.loc[((trump_mkt['date']>= trump_empsit.loc[x][0]) & (trump_mkt['date']< trump_empsit.loc[x+1][0])),['job_change']]=trump_empsit.loc[x][1]\n",
    "#    print(wsb_mkt.loc[(wsb_mkt['date']>= wsb_empsit.loc[x][0]) & (wsb_mkt['date']< wsb_empsit.loc[x+1][0])]['job_change'])\n",
    "trump_mkt.head(1)"
   ]
  },
  {
   "cell_type": "code",
   "execution_count": 270,
   "metadata": {},
   "outputs": [],
   "source": [
    "trump_rgdp = pd.read_csv(\"./Data/RGDP.csv\")\n",
    "trump_rgdp.head()\n",
    "trump_mkt['Date'] = pd.to_datetime(trump_mkt['Date'])\n",
    "#trump_rgdp['Date']=pd.to_datetime(trump_rgdp['Date'])"
   ]
  },
  {
   "cell_type": "code",
   "execution_count": 271,
   "metadata": {},
   "outputs": [
    {
     "data": {
      "text/html": [
       "<div>\n",
       "<style scoped>\n",
       "    .dataframe tbody tr th:only-of-type {\n",
       "        vertical-align: middle;\n",
       "    }\n",
       "\n",
       "    .dataframe tbody tr th {\n",
       "        vertical-align: top;\n",
       "    }\n",
       "\n",
       "    .dataframe thead th {\n",
       "        text-align: right;\n",
       "    }\n",
       "</style>\n",
       "<table border=\"1\" class=\"dataframe\">\n",
       "  <thead>\n",
       "    <tr style=\"text-align: right;\">\n",
       "      <th></th>\n",
       "      <th>date</th>\n",
       "      <th>change</th>\n",
       "      <th>Date</th>\n",
       "      <th>Neg_Count</th>\n",
       "      <th>Pos_Count</th>\n",
       "      <th>Sent_Count</th>\n",
       "      <th>day</th>\n",
       "      <th>favorites</th>\n",
       "      <th>Count</th>\n",
       "      <th>pos_neg</th>\n",
       "      <th>pos</th>\n",
       "      <th>neg</th>\n",
       "      <th>flat</th>\n",
       "      <th>job_change</th>\n",
       "      <th>growthgap</th>\n",
       "    </tr>\n",
       "  </thead>\n",
       "  <tbody>\n",
       "    <tr>\n",
       "      <th>0</th>\n",
       "      <td>2016-01-07</td>\n",
       "      <td>-0.006553</td>\n",
       "      <td>2016-01-07</td>\n",
       "      <td>9</td>\n",
       "      <td>5</td>\n",
       "      <td>-4</td>\n",
       "      <td>2016-01-07</td>\n",
       "      <td>58819</td>\n",
       "      <td>1</td>\n",
       "      <td>0</td>\n",
       "      <td>0</td>\n",
       "      <td>1</td>\n",
       "      <td>0</td>\n",
       "      <td>237.0</td>\n",
       "      <td>-0.5</td>\n",
       "    </tr>\n",
       "  </tbody>\n",
       "</table>\n",
       "</div>"
      ],
      "text/plain": [
       "        date    change       Date  Neg_Count  Pos_Count  Sent_Count  \\\n",
       "0 2016-01-07 -0.006553 2016-01-07          9          5          -4   \n",
       "\n",
       "          day  favorites  Count  pos_neg  pos  neg  flat  job_change  \\\n",
       "0  2016-01-07      58819      1        0    0    1     0       237.0   \n",
       "\n",
       "   growthgap  \n",
       "0       -0.5  "
      ]
     },
     "execution_count": 271,
     "metadata": {},
     "output_type": "execute_result"
    }
   ],
   "source": [
    "trump_mkt['growthgap']=np.nan\n",
    "for x in range(len(trump_rgdp.index)-1):\n",
    "   trump_mkt.loc[((trump_mkt['date']>= trump_rgdp.loc[x][0]) & (trump_mkt['date']< trump_rgdp.loc[x+1][0])),['growthgap']]=trump_rgdp.loc[x][3]\n",
    "trump_mkt.head(1)"
   ]
  },
  {
   "cell_type": "code",
   "execution_count": 272,
   "metadata": {},
   "outputs": [
    {
     "data": {
      "text/plain": [
       "<matplotlib.legend.Legend at 0x2223d968c50>"
      ]
     },
     "execution_count": 272,
     "metadata": {},
     "output_type": "execute_result"
    },
    {
     "data": {
      "text/plain": [
       "<Figure size 432x288 with 0 Axes>"
      ]
     },
     "metadata": {},
     "output_type": "display_data"
    },
    {
     "data": {
      "image/png": "[encoded data removed]",
      "text/plain": [
       "<Figure size 1152x1152 with 8 Axes>"
      ]
     },
     "metadata": {},
     "output_type": "display_data"
    }
   ],
   "source": [
    "trump_mkt_hm1 = trump_mkt.loc[:, [\n",
    "    \n",
    "\"date\",\n",
    "\"change\",\n",
    "\"Neg_Count\",\n",
    "\"Pos_Count\",\n",
    "\"Sent_Count\",\n",
    "\"Count\",\n",
    "\"favorites\",\n",
    "\"job_change\",\n",
    "\"growthgap\"\n",
    "\n",
    "]]\n",
    "trump_mkt_hm1.set_index('date', inplace=True)\n",
    "plt.subplots_adjust(bottom=0.25)\n",
    "trump_mkt_hm1.plot(subplots=True, figsize=(16, 16)); plt.legend(loc='best')"
   ]
  },
  {
   "cell_type": "markdown",
   "metadata": {},
   "source": [
    "Calculate Predictive Power Score"
   ]
  },
  {
   "cell_type": "code",
   "execution_count": 273,
   "metadata": {},
   "outputs": [
    {
     "data": {
      "image/png": "[encoded data removed]",
      "text/plain": [
       "<Figure size 432x288 with 2 Axes>"
      ]
     },
     "metadata": {},
     "output_type": "display_data"
    }
   ],
   "source": [
    "#pps matrix plot\n",
    "trump_mkt_hm1 = trump_mkt.loc[:, [\n",
    "\n",
    "\"pos_neg\",\n",
    "\"Neg_Count\",\n",
    "\"Pos_Count\",\n",
    "\"Sent_Count\",\n",
    "\"Count\",\n",
    "\"favorites\",\n",
    "\"job_change\",\n",
    "\"growthgap\"]]\n",
    "\n",
    "ax = sns.heatmap(pps.matrix(trump_mkt_hm1), vmin=0, vmax=1, cmap=\"Blues\", linewidths=0.5, annot=True, fmt=\".3f\")\n",
    "ax.set_xticklabels(\n",
    "    ax.get_xticklabels(),\n",
    "    rotation=45,\n",
    "    horizontalalignment='right'\n",
    ")\n",
    "bottom, top = ax.get_ylim()\n",
    "ax.set_ylim(bottom + 0.5, top - 0.5)\n",
    ";\n",
    "\n",
    "# Save Figure\n",
    "plt.savefig('./Images/powell_MCap_PPS_Matrix.png', figsize=(400,240))\n",
    "\n",
    "# Show plot\n",
    "plt.show()"
   ]
  },
  {
   "cell_type": "markdown",
   "metadata": {},
   "source": [
    "Given the low predictive power above, we may work on improving the predictive power by adding 15 lags of features and the % change of stock prices label to the dataframe based on the rationality that responses to remarks may take more that one day."
   ]
  },
  {
   "cell_type": "code",
   "execution_count": 274,
   "metadata": {},
   "outputs": [
    {
     "data": {
      "text/html": [
       "<div>\n",
       "<style scoped>\n",
       "    .dataframe tbody tr th:only-of-type {\n",
       "        vertical-align: middle;\n",
       "    }\n",
       "\n",
       "    .dataframe tbody tr th {\n",
       "        vertical-align: top;\n",
       "    }\n",
       "\n",
       "    .dataframe thead th {\n",
       "        text-align: right;\n",
       "    }\n",
       "</style>\n",
       "<table border=\"1\" class=\"dataframe\">\n",
       "  <thead>\n",
       "    <tr style=\"text-align: right;\">\n",
       "      <th></th>\n",
       "      <th>date</th>\n",
       "      <th>change</th>\n",
       "      <th>Date</th>\n",
       "      <th>Neg_Count</th>\n",
       "      <th>Pos_Count</th>\n",
       "      <th>Sent_Count</th>\n",
       "      <th>day</th>\n",
       "      <th>favorites</th>\n",
       "      <th>Count</th>\n",
       "      <th>pos_neg</th>\n",
       "      <th>...</th>\n",
       "      <th>growthgap14day</th>\n",
       "      <th>change14day</th>\n",
       "      <th>negcount15day</th>\n",
       "      <th>poscount15day</th>\n",
       "      <th>sentcount15day</th>\n",
       "      <th>favcount15day</th>\n",
       "      <th>econcount15day</th>\n",
       "      <th>job_change15day</th>\n",
       "      <th>growthgap15day</th>\n",
       "      <th>change15day</th>\n",
       "    </tr>\n",
       "  </thead>\n",
       "  <tbody>\n",
       "    <tr>\n",
       "      <th>0</th>\n",
       "      <td>2016-01-07</td>\n",
       "      <td>-0.006553</td>\n",
       "      <td>2016-01-07</td>\n",
       "      <td>9</td>\n",
       "      <td>5</td>\n",
       "      <td>-4</td>\n",
       "      <td>2016-01-07</td>\n",
       "      <td>58819</td>\n",
       "      <td>1</td>\n",
       "      <td>0</td>\n",
       "      <td>...</td>\n",
       "      <td>NaN</td>\n",
       "      <td>NaN</td>\n",
       "      <td>NaN</td>\n",
       "      <td>NaN</td>\n",
       "      <td>NaN</td>\n",
       "      <td>NaN</td>\n",
       "      <td>NaN</td>\n",
       "      <td>NaN</td>\n",
       "      <td>NaN</td>\n",
       "      <td>NaN</td>\n",
       "    </tr>\n",
       "  </tbody>\n",
       "</table>\n",
       "<p>1 rows × 133 columns</p>\n",
       "</div>"
      ],
      "text/plain": [
       "        date    change       Date  Neg_Count  Pos_Count  Sent_Count  \\\n",
       "0 2016-01-07 -0.006553 2016-01-07          9          5          -4   \n",
       "\n",
       "          day  favorites  Count  pos_neg  ...  growthgap14day  change14day  \\\n",
       "0  2016-01-07      58819      1        0  ...             NaN          NaN   \n",
       "\n",
       "   negcount15day  poscount15day  sentcount15day  favcount15day  \\\n",
       "0            NaN            NaN             NaN            NaN   \n",
       "\n",
       "   econcount15day  job_change15day  growthgap15day  change15day  \n",
       "0             NaN              NaN             NaN          NaN  \n",
       "\n",
       "[1 rows x 133 columns]"
      ]
     },
     "execution_count": 274,
     "metadata": {},
     "output_type": "execute_result"
    }
   ],
   "source": [
    "trump_mkt['negcount1day'] = trump_mkt['Neg_Count'].shift(1)\n",
    "trump_mkt['poscount1day'] = trump_mkt['Pos_Count'].shift(1)\n",
    "trump_mkt['sentcount1day'] = trump_mkt['Sent_Count'].shift(1)\n",
    "trump_mkt['favcount1day'] = trump_mkt['favorites'].shift(1)\n",
    "trump_mkt['econcount1day'] = trump_mkt['Count'].shift(1)\n",
    "trump_mkt['job_change1day'] = trump_mkt['job_change'].shift(1)\n",
    "trump_mkt['growthgap1day'] = trump_mkt['growthgap'].shift(1)\n",
    "trump_mkt['change1day'] = trump_mkt['change'].shift(1)\n",
    "trump_mkt['negcount2day'] = trump_mkt['Neg_Count'].shift(2)\n",
    "trump_mkt['poscount2day'] = trump_mkt['Pos_Count'].shift(2)\n",
    "trump_mkt['sentcount2day'] = trump_mkt['Sent_Count'].shift(2)\n",
    "trump_mkt['favcount2day'] = trump_mkt['favorites'].shift(2)\n",
    "trump_mkt['econcount2day'] = trump_mkt['Count'].shift(2)\n",
    "trump_mkt['job_change2day'] = trump_mkt['job_change'].shift(2)\n",
    "trump_mkt['growthgap2day'] = trump_mkt['growthgap'].shift(2)\n",
    "trump_mkt['change2day'] = trump_mkt['change'].shift(2)\n",
    "trump_mkt['negcount3day'] = trump_mkt['Neg_Count'].shift(3)\n",
    "trump_mkt['poscount3day'] = trump_mkt['Pos_Count'].shift(3)\n",
    "trump_mkt['sentcount3day'] = trump_mkt['Sent_Count'].shift(3)\n",
    "trump_mkt['favcount3day'] = trump_mkt['favorites'].shift(3)\n",
    "trump_mkt['econcount3day'] = trump_mkt['Count'].shift(3)\n",
    "trump_mkt['job_change3day'] = trump_mkt['job_change'].shift(3)\n",
    "trump_mkt['growthgap3day'] = trump_mkt['growthgap'].shift(3)\n",
    "trump_mkt['change3day'] = trump_mkt['change'].shift(3)\n",
    "trump_mkt['negcount4day'] = trump_mkt['Neg_Count'].shift(4)\n",
    "trump_mkt['poscount4day'] = trump_mkt['Pos_Count'].shift(4)\n",
    "trump_mkt['sentcount4day'] = trump_mkt['Sent_Count'].shift(4)\n",
    "trump_mkt['favcount4day'] = trump_mkt['favorites'].shift(4)\n",
    "trump_mkt['econcount4day'] = trump_mkt['Count'].shift(4)\n",
    "trump_mkt['job_change4day'] = trump_mkt['job_change'].shift(4)\n",
    "trump_mkt['growthgap4day'] = trump_mkt['growthgap'].shift(4)\n",
    "trump_mkt['change4day'] = trump_mkt['change'].shift(4)\n",
    "trump_mkt['negcount5day'] = trump_mkt['Neg_Count'].shift(5)\n",
    "trump_mkt['poscount5day'] = trump_mkt['Pos_Count'].shift(5)\n",
    "trump_mkt['sentcount5day'] = trump_mkt['Sent_Count'].shift(5)\n",
    "trump_mkt['favcount5day'] = trump_mkt['favorites'].shift(5)\n",
    "trump_mkt['econcount5day'] = trump_mkt['Count'].shift(5)\n",
    "trump_mkt['change5day'] = trump_mkt['change'].shift(5)\n",
    "trump_mkt['negcount6day'] = trump_mkt['Neg_Count'].shift(6)\n",
    "trump_mkt['poscount6day'] = trump_mkt['Pos_Count'].shift(6)\n",
    "trump_mkt['sentcount6day'] = trump_mkt['Sent_Count'].shift(6)\n",
    "trump_mkt['favcount6day'] = trump_mkt['favorites'].shift(6)\n",
    "trump_mkt['econcount6day'] = trump_mkt['Count'].shift(6)\n",
    "trump_mkt['job_change6day'] = trump_mkt['job_change'].shift(6)\n",
    "trump_mkt['growthgap6day'] = trump_mkt['growthgap'].shift(6)\n",
    "trump_mkt['change6day'] = trump_mkt['change'].shift(6)\n",
    "trump_mkt['negcount7day'] = trump_mkt['Neg_Count'].shift(7)\n",
    "trump_mkt['poscount7day'] = trump_mkt['Pos_Count'].shift(7)\n",
    "trump_mkt['sentcount7day'] = trump_mkt['Sent_Count'].shift(7)\n",
    "trump_mkt['favcount7day'] = trump_mkt['favorites'].shift(7)\n",
    "trump_mkt['econcount7day'] = trump_mkt['Count'].shift(7)\n",
    "trump_mkt['job_change7day'] = trump_mkt['job_change'].shift(7)\n",
    "trump_mkt['growthgap7day'] = trump_mkt['growthgap'].shift(7)\n",
    "trump_mkt['change7day'] = trump_mkt['change'].shift(7)\n",
    "trump_mkt['negcount8day'] = trump_mkt['Neg_Count'].shift(8)\n",
    "trump_mkt['poscount8day'] = trump_mkt['Pos_Count'].shift(8)\n",
    "trump_mkt['sentcount8day'] = trump_mkt['Sent_Count'].shift(8)\n",
    "trump_mkt['favcount8day'] = trump_mkt['favorites'].shift(8)\n",
    "trump_mkt['econcount8day'] = trump_mkt['Count'].shift(8)\n",
    "trump_mkt['job_change8day'] = trump_mkt['job_change'].shift(8)\n",
    "trump_mkt['growthgap8day'] = trump_mkt['growthgap'].shift(8)\n",
    "trump_mkt['change8day'] = trump_mkt['change'].shift(8)\n",
    "trump_mkt['negcount9day'] = trump_mkt['Neg_Count'].shift(9)\n",
    "trump_mkt['poscount9day'] = trump_mkt['Pos_Count'].shift(9)\n",
    "trump_mkt['sentcount9day'] = trump_mkt['Sent_Count'].shift(9)\n",
    "trump_mkt['favcount9day'] = trump_mkt['favorites'].shift(9)\n",
    "trump_mkt['econcount9day'] = trump_mkt['Count'].shift(9)\n",
    "trump_mkt['job_change9day'] = trump_mkt['job_change'].shift(9)\n",
    "trump_mkt['growthgap9day'] = trump_mkt['growthgap'].shift(9)\n",
    "trump_mkt['change9day'] = trump_mkt['change'].shift(9)\n",
    "trump_mkt['negcount10day'] = trump_mkt['Neg_Count'].shift(10)\n",
    "trump_mkt['poscount10day'] = trump_mkt['Pos_Count'].shift(10)\n",
    "trump_mkt['sentcount10day'] = trump_mkt['Sent_Count'].shift(10)\n",
    "trump_mkt['favcount10day'] = trump_mkt['favorites'].shift(10)\n",
    "trump_mkt['econcount10day'] = trump_mkt['Count'].shift(10)\n",
    "trump_mkt['job_change10day'] = trump_mkt['job_change'].shift(10)\n",
    "trump_mkt['growthgap10day'] = trump_mkt['growthgap'].shift(10)\n",
    "trump_mkt['change10day'] = trump_mkt['change'].shift(10)\n",
    "trump_mkt['negcount11day'] = trump_mkt['Neg_Count'].shift(11)\n",
    "trump_mkt['poscount11day'] = trump_mkt['Pos_Count'].shift(11)\n",
    "trump_mkt['sentcount11day'] = trump_mkt['Sent_Count'].shift(11)\n",
    "trump_mkt['favcount11day'] = trump_mkt['favorites'].shift(11)\n",
    "trump_mkt['econcount11day'] = trump_mkt['Count'].shift(11)\n",
    "trump_mkt['job_change11day'] = trump_mkt['job_change'].shift(11)\n",
    "trump_mkt['growthgap11day'] = trump_mkt['growthgap'].shift(11)\n",
    "trump_mkt['change11day'] = trump_mkt['change'].shift(11)\n",
    "trump_mkt['negcount12day'] = trump_mkt['Neg_Count'].shift(12)\n",
    "trump_mkt['poscount12day'] = trump_mkt['Pos_Count'].shift(12)\n",
    "trump_mkt['sentcount12day'] = trump_mkt['Sent_Count'].shift(12)\n",
    "trump_mkt['favcount12day'] = trump_mkt['favorites'].shift(12)\n",
    "trump_mkt['econcount12day'] = trump_mkt['Count'].shift(12)\n",
    "trump_mkt['job_change12day'] = trump_mkt['job_change'].shift(12)\n",
    "trump_mkt['growthgap12day'] = trump_mkt['growthgap'].shift(12)\n",
    "trump_mkt['change12day'] = trump_mkt['change'].shift(12)\n",
    "trump_mkt['negcount13day'] = trump_mkt['Neg_Count'].shift(13)\n",
    "trump_mkt['poscount13day'] = trump_mkt['Pos_Count'].shift(13)\n",
    "trump_mkt['sentcount13day'] = trump_mkt['Sent_Count'].shift(13)\n",
    "trump_mkt['favcount13day'] = trump_mkt['favorites'].shift(13)\n",
    "trump_mkt['econcount13day'] = trump_mkt['Count'].shift(13)\n",
    "trump_mkt['job_change13day'] = trump_mkt['job_change'].shift(13)\n",
    "trump_mkt['growthgap13day'] = trump_mkt['growthgap'].shift(13)\n",
    "trump_mkt['change13day'] = trump_mkt['change'].shift(13)\n",
    "trump_mkt['negcount14day'] = trump_mkt['Neg_Count'].shift(14)\n",
    "trump_mkt['poscount14day'] = trump_mkt['Pos_Count'].shift(14)\n",
    "trump_mkt['sentcount14day'] = trump_mkt['Sent_Count'].shift(14)\n",
    "trump_mkt['favcount14day'] = trump_mkt['favorites'].shift(14)\n",
    "trump_mkt['econcount14day'] = trump_mkt['Count'].shift(14)\n",
    "trump_mkt['job_change14day'] = trump_mkt['job_change'].shift(14)\n",
    "trump_mkt['growthgap14day'] = trump_mkt['growthgap'].shift(14)\n",
    "trump_mkt['change14day'] = trump_mkt['change'].shift(14)\n",
    "trump_mkt['negcount15day'] = trump_mkt['Neg_Count'].shift(15)\n",
    "trump_mkt['poscount15day'] = trump_mkt['Pos_Count'].shift(15)\n",
    "trump_mkt['sentcount15day'] = trump_mkt['Sent_Count'].shift(15)\n",
    "trump_mkt['favcount15day'] = trump_mkt['favorites'].shift(15)\n",
    "trump_mkt['econcount15day'] = trump_mkt['Count'].shift(15)\n",
    "trump_mkt['job_change15day'] = trump_mkt['job_change'].shift(15)\n",
    "trump_mkt['growthgap15day'] = trump_mkt['growthgap'].shift(15)\n",
    "trump_mkt['change15day'] = trump_mkt['change'].shift(15)\n",
    "trump_mkt.head(1)"
   ]
  },
  {
   "cell_type": "code",
   "execution_count": 275,
   "metadata": {},
   "outputs": [],
   "source": [
    "trump_mkt.to_csv('./Data/trump_lmkt.csv', index=False)"
   ]
  },
  {
   "cell_type": "code",
   "execution_count": 276,
   "metadata": {},
   "outputs": [
    {
     "name": "stdout",
     "output_type": "stream",
     "text": [
      "date\n",
      "change\n",
      "Date\n",
      "Neg_Count\n",
      "Pos_Count\n",
      "Sent_Count\n",
      "day\n",
      "favorites\n",
      "Count\n",
      "pos_neg\n",
      "pos\n",
      "neg\n",
      "flat\n",
      "job_change\n",
      "growthgap\n",
      "negcount1day\n",
      "poscount1day\n",
      "sentcount1day\n",
      "favcount1day\n",
      "econcount1day\n",
      "job_change1day\n",
      "growthgap1day\n",
      "change1day\n",
      "negcount2day\n",
      "poscount2day\n",
      "sentcount2day\n",
      "favcount2day\n",
      "econcount2day\n",
      "job_change2day\n",
      "growthgap2day\n",
      "change2day\n",
      "negcount3day\n",
      "poscount3day\n",
      "sentcount3day\n",
      "favcount3day\n",
      "econcount3day\n",
      "job_change3day\n",
      "growthgap3day\n",
      "change3day\n",
      "negcount4day\n",
      "poscount4day\n",
      "sentcount4day\n",
      "favcount4day\n",
      "econcount4day\n",
      "job_change4day\n",
      "growthgap4day\n",
      "change4day\n",
      "negcount5day\n",
      "poscount5day\n",
      "sentcount5day\n",
      "favcount5day\n",
      "econcount5day\n",
      "change5day\n",
      "negcount6day\n",
      "poscount6day\n",
      "sentcount6day\n",
      "favcount6day\n",
      "econcount6day\n",
      "job_change6day\n",
      "growthgap6day\n",
      "change6day\n",
      "negcount7day\n",
      "poscount7day\n",
      "sentcount7day\n",
      "favcount7day\n",
      "econcount7day\n",
      "job_change7day\n",
      "growthgap7day\n",
      "change7day\n",
      "negcount8day\n",
      "poscount8day\n",
      "sentcount8day\n",
      "favcount8day\n",
      "econcount8day\n",
      "job_change8day\n",
      "growthgap8day\n",
      "change8day\n",
      "negcount9day\n",
      "poscount9day\n",
      "sentcount9day\n",
      "favcount9day\n",
      "econcount9day\n",
      "job_change9day\n",
      "growthgap9day\n",
      "change9day\n",
      "negcount10day\n",
      "poscount10day\n",
      "sentcount10day\n",
      "favcount10day\n",
      "econcount10day\n",
      "job_change10day\n",
      "growthgap10day\n",
      "change10day\n",
      "negcount11day\n",
      "poscount11day\n",
      "sentcount11day\n",
      "favcount11day\n",
      "econcount11day\n",
      "job_change11day\n",
      "growthgap11day\n",
      "change11day\n",
      "negcount12day\n",
      "poscount12day\n",
      "sentcount12day\n",
      "favcount12day\n",
      "econcount12day\n",
      "job_change12day\n",
      "growthgap12day\n",
      "change12day\n",
      "negcount13day\n",
      "poscount13day\n",
      "sentcount13day\n",
      "favcount13day\n",
      "econcount13day\n",
      "job_change13day\n",
      "growthgap13day\n",
      "change13day\n",
      "negcount14day\n",
      "poscount14day\n",
      "sentcount14day\n",
      "favcount14day\n",
      "econcount14day\n",
      "job_change14day\n",
      "growthgap14day\n",
      "change14day\n",
      "negcount15day\n",
      "poscount15day\n",
      "sentcount15day\n",
      "favcount15day\n",
      "econcount15day\n",
      "job_change15day\n",
      "growthgap15day\n",
      "change15day\n"
     ]
    }
   ],
   "source": [
    "for x in trump_mkt.columns:\n",
    "    print(x)"
   ]
  },
  {
   "cell_type": "markdown",
   "metadata": {},
   "source": [
    "Machine Learning Models: RandomForesRegression & Ridge for the model with % change of prices for SPY, MDY and IJR as labels; RandomClassifier and LogisticRegressor for the models with labels as classifiers of price change directions -- up or down. The RandomFlorest models also oberve feature importance and decision trees."
   ]
  },
  {
   "cell_type": "code",
   "execution_count": 277,
   "metadata": {},
   "outputs": [
    {
     "data": {
      "text/html": [
       "<div>\n",
       "<style scoped>\n",
       "    .dataframe tbody tr th:only-of-type {\n",
       "        vertical-align: middle;\n",
       "    }\n",
       "\n",
       "    .dataframe tbody tr th {\n",
       "        vertical-align: top;\n",
       "    }\n",
       "\n",
       "    .dataframe thead th {\n",
       "        text-align: right;\n",
       "    }\n",
       "</style>\n",
       "<table border=\"1\" class=\"dataframe\">\n",
       "  <thead>\n",
       "    <tr style=\"text-align: right;\">\n",
       "      <th></th>\n",
       "      <th>Neg_Count</th>\n",
       "      <th>Pos_Count</th>\n",
       "      <th>favorites</th>\n",
       "      <th>Count</th>\n",
       "      <th>job_change</th>\n",
       "      <th>growthgap</th>\n",
       "    </tr>\n",
       "    <tr>\n",
       "      <th>date</th>\n",
       "      <th></th>\n",
       "      <th></th>\n",
       "      <th></th>\n",
       "      <th></th>\n",
       "      <th></th>\n",
       "      <th></th>\n",
       "    </tr>\n",
       "  </thead>\n",
       "  <tbody>\n",
       "    <tr>\n",
       "      <th>2016-05-11</th>\n",
       "      <td>9</td>\n",
       "      <td>3</td>\n",
       "      <td>211703</td>\n",
       "      <td>1</td>\n",
       "      <td>197.0</td>\n",
       "      <td>1.8</td>\n",
       "    </tr>\n",
       "  </tbody>\n",
       "</table>\n",
       "</div>"
      ],
      "text/plain": [
       "            Neg_Count  Pos_Count  favorites  Count  job_change  growthgap\n",
       "date                                                                     \n",
       "2016-05-11          9          3     211703      1       197.0        1.8"
      ]
     },
     "execution_count": 277,
     "metadata": {},
     "output_type": "execute_result"
    }
   ],
   "source": [
    "trump_mkt.dropna(inplace=True)\n",
    "trump_lmkt_x = trump_mkt.iloc[:, np.r_[0, 3:5, 7:9, 13:15]] #1 %Change (y_3)\n",
    "#trump_lmkt_x = trump_mkt.iloc[:, np.r_[0, 3:5, 7:9, 13:15]] #2 Classification Change (y_1)\n",
    "#trump_lmkt_x = trump_mkt.iloc[:, np.r_[0, 3:5, 7:9]] #3 y_1 Neg_Count, Pos_Count, favorites, Count\n",
    "#trump_lmkt_x = trump_mkt.iloc[:, np.r_[0, 5:6, 7:9]] #4 Sent_Count, favorites, Count\n",
    "#trump_lmkt_x = trump_mkt.iloc[:, np.r_[0, 5:6, 7:8]] #4.1 Sent_Count, favorites\n",
    "\n",
    "trump_lmkt_x.set_index(\"date\", inplace=True)\n",
    "trump_lmkt_y1 = trump_mkt['pos_neg']\n",
    "#trump_lmkt_y2 = trump_mkt[['pos','neg','flat']]\n",
    "trump_lmkt_y3 = trump_mkt[['change']]\n",
    "trump_lmkt_x.head(1)\n",
    "#trump_lmkt_x.to_csv('./Data/trump_lmkt_x.csv', index=True)\n",
    "#trump_lmkt_y1.to_csv('./Data/trump_lmkt_y1.csv', index=False)"
   ]
  },
  {
   "cell_type": "code",
   "execution_count": 278,
   "metadata": {},
   "outputs": [
    {
     "name": "stdout",
     "output_type": "stream",
     "text": [
      "0.12673611296082243\n",
      "-0.0549081729057308\n"
     ]
    }
   ],
   "source": [
    "X_train, X_test,y_train,y_test = train_test_split(trump_lmkt_x, trump_lmkt_y3, test_size = 0.33,random_state=42)\n",
    "regr = RandomForestRegressor()\n",
    "regr.fit(X_train,y_train)\n",
    "print(regr.score(X_test, y_test))\n",
    "\n",
    "#1 %Change\n",
    "\n",
    "ridge = Ridge()\n",
    "ridge.fit(X_train,y_train)\n",
    "print(ridge.score(X_test, y_test))\n",
    "# regr.predict_proba(X_test)"
   ]
  },
  {
   "cell_type": "code",
   "execution_count": 279,
   "metadata": {},
   "outputs": [
    {
     "data": {
      "text/html": [
       "<div>\n",
       "<style scoped>\n",
       "    .dataframe tbody tr th:only-of-type {\n",
       "        vertical-align: middle;\n",
       "    }\n",
       "\n",
       "    .dataframe tbody tr th {\n",
       "        vertical-align: top;\n",
       "    }\n",
       "\n",
       "    .dataframe thead th {\n",
       "        text-align: right;\n",
       "    }\n",
       "</style>\n",
       "<table border=\"1\" class=\"dataframe\">\n",
       "  <thead>\n",
       "    <tr style=\"text-align: right;\">\n",
       "      <th></th>\n",
       "      <th>Neg_Count</th>\n",
       "      <th>Pos_Count</th>\n",
       "      <th>favorites</th>\n",
       "      <th>Count</th>\n",
       "      <th>job_change</th>\n",
       "      <th>growthgap</th>\n",
       "    </tr>\n",
       "    <tr>\n",
       "      <th>date</th>\n",
       "      <th></th>\n",
       "      <th></th>\n",
       "      <th></th>\n",
       "      <th></th>\n",
       "      <th></th>\n",
       "      <th></th>\n",
       "    </tr>\n",
       "  </thead>\n",
       "  <tbody>\n",
       "    <tr>\n",
       "      <th>2016-05-11</th>\n",
       "      <td>9</td>\n",
       "      <td>3</td>\n",
       "      <td>211703</td>\n",
       "      <td>1</td>\n",
       "      <td>197.0</td>\n",
       "      <td>1.8</td>\n",
       "    </tr>\n",
       "  </tbody>\n",
       "</table>\n",
       "</div>"
      ],
      "text/plain": [
       "            Neg_Count  Pos_Count  favorites  Count  job_change  growthgap\n",
       "date                                                                     \n",
       "2016-05-11          9          3     211703      1       197.0        1.8"
      ]
     },
     "execution_count": 279,
     "metadata": {},
     "output_type": "execute_result"
    }
   ],
   "source": [
    "trump_mkt.dropna(inplace=True)\n",
    "#trump_lmkt_x = trump_mkt.iloc[:, np.r_[0, 3:5, 7:9, 13:15]] #1 %Change (y_3)\n",
    "trump_lmkt_x = trump_mkt.iloc[:, np.r_[0, 3:5, 7:9, 13:15]] #2 Classification Change (y_1)\n",
    "#trump_lmkt_x = trump_mkt.iloc[:, np.r_[0, 3:5, 7:9]] #3 y_1 Neg_Count, Pos_Count, favorites, Count\n",
    "#trump_lmkt_x = trump_mkt.iloc[:, np.r_[0, 5:6, 7:9]] #4 Sent_Count, favorites, Count\n",
    "#trump_lmkt_x = trump_mkt.iloc[:, np.r_[0, 5:6, 7:8]] #4.1 Sent_Count, favorites\n",
    "\n",
    "trump_lmkt_x.set_index(\"date\", inplace=True)\n",
    "trump_lmkt_y1 = trump_mkt['pos_neg']\n",
    "#trump_lmkt_y2 = trump_mkt[['pos','neg','flat']]\n",
    "trump_lmkt_y3 = trump_mkt[['change']]\n",
    "trump_lmkt_x.head(1)\n",
    "#trump_lmkt_x.to_csv('./Data/trump_lmkt_x.csv', index=True)\n",
    "#trump_lmkt_y1.to_csv('./Data/trump_lmkt_y1.csv', index=False)"
   ]
  },
  {
   "cell_type": "code",
   "execution_count": 280,
   "metadata": {},
   "outputs": [
    {
     "name": "stdout",
     "output_type": "stream",
     "text": [
      "-0.3822131661442008\n",
      "-0.07834481219050216\n"
     ]
    }
   ],
   "source": [
    "X_train, X_test,y_train,y_test = train_test_split(trump_lmkt_x, trump_lmkt_y1, test_size = 0.33,random_state=42)\n",
    "regr = RandomForestRegressor()\n",
    "regr.fit(X_train,y_train)\n",
    "print(regr.score(X_test, y_test))\n",
    "\n",
    "#2 Pos_Count, Neg_Count, Count, job_change, growthgap\n",
    "\n",
    "ridge = Ridge()\n",
    "ridge.fit(X_train,y_train)\n",
    "print(ridge.score(X_test, y_test))\n",
    "# regr.predict_proba(X_test)"
   ]
  },
  {
   "cell_type": "code",
   "execution_count": 281,
   "metadata": {},
   "outputs": [
    {
     "data": {
      "text/html": [
       "<div>\n",
       "<style scoped>\n",
       "    .dataframe tbody tr th:only-of-type {\n",
       "        vertical-align: middle;\n",
       "    }\n",
       "\n",
       "    .dataframe tbody tr th {\n",
       "        vertical-align: top;\n",
       "    }\n",
       "\n",
       "    .dataframe thead th {\n",
       "        text-align: right;\n",
       "    }\n",
       "</style>\n",
       "<table border=\"1\" class=\"dataframe\">\n",
       "  <thead>\n",
       "    <tr style=\"text-align: right;\">\n",
       "      <th></th>\n",
       "      <th>Neg_Count</th>\n",
       "      <th>Pos_Count</th>\n",
       "      <th>favorites</th>\n",
       "      <th>Count</th>\n",
       "    </tr>\n",
       "    <tr>\n",
       "      <th>date</th>\n",
       "      <th></th>\n",
       "      <th></th>\n",
       "      <th></th>\n",
       "      <th></th>\n",
       "    </tr>\n",
       "  </thead>\n",
       "  <tbody>\n",
       "    <tr>\n",
       "      <th>2016-05-11</th>\n",
       "      <td>9</td>\n",
       "      <td>3</td>\n",
       "      <td>211703</td>\n",
       "      <td>1</td>\n",
       "    </tr>\n",
       "  </tbody>\n",
       "</table>\n",
       "</div>"
      ],
      "text/plain": [
       "            Neg_Count  Pos_Count  favorites  Count\n",
       "date                                              \n",
       "2016-05-11          9          3     211703      1"
      ]
     },
     "execution_count": 281,
     "metadata": {},
     "output_type": "execute_result"
    }
   ],
   "source": [
    "trump_mkt.dropna(inplace=True)\n",
    "#trump_lmkt_x = trump_mkt.iloc[:, np.r_[0, 3:5, 7:9, 13:15]] #1 %Change (y_3)\n",
    "#trump_lmkt_x = trump_mkt.iloc[:, np.r_[0, 3:5, 7:9, 13:15]] #2 Classification Change (y_1)\n",
    "trump_lmkt_x = trump_mkt.iloc[:, np.r_[0, 3:5, 7:9]] #3 y_1 Neg_Count, Pos_Count, favorites, Count\n",
    "#trump_lmkt_x = trump_mkt.iloc[:, np.r_[0, 5:6, 7:9]] #4 Sent_Count, favorites, Count\n",
    "#trump_lmkt_x = trump_mkt.iloc[:, np.r_[0, 5:6, 7:8]] #4.1 Sent_Count, favorites\n",
    "\n",
    "trump_lmkt_x.set_index(\"date\", inplace=True)\n",
    "trump_lmkt_y1 = trump_mkt['pos_neg']\n",
    "#trump_lmkt_y2 = trump_mkt[['pos','neg','flat']]\n",
    "trump_lmkt_y3 = trump_mkt[['change']]\n",
    "trump_lmkt_x.head(1)\n",
    "#trump_lmkt_x.to_csv('./Data/trump_lmkt_x.csv', index=True)\n",
    "#trump_lmkt_y1.to_csv('./Data/trump_lmkt_y1.csv', index=False)"
   ]
  },
  {
   "cell_type": "code",
   "execution_count": 282,
   "metadata": {},
   "outputs": [
    {
     "name": "stdout",
     "output_type": "stream",
     "text": [
      "-0.3489153605015673\n",
      "-0.07525425409774078\n"
     ]
    }
   ],
   "source": [
    "X_train, X_test,y_train,y_test = train_test_split(trump_lmkt_x, trump_lmkt_y1, test_size = 0.33,random_state=42)\n",
    "regr = RandomForestRegressor()\n",
    "regr.fit(X_train,y_train)\n",
    "print(regr.score(X_test, y_test))\n",
    "\n",
    "#3 Pos_Count, Neg_Count, favorites, Count\n",
    "\n",
    "ridge = Ridge()\n",
    "ridge.fit(X_train,y_train)\n",
    "print(ridge.score(X_test, y_test))\n",
    "# regr.predict_proba(X_test)"
   ]
  },
  {
   "cell_type": "code",
   "execution_count": 292,
   "metadata": {},
   "outputs": [
    {
     "data": {
      "text/html": [
       "<div>\n",
       "<style scoped>\n",
       "    .dataframe tbody tr th:only-of-type {\n",
       "        vertical-align: middle;\n",
       "    }\n",
       "\n",
       "    .dataframe tbody tr th {\n",
       "        vertical-align: top;\n",
       "    }\n",
       "\n",
       "    .dataframe thead th {\n",
       "        text-align: right;\n",
       "    }\n",
       "</style>\n",
       "<table border=\"1\" class=\"dataframe\">\n",
       "  <thead>\n",
       "    <tr style=\"text-align: right;\">\n",
       "      <th></th>\n",
       "      <th>Sent_Count</th>\n",
       "      <th>favorites</th>\n",
       "    </tr>\n",
       "    <tr>\n",
       "      <th>date</th>\n",
       "      <th></th>\n",
       "      <th></th>\n",
       "    </tr>\n",
       "  </thead>\n",
       "  <tbody>\n",
       "    <tr>\n",
       "      <th>2016-05-11</th>\n",
       "      <td>-6</td>\n",
       "      <td>211703</td>\n",
       "    </tr>\n",
       "  </tbody>\n",
       "</table>\n",
       "</div>"
      ],
      "text/plain": [
       "            Sent_Count  favorites\n",
       "date                             \n",
       "2016-05-11          -6     211703"
      ]
     },
     "execution_count": 292,
     "metadata": {},
     "output_type": "execute_result"
    }
   ],
   "source": [
    "trump_mkt.dropna(inplace=True)\n",
    "#trump_lmkt_x = trump_mkt.iloc[:, np.r_[0, 3:5, 7:9, 13:15]] #1 %Change (y_3)\n",
    "#trump_lmkt_x = trump_mkt.iloc[:, np.r_[0, 3:5, 7:9, 13:15]] #2 Classification Change (y_1)\n",
    "#trump_lmkt_x = trump_mkt.iloc[:, np.r_[0, 3:5, 7:9]] #3 y_1 Neg_Count, Pos_Count, favorites, Count\n",
    "#trump_lmkt_x = trump_mkt.iloc[:, np.r_[0, 5:6, 7:9]] #4 Sent_Count, favorites, Count\n",
    "trump_lmkt_x = trump_mkt.iloc[:, np.r_[0, 5:6, 7:8]] #4.1 Sent_Count, favorites\n",
    "#trump_lmkt_x = trump_mkt.iloc[:, np.r_[0, 2:4, 5:7, 11:13]] #3 Neg_Count, Pos_Count, job_change, growthgap\n",
    "#trump_lmkt_x = trump_mkt.iloc[:, np.r_[0, 2:4, 5:7, 11:13, 13:15, 16:23, 24:31, 32:39, 40:47, 48 -55, 56:63, 64:71, 72:79, 80:87, 88:95, 96:103, 104:111, 112:119, 120:127, 128:133]] #4 with lags\n",
    "trump_lmkt_x.set_index(\"date\", inplace=True)\n",
    "trump_lmkt_y1 = trump_mkt['pos_neg']\n",
    "#trump_lmkt_y2 = trump_mkt[['pos','neg','flat']]\n",
    "trump_lmkt_y3 = trump_mkt[['change']]\n",
    "trump_lmkt_x.head(1)\n",
    "#trump_lmkt_x.to_csv('./Data/trump_lmkt_x.csv', index=True)\n",
    "#trump_lmkt_y1.to_csv('./Data/trump_lmkt_y1.csv', index=False)"
   ]
  },
  {
   "cell_type": "code",
   "execution_count": 293,
   "metadata": {},
   "outputs": [
    {
     "name": "stdout",
     "output_type": "stream",
     "text": [
      "-0.2702758620689656\n",
      "-0.019765349693728895\n"
     ]
    }
   ],
   "source": [
    "X_train, X_test,y_train,y_test = train_test_split(trump_lmkt_x, trump_lmkt_y1, test_size = 0.33,random_state=42)\n",
    "regr = RandomForestRegressor()\n",
    "regr.fit(X_train,y_train)\n",
    "print(regr.score(X_test, y_test))\n",
    "\n",
    "#4.1 Sent_Count\n",
    "\n",
    "ridge = Ridge()\n",
    "ridge.fit(X_train,y_train)\n",
    "print(ridge.score(X_test, y_test))\n",
    "# regr.predict_proba(X_test)"
   ]
  },
  {
   "cell_type": "code",
   "execution_count": 289,
   "metadata": {},
   "outputs": [
    {
     "name": "stdout",
     "output_type": "stream",
     "text": [
      "-0.263899686520376\n",
      "-0.008810348992658534\n"
     ]
    }
   ],
   "source": [
    "X_train, X_test,y_train,y_test = train_test_split(trump_lmkt_x, trump_lmkt_y1, test_size = 0.33,random_state=42)\n",
    "regr = RandomForestRegressor()\n",
    "regr.fit(X_train,y_train)\n",
    "print(regr.score(X_test, y_test))\n",
    "\n",
    "#4 Sent_Count, favorites, Count\n",
    "\n",
    "ridge = Ridge()\n",
    "ridge.fit(X_train,y_train)\n",
    "print(ridge.score(X_test, y_test))\n",
    "# regr.predict_proba(X_test)"
   ]
  },
  {
   "cell_type": "code",
   "execution_count": 306,
   "metadata": {},
   "outputs": [
    {
     "data": {
      "text/html": [
       "<div>\n",
       "<style scoped>\n",
       "    .dataframe tbody tr th:only-of-type {\n",
       "        vertical-align: middle;\n",
       "    }\n",
       "\n",
       "    .dataframe tbody tr th {\n",
       "        vertical-align: top;\n",
       "    }\n",
       "\n",
       "    .dataframe thead th {\n",
       "        text-align: right;\n",
       "    }\n",
       "</style>\n",
       "<table border=\"1\" class=\"dataframe\">\n",
       "  <thead>\n",
       "    <tr style=\"text-align: right;\">\n",
       "      <th></th>\n",
       "      <th>Neg_Count</th>\n",
       "      <th>Pos_Count</th>\n",
       "      <th>favorites</th>\n",
       "      <th>Count</th>\n",
       "      <th>job_change</th>\n",
       "      <th>growthgap</th>\n",
       "      <th>negcount1day</th>\n",
       "      <th>poscount1day</th>\n",
       "      <th>favcount1day</th>\n",
       "      <th>econcount1day</th>\n",
       "      <th>job_change1day</th>\n",
       "      <th>growthgap1day</th>\n",
       "      <th>change1day</th>\n",
       "    </tr>\n",
       "    <tr>\n",
       "      <th>date</th>\n",
       "      <th></th>\n",
       "      <th></th>\n",
       "      <th></th>\n",
       "      <th></th>\n",
       "      <th></th>\n",
       "      <th></th>\n",
       "      <th></th>\n",
       "      <th></th>\n",
       "      <th></th>\n",
       "      <th></th>\n",
       "      <th></th>\n",
       "      <th></th>\n",
       "      <th></th>\n",
       "    </tr>\n",
       "  </thead>\n",
       "  <tbody>\n",
       "    <tr>\n",
       "      <th>2016-05-11</th>\n",
       "      <td>9</td>\n",
       "      <td>3</td>\n",
       "      <td>211703</td>\n",
       "      <td>1</td>\n",
       "      <td>197.0</td>\n",
       "      <td>1.8</td>\n",
       "      <td>8.0</td>\n",
       "      <td>10.0</td>\n",
       "      <td>159922.0</td>\n",
       "      <td>1.0</td>\n",
       "      <td>197.0</td>\n",
       "      <td>1.8</td>\n",
       "      <td>0.001557</td>\n",
       "    </tr>\n",
       "  </tbody>\n",
       "</table>\n",
       "</div>"
      ],
      "text/plain": [
       "            Neg_Count  Pos_Count  favorites  Count  job_change  growthgap  \\\n",
       "date                                                                        \n",
       "2016-05-11          9          3     211703      1       197.0        1.8   \n",
       "\n",
       "            negcount1day  poscount1day  favcount1day  econcount1day  \\\n",
       "date                                                                  \n",
       "2016-05-11           8.0          10.0      159922.0            1.0   \n",
       "\n",
       "            job_change1day  growthgap1day  change1day  \n",
       "date                                                   \n",
       "2016-05-11           197.0            1.8    0.001557  "
      ]
     },
     "execution_count": 306,
     "metadata": {},
     "output_type": "execute_result"
    }
   ],
   "source": [
    "trump_mkt.dropna(inplace=True)\n",
    "\n",
    "#trump_lmkt_x = trump_mkt.iloc[:, np.r_[0, 3:5, 7:9, 13:17, 18:23]] #5.1 with 1 lag\n",
    "trump_lmkt_x = trump_mkt.iloc[:, np.r_[0, 3:5, 7:9, 13:17, 18:23]] #5 with 1 lag\n",
    "#trump_lmkt_x = trump_mkt.iloc[:, np.r_[0, 3:5, 7:9, 13:17, 18:25, 26:33, 34:41, 42:49, 50:55, 56:63, 64:69]] #6 with 7 lags\n",
    "#trump_lmkt_x = trump_mkt.iloc[:, np.r_[0, 3:5, 7:9, 13:17, 18:25, 26:33, 34:41, 42:49, 50:55, 56:63, 64:71, 72:79, 80:87, 88:95, 96:103, 104:111, 112:119, 120:127, 128:133]] #7 with 15 lags\n",
    "\n",
    "trump_lmkt_x.set_index(\"date\", inplace=True)\n",
    "trump_lmkt_y1 = trump_mkt['pos_neg']\n",
    "#trump_lmkt_y2 = trump_mkt[['pos','neg','flat']]\n",
    "trump_lmkt_y3 = trump_mkt[['change']]\n",
    "trump_lmkt_x.head(1)\n",
    "#trump_lmkt_x.to_csv('./Data/trump_lmkt_x.csv', index=True)\n",
    "#trump_lmkt_y1.to_csv('./Data/trump_lmkt_y1.csv', index=False)"
   ]
  },
  {
   "cell_type": "code",
   "execution_count": 309,
   "metadata": {},
   "outputs": [
    {
     "name": "stdout",
     "output_type": "stream",
     "text": [
      "-0.13779310344827578\n",
      "-0.08553021834039964\n"
     ]
    },
    {
     "data": {
      "text/plain": [
       "[(0.10564515530113612, 'econcount1day'),\n",
       " (0.09346833187041624, 'Pos_Count'),\n",
       " (0.09012792721085602, 'poscount1day'),\n",
       " (0.08775380352006279, 'day'),\n",
       " (0.08449072112537033, 'Neg_Count'),\n",
       " (0.07809929486160823, 'growthgap'),\n",
       " (0.06792780863636326, 'job_change'),\n",
       " (0.06281239460750146, 'growthgap1day'),\n",
       " (0.0539430125564647, 'favcount1day'),\n",
       " (0.04708165230599056, 'negcount1day'),\n",
       " (0.043293771273940754, 'change1day'),\n",
       " (0.016469140186589463, 'job_change1day')]"
      ]
     },
     "execution_count": 309,
     "metadata": {},
     "output_type": "execute_result"
    }
   ],
   "source": [
    "X_train, X_test,y_train,y_test = train_test_split(trump_lmkt_x, trump_lmkt_y1, test_size = 0.33,random_state=42)\n",
    "regr = RandomForestRegressor()\n",
    "regr.fit(X_train,y_train)\n",
    "print(regr.score(X_test, y_test))\n",
    "\n",
    "#5 with 1 lag\n",
    "\n",
    "ridge = Ridge()\n",
    "ridge.fit(X_train,y_train)\n",
    "print(ridge.score(X_test, y_test))\n",
    "# regr.predict_proba(X_test)\n",
    "\n",
    "sorted(zip(regr.feature_importances_, trump_mkt.iloc[:, np.r_[3:5, 6:7, 13:17, 18:23]]), reverse=True)"
   ]
  },
  {
   "cell_type": "code",
   "execution_count": 305,
   "metadata": {},
   "outputs": [
    {
     "name": "stdout",
     "output_type": "stream",
     "text": [
      "-0.043213166144200565\n",
      "-0.6626139638348352\n"
     ]
    },
    {
     "data": {
      "text/plain": [
       "[(0.05991310268813316, 'change5day'),\n",
       " (0.048576756977569795, 'favcount5day'),\n",
       " (0.04358681290399031, 'negcount7day'),\n",
       " (0.041199675791731595, 'poscount4day'),\n",
       " (0.03717744397844285, 'negcount5day'),\n",
       " (0.03525901299352946, 'favcount1day'),\n",
       " (0.033867062166924276, 'change3day'),\n",
       " (0.03290318758605207, 'change6day'),\n",
       " (0.032109593347619224, 'negcount1day'),\n",
       " (0.03148329590522592, 'change4day'),\n",
       " (0.030029524037731653, 'negcount3day'),\n",
       " (0.027769393298204947, 'poscount7day'),\n",
       " (0.027322968670128844, 'favorites'),\n",
       " (0.026490277796654776, 'poscount6day'),\n",
       " (0.02626253251089003, 'Count'),\n",
       " (0.025821493597947224, 'favcount7day'),\n",
       " (0.025048083143700176, 'change2day'),\n",
       " (0.023612853946002408, 'favcount2day'),\n",
       " (0.0231111670400665, 'growthgap7day'),\n",
       " (0.021951245894382326, 'negcount2day'),\n",
       " (0.020530320127014685, 'Neg_Count'),\n",
       " (0.019948068574266484, 'econcount3day'),\n",
       " (0.019080293851360182, 'change7day'),\n",
       " (0.01906871777157052, 'favcount3day'),\n",
       " (0.018276623999584015, 'negcount4day'),\n",
       " (0.018256817061105875, 'negcount6day'),\n",
       " (0.01800798007124755, 'poscount3day'),\n",
       " (0.017444695075354785, 'econcount4day'),\n",
       " (0.016868961950227333, 'job_change'),\n",
       " (0.01683746885884416, 'job_change6day'),\n",
       " (0.015950238483655205, 'growthgap6day'),\n",
       " (0.015617666854534725, 'poscount1day'),\n",
       " (0.015071028934943364, 'favcount4day'),\n",
       " (0.01399545925775289, 'job_change3day'),\n",
       " (0.013980643015472296, 'job_change2day'),\n",
       " (0.011732463878380325, 'favcount6day'),\n",
       " (0.011104283198036103, 'econcount7day'),\n",
       " (0.009012237479549955, 'growthgap2day'),\n",
       " (0.00730754955413317, 'job_change7day'),\n",
       " (0.006770328403598941, 'change1day'),\n",
       " (0.006022569655881677, 'poscount5day'),\n",
       " (0.005296001533746632, 'job_change4day'),\n",
       " (0.005243042134756294, 'growthgap1day'),\n",
       " (0.004793381719977785, 'poscount2day'),\n",
       " (0.004768907563025208, 'econcount2day'),\n",
       " (0.004360018301191205, 'growthgap3day'),\n",
       " (0.003512614997763513, 'job_change1day'),\n",
       " (0.0034051703975755583, 'Pos_Count'),\n",
       " (0.0025022751298915086, 'econcount1day'),\n",
       " (0.0017386878906303187, 'econcount6day'),\n",
       " (0.0, 'growthgap4day'),\n",
       " (0.0, 'growthgap'),\n",
       " (0.0, 'econcount5day')]"
      ]
     },
     "execution_count": 305,
     "metadata": {},
     "output_type": "execute_result"
    }
   ],
   "source": [
    "X_train, X_test,y_train,y_test = train_test_split(trump_lmkt_x, trump_lmkt_y1, test_size = 0.33,random_state=42)\n",
    "regr = RandomForestRegressor()\n",
    "regr.fit(X_train,y_train)\n",
    "print(regr.score(X_test, y_test))\n",
    "\n",
    "#6 with 7 lags\n",
    "\n",
    "ridge = Ridge()\n",
    "ridge.fit(X_train,y_train)\n",
    "print(ridge.score(X_test, y_test))\n",
    "# regr.predict_proba(X_test)\n",
    "\n",
    "sorted(zip(regr.feature_importances_, trump_mkt.iloc[:, np.r_[3:5, 7:9, 13:17, 18:25, 26:33, 34:41, 42:49, 50:55, 56:63, 64:69]]), reverse=True)"
   ]
  },
  {
   "cell_type": "code",
   "execution_count": 302,
   "metadata": {},
   "outputs": [
    {
     "name": "stdout",
     "output_type": "stream",
     "text": [
      "-0.20438871473354236\n",
      "-9.659900755872082\n"
     ]
    },
    {
     "data": {
      "text/plain": [
       "[(0.07376065924335724, 'change13day'),\n",
       " (0.04388583146869176, 'change1day'),\n",
       " (0.03862211376637253, 'change5day'),\n",
       " (0.03372591927277102, 'negcount9day'),\n",
       " (0.03305442298494491, 'favcount13day'),\n",
       " (0.032585948724642044, 'favcount11day'),\n",
       " (0.030966846348849365, 'favorites'),\n",
       " (0.028727658239803805, 'favcount10day'),\n",
       " (0.02583493067104784, 'negcount1day'),\n",
       " (0.024496313931182248, 'change14day'),\n",
       " (0.02298960351075959, 'favcount14day'),\n",
       " (0.022668020500815282, 'change9day'),\n",
       " (0.021386423723269536, 'poscount12day'),\n",
       " (0.020649242132078232, 'job_change13day'),\n",
       " (0.0205465013421023, 'change3day'),\n",
       " (0.019301277061835227, 'change11day'),\n",
       " (0.019013929961750962, 'growthgap10day'),\n",
       " (0.018524181345691473, 'job_change6day'),\n",
       " (0.01852187714179381, 'favcount8day'),\n",
       " (0.01675957567355637, 'negcount13day'),\n",
       " (0.0162679801287547, 'poscount1day'),\n",
       " (0.014635413251953052, 'job_change14day'),\n",
       " (0.014491367233398746, 'econcount11day'),\n",
       " (0.014108654594916498, 'favcount3day'),\n",
       " (0.01348044858871451, 'poscount9day'),\n",
       " (0.01321700907935044, 'change15day'),\n",
       " (0.012715659104778464, 'job_change'),\n",
       " (0.012540879432270242, 'favcount2day'),\n",
       " (0.011744896915722511, 'favcount5day'),\n",
       " (0.01162155719466627, 'change6day'),\n",
       " (0.011554672310576813, 'favcount7day'),\n",
       " (0.011430062614602849, 'negcount11day'),\n",
       " (0.011343028537388982, 'job_change8day'),\n",
       " (0.010535135994762529, 'growthgap11day'),\n",
       " (0.009950896642607579, 'job_change1day'),\n",
       " (0.009931784111854964, 'job_change9day'),\n",
       " (0.009821849379575368, 'poscount4day'),\n",
       " (0.009532411424714777, 'negcount6day'),\n",
       " (0.009493358163492989, 'growthgap3day'),\n",
       " (0.009446189024610419, 'poscount10day'),\n",
       " (0.009408380486349583, 'poscount5day'),\n",
       " (0.009357815950075237, 'favcount6day'),\n",
       " (0.009029206540479753, 'change10day'),\n",
       " (0.008207119759623628, 'poscount14day'),\n",
       " (0.00788466998184809, 'change4day'),\n",
       " (0.007793312573416961, 'poscount11day'),\n",
       " (0.007241778236306165, 'favcount1day'),\n",
       " (0.007143925861721778, 'growthgap7day'),\n",
       " (0.006999088653036266, 'poscount6day'),\n",
       " (0.006148644920521068, 'favcount15day'),\n",
       " (0.006045753788604483, 'poscount13day'),\n",
       " (0.005944218044623727, 'poscount2day'),\n",
       " (0.005877062224627505, 'negcount4day'),\n",
       " (0.00585121331619202, 'growthgap9day'),\n",
       " (0.005791692420428635, 'poscount15day'),\n",
       " (0.005689584568894914, 'negcount10day'),\n",
       " (0.005665438178011143, 'econcount10day'),\n",
       " (0.005588976339179461, 'negcount3day'),\n",
       " (0.005090142385409334, 'econcount2day'),\n",
       " (0.005003208626707766, 'econcount13day'),\n",
       " (0.004699425240984654, 'growthgap12day'),\n",
       " (0.004469652102979522, 'change2day'),\n",
       " (0.0034545900689389826, 'change8day'),\n",
       " (0.0032955688068954762, 'job_change12day'),\n",
       " (0.003260361200811913, 'poscount3day'),\n",
       " (0.0032528292494650767, 'job_change7day'),\n",
       " (0.003224431818181818, 'negcount15day'),\n",
       " (0.0030513398002918303, 'econcount8day'),\n",
       " (0.0030049301061307924, 'econcount6day'),\n",
       " (0.0029931001156155027, 'growthgap6day'),\n",
       " (0.0026870265151515155, 'favcount4day'),\n",
       " (0.0022057709126190456, 'negcount14day'),\n",
       " (0.0020784318408910833, 'job_change2day'),\n",
       " (0.0017145230931910021, 'Count'),\n",
       " (0.001714523093191002, 'econcount7day'),\n",
       " (0.0017087502881634187, 'poscount8day'),\n",
       " (0.0017053564720907518, 'favcount9day'),\n",
       " (0.0016992148512875109, 'growthgap15day'),\n",
       " (0.0016719276094276099, 'change12day'),\n",
       " (0.0016584929267468515, 'growthgap8day'),\n",
       " (0.001633700776067843, 'growthgap2day'),\n",
       " (0.001620594744721433, 'job_change10day'),\n",
       " (0.0013435132575757578, 'growthgap'),\n",
       " (0.0013246965452847806, 'growthgap4day'),\n",
       " (0.0008814849332090712, 'job_change11day'),\n",
       " (0.0, 'poscount7day'),\n",
       " (0.0, 'negcount8day'),\n",
       " (0.0, 'negcount7day'),\n",
       " (0.0, 'negcount5day'),\n",
       " (0.0, 'negcount2day'),\n",
       " (0.0, 'negcount12day'),\n",
       " (0.0, 'job_change4day'),\n",
       " (0.0, 'job_change3day'),\n",
       " (0.0, 'job_change15day'),\n",
       " (0.0, 'growthgap1day'),\n",
       " (0.0, 'growthgap14day'),\n",
       " (0.0, 'growthgap13day'),\n",
       " (0.0, 'favcount12day'),\n",
       " (0.0, 'econcount9day'),\n",
       " (0.0, 'econcount5day'),\n",
       " (0.0, 'econcount4day'),\n",
       " (0.0, 'econcount3day'),\n",
       " (0.0, 'econcount1day'),\n",
       " (0.0, 'econcount15day'),\n",
       " (0.0, 'econcount14day'),\n",
       " (0.0, 'econcount12day'),\n",
       " (0.0, 'change7day'),\n",
       " (0.0, 'Pos_Count'),\n",
       " (0.0, 'Neg_Count')]"
      ]
     },
     "execution_count": 302,
     "metadata": {},
     "output_type": "execute_result"
    }
   ],
   "source": [
    "X_train, X_test,y_train,y_test = train_test_split(trump_lmkt_x, trump_lmkt_y1, test_size = 0.33,random_state=42)\n",
    "regr = RandomForestRegressor()\n",
    "regr.fit(X_train,y_train)\n",
    "print(regr.score(X_test, y_test))\n",
    "\n",
    "#7 with 15 lags\n",
    "\n",
    "ridge = Ridge()\n",
    "ridge.fit(X_train,y_train)\n",
    "print(ridge.score(X_test, y_test))\n",
    "# regr.predict_proba(X_test)\n",
    "\n",
    "sorted(zip(regr.feature_importances_, trump_mkt.iloc[:, np.r_[3:5, 7:9, 13:17, 18:25, 26:33, 34:41, 42:49, 50:55, 56:63, 64:71, 72:79, 80:87, 88:95, 96:103, 104:111, 112:119, 120:127, 128:133]]), reverse=True)"
   ]
  }
 ],
 "metadata": {
  "kernelspec": {
   "display_name": "Python 3",
   "language": "python",
   "name": "python3"
  },
  "language_info": {
   "codemirror_mode": {
    "name": "ipython",
    "version": 3
   },
   "file_extension": ".py",
   "mimetype": "text/x-python",
   "name": "python",
   "nbconvert_exporter": "python",
   "pygments_lexer": "ipython3",
   "version": "3.6.9"
  }
 },
 "nbformat": 4,
 "nbformat_minor": 2
}
