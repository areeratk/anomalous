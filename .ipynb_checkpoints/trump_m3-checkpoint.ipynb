{
 "cells": [
  {
   "cell_type": "code",
   "execution_count": 1,
   "metadata": {},
   "outputs": [],
   "source": [
    "%matplotlib inline\n",
    "# Dependencies and Setup\n",
    "import pandas as pd\n",
    "import numpy as np\n",
    "import pickle\n",
    "from sklearn.ensemble import RandomForestRegressor\n",
    "from sklearn.model_selection import train_test_split\n",
    "from sklearn.linear_model import Ridge\n",
    "from sklearn.tree import DecisionTreeClassifier # Import Decision Tree Classifier\n",
    "from sklearn.tree import export_graphviz\n",
    "from sklearn import metrics #Import scikit-learn metrics module for accuracy calculation\n",
    "import matplotlib.pyplot as plt\n",
    "import matplotlib\n",
    "from matplotlib.widgets import Slider\n",
    "import seaborn as sns; sns.set()\n",
    "import ppscore as pps\n",
    "import seaborn as seabornInstance \n"
   ]
  },
  {
   "cell_type": "code",
   "execution_count": 2,
   "metadata": {},
   "outputs": [],
   "source": [
    "import warnings\n",
    "warnings.filterwarnings('ignore')"
   ]
  },
  {
   "cell_type": "markdown",
   "metadata": {},
   "source": [
    "Read all files as indicated in subsequent cells containing data for labels and NLP formulated features of our project."
   ]
  },
  {
   "cell_type": "code",
   "execution_count": 3,
   "metadata": {},
   "outputs": [
    {
     "data": {
      "text/html": [
       "<div>\n",
       "<style scoped>\n",
       "    .dataframe tbody tr th:only-of-type {\n",
       "        vertical-align: middle;\n",
       "    }\n",
       "\n",
       "    .dataframe tbody tr th {\n",
       "        vertical-align: top;\n",
       "    }\n",
       "\n",
       "    .dataframe thead th {\n",
       "        text-align: right;\n",
       "    }\n",
       "</style>\n",
       "<table border=\"1\" class=\"dataframe\">\n",
       "  <thead>\n",
       "    <tr style=\"text-align: right;\">\n",
       "      <th></th>\n",
       "      <th>date</th>\n",
       "      <th>change</th>\n",
       "    </tr>\n",
       "  </thead>\n",
       "  <tbody>\n",
       "    <tr>\n",
       "      <th>4068</th>\n",
       "      <td>2016-01-04</td>\n",
       "      <td>0.002644</td>\n",
       "    </tr>\n",
       "  </tbody>\n",
       "</table>\n",
       "</div>"
      ],
      "text/plain": [
       "            date    change\n",
       "4068  2016-01-04  0.002644"
      ]
     },
     "execution_count": 3,
     "metadata": {},
     "output_type": "execute_result"
    }
   ],
   "source": [
    "L_cap = pd.read_csv(\"./data/stock_spy.csv\")\n",
    "L_cap = L_cap.loc[L_cap['date']>'2016-01-01']\n",
    "L_cap = L_cap.loc[:, [\"date\", \"change\"]]\n",
    "L_cap.head(1)"
   ]
  },
  {
   "cell_type": "code",
   "execution_count": 4,
   "metadata": {},
   "outputs": [
    {
     "data": {
      "text/html": [
       "<div>\n",
       "<style scoped>\n",
       "    .dataframe tbody tr th:only-of-type {\n",
       "        vertical-align: middle;\n",
       "    }\n",
       "\n",
       "    .dataframe tbody tr th {\n",
       "        vertical-align: top;\n",
       "    }\n",
       "\n",
       "    .dataframe thead th {\n",
       "        text-align: right;\n",
       "    }\n",
       "</style>\n",
       "<table border=\"1\" class=\"dataframe\">\n",
       "  <thead>\n",
       "    <tr style=\"text-align: right;\">\n",
       "      <th></th>\n",
       "      <th>date</th>\n",
       "      <th>change</th>\n",
       "    </tr>\n",
       "  </thead>\n",
       "  <tbody>\n",
       "    <tr>\n",
       "      <th>4068</th>\n",
       "      <td>2016-01-04</td>\n",
       "      <td>0.003601</td>\n",
       "    </tr>\n",
       "  </tbody>\n",
       "</table>\n",
       "</div>"
      ],
      "text/plain": [
       "            date    change\n",
       "4068  2016-01-04  0.003601"
      ]
     },
     "execution_count": 4,
     "metadata": {},
     "output_type": "execute_result"
    }
   ],
   "source": [
    "M_cap = pd.read_csv(\"./data/stock_mdy.csv\")\n",
    "M_cap = M_cap.loc[M_cap['date']>'2016-01-01']\n",
    "M_cap = M_cap.loc[:, [\"date\", \"change\"]]\n",
    "M_cap.head(1)"
   ]
  },
  {
   "cell_type": "code",
   "execution_count": 5,
   "metadata": {},
   "outputs": [
    {
     "data": {
      "text/html": [
       "<div>\n",
       "<style scoped>\n",
       "    .dataframe tbody tr th:only-of-type {\n",
       "        vertical-align: middle;\n",
       "    }\n",
       "\n",
       "    .dataframe tbody tr th {\n",
       "        vertical-align: top;\n",
       "    }\n",
       "\n",
       "    .dataframe thead th {\n",
       "        text-align: right;\n",
       "    }\n",
       "</style>\n",
       "<table border=\"1\" class=\"dataframe\">\n",
       "  <thead>\n",
       "    <tr style=\"text-align: right;\">\n",
       "      <th></th>\n",
       "      <th>date</th>\n",
       "      <th>change</th>\n",
       "    </tr>\n",
       "  </thead>\n",
       "  <tbody>\n",
       "    <tr>\n",
       "      <th>3924</th>\n",
       "      <td>2016-01-04</td>\n",
       "      <td>-0.006651</td>\n",
       "    </tr>\n",
       "  </tbody>\n",
       "</table>\n",
       "</div>"
      ],
      "text/plain": [
       "            date    change\n",
       "3924  2016-01-04 -0.006651"
      ]
     },
     "execution_count": 5,
     "metadata": {},
     "output_type": "execute_result"
    }
   ],
   "source": [
    "S_cap = pd.read_csv(\"./data/stock_ijr.csv\")\n",
    "S_cap = S_cap.loc[S_cap['date']>'2016-01-01']\n",
    "S_cap = S_cap.loc[:, [\"date\", \"change\"]]\n",
    "S_cap.head(1)"
   ]
  },
  {
   "cell_type": "code",
   "execution_count": 6,
   "metadata": {},
   "outputs": [
    {
     "data": {
      "text/html": [
       "<div>\n",
       "<style scoped>\n",
       "    .dataframe tbody tr th:only-of-type {\n",
       "        vertical-align: middle;\n",
       "    }\n",
       "\n",
       "    .dataframe tbody tr th {\n",
       "        vertical-align: top;\n",
       "    }\n",
       "\n",
       "    .dataframe thead th {\n",
       "        text-align: right;\n",
       "    }\n",
       "</style>\n",
       "<table border=\"1\" class=\"dataframe\">\n",
       "  <thead>\n",
       "    <tr style=\"text-align: right;\">\n",
       "      <th></th>\n",
       "      <th>Date</th>\n",
       "      <th>Count</th>\n",
       "    </tr>\n",
       "  </thead>\n",
       "  <tbody>\n",
       "    <tr>\n",
       "      <th>540</th>\n",
       "      <td>2016-01-02</td>\n",
       "      <td>2</td>\n",
       "    </tr>\n",
       "  </tbody>\n",
       "</table>\n",
       "</div>"
      ],
      "text/plain": [
       "           Date  Count\n",
       "540  2016-01-02      2"
      ]
     },
     "execution_count": 6,
     "metadata": {},
     "output_type": "execute_result"
    }
   ],
   "source": [
    "trump_econ = pd.read_csv(\"./data/trump_daydf_count.csv\")\n",
    "trump_econ.sort_values(by=['Date'], inplace=True, ascending=True)\n",
    "trump_econ.head(1)"
   ]
  },
  {
   "cell_type": "code",
   "execution_count": 7,
   "metadata": {},
   "outputs": [
    {
     "data": {
      "text/html": [
       "<div>\n",
       "<style scoped>\n",
       "    .dataframe tbody tr th:only-of-type {\n",
       "        vertical-align: middle;\n",
       "    }\n",
       "\n",
       "    .dataframe tbody tr th {\n",
       "        vertical-align: top;\n",
       "    }\n",
       "\n",
       "    .dataframe thead th {\n",
       "        text-align: right;\n",
       "    }\n",
       "</style>\n",
       "<table border=\"1\" class=\"dataframe\">\n",
       "  <thead>\n",
       "    <tr style=\"text-align: right;\">\n",
       "      <th></th>\n",
       "      <th>day</th>\n",
       "      <th>favorites</th>\n",
       "    </tr>\n",
       "  </thead>\n",
       "  <tbody>\n",
       "    <tr>\n",
       "      <th>0</th>\n",
       "      <td>2016-01-01</td>\n",
       "      <td>68955</td>\n",
       "    </tr>\n",
       "  </tbody>\n",
       "</table>\n",
       "</div>"
      ],
      "text/plain": [
       "          day  favorites\n",
       "0  2016-01-01      68955"
      ]
     },
     "execution_count": 7,
     "metadata": {},
     "output_type": "execute_result"
    }
   ],
   "source": [
    "trump_favd = pd.read_csv(\"./data/trump_favd_count.csv\")\n",
    "\n",
    "trump_favd.head(1)"
   ]
  },
  {
   "cell_type": "code",
   "execution_count": 8,
   "metadata": {},
   "outputs": [
    {
     "data": {
      "text/html": [
       "<div>\n",
       "<style scoped>\n",
       "    .dataframe tbody tr th:only-of-type {\n",
       "        vertical-align: middle;\n",
       "    }\n",
       "\n",
       "    .dataframe tbody tr th {\n",
       "        vertical-align: top;\n",
       "    }\n",
       "\n",
       "    .dataframe thead th {\n",
       "        text-align: right;\n",
       "    }\n",
       "</style>\n",
       "<table border=\"1\" class=\"dataframe\">\n",
       "  <thead>\n",
       "    <tr style=\"text-align: right;\">\n",
       "      <th></th>\n",
       "      <th>Date</th>\n",
       "      <th>Sent_Count</th>\n",
       "    </tr>\n",
       "  </thead>\n",
       "  <tbody>\n",
       "    <tr>\n",
       "      <th>1813</th>\n",
       "      <td>2016-01-01</td>\n",
       "      <td>2</td>\n",
       "    </tr>\n",
       "  </tbody>\n",
       "</table>\n",
       "</div>"
      ],
      "text/plain": [
       "            Date  Sent_Count\n",
       "1813  2016-01-01           2"
      ]
     },
     "execution_count": 8,
     "metadata": {},
     "output_type": "execute_result"
    }
   ],
   "source": [
    "trump_sentbyday = pd.read_csv(\"./data/trump_sentbydaydf_count.csv\")\n",
    "trump_sentbyday.sort_values(by=['Date'], inplace=True, ascending=True)\n",
    "trump_sentbyday.head(1)"
   ]
  },
  {
   "cell_type": "code",
   "execution_count": 9,
   "metadata": {},
   "outputs": [
    {
     "data": {
      "text/html": [
       "<div>\n",
       "<style scoped>\n",
       "    .dataframe tbody tr th:only-of-type {\n",
       "        vertical-align: middle;\n",
       "    }\n",
       "\n",
       "    .dataframe tbody tr th {\n",
       "        vertical-align: top;\n",
       "    }\n",
       "\n",
       "    .dataframe thead th {\n",
       "        text-align: right;\n",
       "    }\n",
       "</style>\n",
       "<table border=\"1\" class=\"dataframe\">\n",
       "  <thead>\n",
       "    <tr style=\"text-align: right;\">\n",
       "      <th></th>\n",
       "      <th>Date</th>\n",
       "      <th>Pos_Count</th>\n",
       "    </tr>\n",
       "  </thead>\n",
       "  <tbody>\n",
       "    <tr>\n",
       "      <th>1726</th>\n",
       "      <td>2016-01-01</td>\n",
       "      <td>5</td>\n",
       "    </tr>\n",
       "  </tbody>\n",
       "</table>\n",
       "</div>"
      ],
      "text/plain": [
       "            Date  Pos_Count\n",
       "1726  2016-01-01          5"
      ]
     },
     "execution_count": 9,
     "metadata": {},
     "output_type": "execute_result"
    }
   ],
   "source": [
    "trump_sentbydaypos = pd.read_csv(\"./data/trump_sentbydayposdf_count.csv\")\n",
    "trump_sentbydaypos.sort_values(by=['Date'], inplace=True, ascending=True)\n",
    "trump_sentbydaypos.head(1)"
   ]
  },
  {
   "cell_type": "code",
   "execution_count": 10,
   "metadata": {},
   "outputs": [
    {
     "data": {
      "text/html": [
       "<div>\n",
       "<style scoped>\n",
       "    .dataframe tbody tr th:only-of-type {\n",
       "        vertical-align: middle;\n",
       "    }\n",
       "\n",
       "    .dataframe tbody tr th {\n",
       "        vertical-align: top;\n",
       "    }\n",
       "\n",
       "    .dataframe thead th {\n",
       "        text-align: right;\n",
       "    }\n",
       "</style>\n",
       "<table border=\"1\" class=\"dataframe\">\n",
       "  <thead>\n",
       "    <tr style=\"text-align: right;\">\n",
       "      <th></th>\n",
       "      <th>Date</th>\n",
       "      <th>Neg_Count</th>\n",
       "    </tr>\n",
       "  </thead>\n",
       "  <tbody>\n",
       "    <tr>\n",
       "      <th>1638</th>\n",
       "      <td>2016-01-01</td>\n",
       "      <td>3</td>\n",
       "    </tr>\n",
       "  </tbody>\n",
       "</table>\n",
       "</div>"
      ],
      "text/plain": [
       "            Date  Neg_Count\n",
       "1638  2016-01-01          3"
      ]
     },
     "execution_count": 10,
     "metadata": {},
     "output_type": "execute_result"
    }
   ],
   "source": [
    "trump_sentbydayneg = pd.read_csv(\"./data/trump_sentbydaynegdf_count.csv\")\n",
    "trump_sentbydayneg.sort_values(by=['Date'], inplace=True, ascending=True)\n",
    "trump_sentbydayneg.head(1)"
   ]
  },
  {
   "cell_type": "markdown",
   "metadata": {},
   "source": [
    "Merge all the features and label, % change of large-cap daily prices, dataframes together to form the dataframe, trump_mkt, to be used for analyses.  In additiion, a classified label 'pos_neg' is created to determine whether the stock market prices are up (1) or down (0) each day.  "
   ]
  },
  {
   "cell_type": "code",
   "execution_count": 18,
   "metadata": {},
   "outputs": [
    {
     "data": {
      "text/html": [
       "<div>\n",
       "<style scoped>\n",
       "    .dataframe tbody tr th:only-of-type {\n",
       "        vertical-align: middle;\n",
       "    }\n",
       "\n",
       "    .dataframe tbody tr th {\n",
       "        vertical-align: top;\n",
       "    }\n",
       "\n",
       "    .dataframe thead th {\n",
       "        text-align: right;\n",
       "    }\n",
       "</style>\n",
       "<table border=\"1\" class=\"dataframe\">\n",
       "  <thead>\n",
       "    <tr style=\"text-align: right;\">\n",
       "      <th></th>\n",
       "      <th>date</th>\n",
       "      <th>change</th>\n",
       "      <th>Date</th>\n",
       "      <th>Neg_Count</th>\n",
       "      <th>Pos_Count</th>\n",
       "      <th>Sent_Count</th>\n",
       "      <th>day</th>\n",
       "      <th>favorites</th>\n",
       "      <th>Count</th>\n",
       "      <th>pos_neg</th>\n",
       "      <th>pos</th>\n",
       "      <th>neg</th>\n",
       "      <th>flat</th>\n",
       "    </tr>\n",
       "  </thead>\n",
       "  <tbody>\n",
       "    <tr>\n",
       "      <th>0</th>\n",
       "      <td>2016-01-07</td>\n",
       "      <td>-0.00937</td>\n",
       "      <td>2016-01-07</td>\n",
       "      <td>9</td>\n",
       "      <td>5</td>\n",
       "      <td>-4</td>\n",
       "      <td>2016-01-07</td>\n",
       "      <td>58819</td>\n",
       "      <td>1</td>\n",
       "      <td>0</td>\n",
       "      <td>0</td>\n",
       "      <td>1</td>\n",
       "      <td>0</td>\n",
       "    </tr>\n",
       "  </tbody>\n",
       "</table>\n",
       "</div>"
      ],
      "text/plain": [
       "         date   change        Date  Neg_Count  Pos_Count  Sent_Count  \\\n",
       "0  2016-01-07 -0.00937  2016-01-07          9          5          -4   \n",
       "\n",
       "          day  favorites  Count  pos_neg  pos  neg  flat  \n",
       "0  2016-01-07      58819      1        0    0    1     0  "
      ]
     },
     "execution_count": 18,
     "metadata": {},
     "output_type": "execute_result"
    }
   ],
   "source": [
    "trump_mkt = M_cap.merge(trump_sentbydayneg, how='inner', left_on=\"date\" ,right_on=\"Date\")\n",
    "trump_mkt = trump_mkt.merge(trump_sentbydaypos, how='inner' ,on=\"Date\")\n",
    "trump_mkt = trump_mkt.merge(trump_sentbyday, how='inner' ,on=\"Date\")\n",
    "trump_mkt = trump_mkt.merge(trump_favd, how='inner' , left_on=\"date\" ,right_on=\"day\")\n",
    "trump_mkt = trump_mkt.merge(trump_econ, how='inner' ,on=\"Date\")\n",
    "trump_mkt['pos_neg'] = np.where (trump_mkt['change'] > 0,1,0)\n",
    "trump_mkt['pos'] = np.where (trump_mkt['change'] > 0.002,1,0)\n",
    "trump_mkt['neg'] = np.where (trump_mkt['change'] < -0.002,1,0)\n",
    "trump_mkt['flat'] = np.where ((trump_mkt['change'] <= 0.002) & (trump_mkt['change'] >= -0.002) ,1,0)\n",
    "\n",
    "trump_mkt.head(1)"
   ]
  },
  {
   "cell_type": "markdown",
   "metadata": {},
   "source": [
    "Add the monthly news releases on employment situations and quarterly real GDP estimates.  Since the data are monthly, the missing daily data are filled with the data on the immediate prior values until the new values are announced. "
   ]
  },
  {
   "cell_type": "code",
   "execution_count": 19,
   "metadata": {},
   "outputs": [],
   "source": [
    "trump_empsit = pd.read_csv(\"./Data/empsit.csv\")\n",
    "trump_empsit.head()\n",
    "trump_mkt['date'] = pd.to_datetime(trump_mkt['date'])"
   ]
  },
  {
   "cell_type": "code",
   "execution_count": 20,
   "metadata": {},
   "outputs": [
    {
     "data": {
      "text/html": [
       "<div>\n",
       "<style scoped>\n",
       "    .dataframe tbody tr th:only-of-type {\n",
       "        vertical-align: middle;\n",
       "    }\n",
       "\n",
       "    .dataframe tbody tr th {\n",
       "        vertical-align: top;\n",
       "    }\n",
       "\n",
       "    .dataframe thead th {\n",
       "        text-align: right;\n",
       "    }\n",
       "</style>\n",
       "<table border=\"1\" class=\"dataframe\">\n",
       "  <thead>\n",
       "    <tr style=\"text-align: right;\">\n",
       "      <th></th>\n",
       "      <th>date</th>\n",
       "      <th>change</th>\n",
       "      <th>Date</th>\n",
       "      <th>Neg_Count</th>\n",
       "      <th>Pos_Count</th>\n",
       "      <th>Sent_Count</th>\n",
       "      <th>day</th>\n",
       "      <th>favorites</th>\n",
       "      <th>Count</th>\n",
       "      <th>pos_neg</th>\n",
       "      <th>pos</th>\n",
       "      <th>neg</th>\n",
       "      <th>flat</th>\n",
       "      <th>job_change</th>\n",
       "    </tr>\n",
       "  </thead>\n",
       "  <tbody>\n",
       "    <tr>\n",
       "      <th>0</th>\n",
       "      <td>2016-01-07</td>\n",
       "      <td>-0.00937</td>\n",
       "      <td>2016-01-07</td>\n",
       "      <td>9</td>\n",
       "      <td>5</td>\n",
       "      <td>-4</td>\n",
       "      <td>2016-01-07</td>\n",
       "      <td>58819</td>\n",
       "      <td>1</td>\n",
       "      <td>0</td>\n",
       "      <td>0</td>\n",
       "      <td>1</td>\n",
       "      <td>0</td>\n",
       "      <td>237.0</td>\n",
       "    </tr>\n",
       "  </tbody>\n",
       "</table>\n",
       "</div>"
      ],
      "text/plain": [
       "        date   change        Date  Neg_Count  Pos_Count  Sent_Count  \\\n",
       "0 2016-01-07 -0.00937  2016-01-07          9          5          -4   \n",
       "\n",
       "          day  favorites  Count  pos_neg  pos  neg  flat  job_change  \n",
       "0  2016-01-07      58819      1        0    0    1     0       237.0  "
      ]
     },
     "execution_count": 20,
     "metadata": {},
     "output_type": "execute_result"
    }
   ],
   "source": [
    "trump_mkt['job_change']=np.nan\n",
    "for x in range(len(trump_empsit.index)-1):\n",
    "   trump_mkt.loc[((trump_mkt['date']>= trump_empsit.loc[x][0]) & (trump_mkt['date']< trump_empsit.loc[x+1][0])),['job_change']]=trump_empsit.loc[x][1]\n",
    "#    print(wsb_mkt.loc[(wsb_mkt['date']>= wsb_empsit.loc[x][0]) & (wsb_mkt['date']< wsb_empsit.loc[x+1][0])]['job_change'])\n",
    "trump_mkt.head(1)"
   ]
  },
  {
   "cell_type": "code",
   "execution_count": 21,
   "metadata": {},
   "outputs": [],
   "source": [
    "trump_rgdp = pd.read_csv(\"./Data/RGDP.csv\")\n",
    "trump_rgdp.head()\n",
    "trump_mkt['Date'] = pd.to_datetime(trump_mkt['Date'])\n",
    "#trump_rgdp['Date']=pd.to_datetime(trump_rgdp['Date'])"
   ]
  },
  {
   "cell_type": "code",
   "execution_count": 23,
   "metadata": {},
   "outputs": [
    {
     "data": {
      "text/html": [
       "<div>\n",
       "<style scoped>\n",
       "    .dataframe tbody tr th:only-of-type {\n",
       "        vertical-align: middle;\n",
       "    }\n",
       "\n",
       "    .dataframe tbody tr th {\n",
       "        vertical-align: top;\n",
       "    }\n",
       "\n",
       "    .dataframe thead th {\n",
       "        text-align: right;\n",
       "    }\n",
       "</style>\n",
       "<table border=\"1\" class=\"dataframe\">\n",
       "  <thead>\n",
       "    <tr style=\"text-align: right;\">\n",
       "      <th></th>\n",
       "      <th>date</th>\n",
       "      <th>change</th>\n",
       "      <th>Date</th>\n",
       "      <th>Neg_Count</th>\n",
       "      <th>Pos_Count</th>\n",
       "      <th>Sent_Count</th>\n",
       "      <th>day</th>\n",
       "      <th>favorites</th>\n",
       "      <th>Count</th>\n",
       "      <th>pos_neg</th>\n",
       "      <th>pos</th>\n",
       "      <th>neg</th>\n",
       "      <th>flat</th>\n",
       "      <th>job_change</th>\n",
       "      <th>growthgap</th>\n",
       "    </tr>\n",
       "  </thead>\n",
       "  <tbody>\n",
       "    <tr>\n",
       "      <th>0</th>\n",
       "      <td>2016-01-07</td>\n",
       "      <td>-0.00937</td>\n",
       "      <td>2016-01-07</td>\n",
       "      <td>9</td>\n",
       "      <td>5</td>\n",
       "      <td>-4</td>\n",
       "      <td>2016-01-07</td>\n",
       "      <td>58819</td>\n",
       "      <td>1</td>\n",
       "      <td>0</td>\n",
       "      <td>0</td>\n",
       "      <td>1</td>\n",
       "      <td>0</td>\n",
       "      <td>237.0</td>\n",
       "      <td>-0.5</td>\n",
       "    </tr>\n",
       "  </tbody>\n",
       "</table>\n",
       "</div>"
      ],
      "text/plain": [
       "        date   change       Date  Neg_Count  Pos_Count  Sent_Count  \\\n",
       "0 2016-01-07 -0.00937 2016-01-07          9          5          -4   \n",
       "\n",
       "          day  favorites  Count  pos_neg  pos  neg  flat  job_change  \\\n",
       "0  2016-01-07      58819      1        0    0    1     0       237.0   \n",
       "\n",
       "   growthgap  \n",
       "0       -0.5  "
      ]
     },
     "execution_count": 23,
     "metadata": {},
     "output_type": "execute_result"
    }
   ],
   "source": [
    "trump_mkt['growthgap']=np.nan\n",
    "for x in range(len(trump_rgdp.index)-1):\n",
    "   trump_mkt.loc[((trump_mkt['date']>= trump_rgdp.loc[x][0]) & (trump_mkt['date']< trump_rgdp.loc[x+1][0])),['growthgap']]=trump_rgdp.loc[x][3]\n",
    "trump_mkt.head(1)"
   ]
  },
  {
   "cell_type": "code",
   "execution_count": 24,
   "metadata": {},
   "outputs": [
    {
     "data": {
      "text/plain": [
       "<matplotlib.legend.Legend at 0x24924e99550>"
      ]
     },
     "execution_count": 24,
     "metadata": {},
     "output_type": "execute_result"
    },
    {
     "data": {
      "text/plain": [
       "<Figure size 432x288 with 0 Axes>"
      ]
     },
     "metadata": {},
     "output_type": "display_data"
    },
    {
     "data": {
      "image/png": "[encoded data removed]",
      "text/plain": [
       "<Figure size 1152x1152 with 8 Axes>"
      ]
     },
     "metadata": {
      "needs_background": "light"
     },
     "output_type": "display_data"
    }
   ],
   "source": [
    "trump_mkt_hm1 = trump_mkt.loc[:, [\n",
    "    \n",
    "\"date\",\n",
    "\"change\",\n",
    "\"Neg_Count\",\n",
    "\"Pos_Count\",\n",
    "\"Sent_Count\",\n",
    "\"Count\",\n",
    "\"favorites\",\n",
    "\"job_change\",\n",
    "\"growthgap\"\n",
    "\n",
    "]]\n",
    "trump_mkt_hm1.set_index('date', inplace=True)\n",
    "plt.subplots_adjust(bottom=0.25)\n",
    "trump_mkt_hm1.plot(subplots=True, figsize=(16, 16)); plt.legend(loc='best')"
   ]
  },
  {
   "cell_type": "markdown",
   "metadata": {},
   "source": [
    "Calculate Predictive Power Score"
   ]
  },
  {
   "cell_type": "code",
   "execution_count": 25,
   "metadata": {},
   "outputs": [
    {
     "data": {
      "image/png": "[encoded data removed]",
      "text/plain": [
       "<Figure size 432x288 with 2 Axes>"
      ]
     },
     "metadata": {
      "needs_background": "light"
     },
     "output_type": "display_data"
    }
   ],
   "source": [
    "#pps matrix plot\n",
    "trump_mkt_hm1 = trump_mkt.loc[:, [\n",
    "\n",
    "\"pos_neg\",\n",
    "\"Neg_Count\",\n",
    "\"Pos_Count\",\n",
    "\"Sent_Count\",\n",
    "\"Count\",\n",
    "\"favorites\",\n",
    "\"job_change\",\n",
    "\"growthgap\"]]\n",
    "\n",
    "ax = sns.heatmap(pps.matrix(trump_mkt_hm1), vmin=0, vmax=1, cmap=\"Blues\", linewidths=0.5, annot=True, fmt=\".3f\")\n",
    "ax.set_xticklabels(\n",
    "    ax.get_xticklabels(),\n",
    "    rotation=45,\n",
    "    horizontalalignment='right'\n",
    ")\n",
    "bottom, top = ax.get_ylim()\n",
    "ax.set_ylim(bottom + 0.5, top - 0.5)\n",
    ";\n",
    "\n",
    "# Save Figure\n",
    "plt.savefig('./Images/powell_MCap_PPS_Matrix.png', figsize=(400,240))\n",
    "\n",
    "# Show plot\n",
    "plt.show()"
   ]
  },
  {
   "cell_type": "markdown",
   "metadata": {},
   "source": [
    "Given the low predictive power above, we may work on improving the predictive power by adding 15 lags of features and the % change of stock prices label to the dataframe based on the rationality that responses to remarks may take more that one day."
   ]
  },
  {
   "cell_type": "code",
   "execution_count": 26,
   "metadata": {},
   "outputs": [
    {
     "data": {
      "text/html": [
       "<div>\n",
       "<style scoped>\n",
       "    .dataframe tbody tr th:only-of-type {\n",
       "        vertical-align: middle;\n",
       "    }\n",
       "\n",
       "    .dataframe tbody tr th {\n",
       "        vertical-align: top;\n",
       "    }\n",
       "\n",
       "    .dataframe thead th {\n",
       "        text-align: right;\n",
       "    }\n",
       "</style>\n",
       "<table border=\"1\" class=\"dataframe\">\n",
       "  <thead>\n",
       "    <tr style=\"text-align: right;\">\n",
       "      <th></th>\n",
       "      <th>date</th>\n",
       "      <th>change</th>\n",
       "      <th>Date</th>\n",
       "      <th>Neg_Count</th>\n",
       "      <th>Pos_Count</th>\n",
       "      <th>Sent_Count</th>\n",
       "      <th>day</th>\n",
       "      <th>favorites</th>\n",
       "      <th>Count</th>\n",
       "      <th>pos_neg</th>\n",
       "      <th>...</th>\n",
       "      <th>growthgap14day</th>\n",
       "      <th>change14day</th>\n",
       "      <th>negcount15day</th>\n",
       "      <th>poscount15day</th>\n",
       "      <th>sentcount15day</th>\n",
       "      <th>favcount15day</th>\n",
       "      <th>econcount15day</th>\n",
       "      <th>job_change15day</th>\n",
       "      <th>growthgap15day</th>\n",
       "      <th>change15day</th>\n",
       "    </tr>\n",
       "  </thead>\n",
       "  <tbody>\n",
       "    <tr>\n",
       "      <th>0</th>\n",
       "      <td>2016-01-07</td>\n",
       "      <td>-0.00937</td>\n",
       "      <td>2016-01-07</td>\n",
       "      <td>9</td>\n",
       "      <td>5</td>\n",
       "      <td>-4</td>\n",
       "      <td>2016-01-07</td>\n",
       "      <td>58819</td>\n",
       "      <td>1</td>\n",
       "      <td>0</td>\n",
       "      <td>...</td>\n",
       "      <td>NaN</td>\n",
       "      <td>NaN</td>\n",
       "      <td>NaN</td>\n",
       "      <td>NaN</td>\n",
       "      <td>NaN</td>\n",
       "      <td>NaN</td>\n",
       "      <td>NaN</td>\n",
       "      <td>NaN</td>\n",
       "      <td>NaN</td>\n",
       "      <td>NaN</td>\n",
       "    </tr>\n",
       "  </tbody>\n",
       "</table>\n",
       "<p>1 rows × 135 columns</p>\n",
       "</div>"
      ],
      "text/plain": [
       "        date   change       Date  Neg_Count  Pos_Count  Sent_Count  \\\n",
       "0 2016-01-07 -0.00937 2016-01-07          9          5          -4   \n",
       "\n",
       "          day  favorites  Count  pos_neg  ...  growthgap14day  change14day  \\\n",
       "0  2016-01-07      58819      1        0  ...             NaN          NaN   \n",
       "\n",
       "   negcount15day  poscount15day  sentcount15day  favcount15day  \\\n",
       "0            NaN            NaN             NaN            NaN   \n",
       "\n",
       "   econcount15day  job_change15day  growthgap15day  change15day  \n",
       "0             NaN              NaN             NaN          NaN  \n",
       "\n",
       "[1 rows x 135 columns]"
      ]
     },
     "execution_count": 26,
     "metadata": {},
     "output_type": "execute_result"
    }
   ],
   "source": [
    "trump_mkt['negcount1day'] = trump_mkt['Neg_Count'].shift(1)\n",
    "trump_mkt['poscount1day'] = trump_mkt['Pos_Count'].shift(1)\n",
    "trump_mkt['sentcount1day'] = trump_mkt['Sent_Count'].shift(1)\n",
    "trump_mkt['favcount1day'] = trump_mkt['favorites'].shift(1)\n",
    "trump_mkt['econcount1day'] = trump_mkt['Count'].shift(1)\n",
    "trump_mkt['job_change1day'] = trump_mkt['job_change'].shift(1)\n",
    "trump_mkt['growthgap1day'] = trump_mkt['growthgap'].shift(1)\n",
    "trump_mkt['change1day'] = trump_mkt['change'].shift(1)\n",
    "trump_mkt['negcount2day'] = trump_mkt['Neg_Count'].shift(2)\n",
    "trump_mkt['poscount2day'] = trump_mkt['Pos_Count'].shift(2)\n",
    "trump_mkt['sentcount2day'] = trump_mkt['Sent_Count'].shift(2)\n",
    "trump_mkt['favcount2day'] = trump_mkt['favorites'].shift(2)\n",
    "trump_mkt['econcount2day'] = trump_mkt['Count'].shift(2)\n",
    "trump_mkt['job_change2day'] = trump_mkt['job_change'].shift(2)\n",
    "trump_mkt['growthgap2day'] = trump_mkt['growthgap'].shift(2)\n",
    "trump_mkt['change2day'] = trump_mkt['change'].shift(2)\n",
    "trump_mkt['negcount3day'] = trump_mkt['Neg_Count'].shift(3)\n",
    "trump_mkt['poscount3day'] = trump_mkt['Pos_Count'].shift(3)\n",
    "trump_mkt['sentcount3day'] = trump_mkt['Sent_Count'].shift(3)\n",
    "trump_mkt['favcount3day'] = trump_mkt['favorites'].shift(3)\n",
    "trump_mkt['econcount3day'] = trump_mkt['Count'].shift(3)\n",
    "trump_mkt['job_change3day'] = trump_mkt['job_change'].shift(3)\n",
    "trump_mkt['growthgap3day'] = trump_mkt['growthgap'].shift(3)\n",
    "trump_mkt['change3day'] = trump_mkt['change'].shift(3)\n",
    "trump_mkt['negcount4day'] = trump_mkt['Neg_Count'].shift(4)\n",
    "trump_mkt['poscount4day'] = trump_mkt['Pos_Count'].shift(4)\n",
    "trump_mkt['sentcount4day'] = trump_mkt['Sent_Count'].shift(4)\n",
    "trump_mkt['favcount4day'] = trump_mkt['favorites'].shift(4)\n",
    "trump_mkt['econcount4day'] = trump_mkt['Count'].shift(4)\n",
    "trump_mkt['job_change4day'] = trump_mkt['job_change'].shift(4)\n",
    "trump_mkt['growthgap4day'] = trump_mkt['growthgap'].shift(4)\n",
    "trump_mkt['change4day'] = trump_mkt['change'].shift(4)\n",
    "trump_mkt['negcount5day'] = trump_mkt['Neg_Count'].shift(5)\n",
    "trump_mkt['poscount5day'] = trump_mkt['Pos_Count'].shift(5)\n",
    "trump_mkt['sentcount5day'] = trump_mkt['Sent_Count'].shift(5)\n",
    "trump_mkt['favcount5day'] = trump_mkt['favorites'].shift(5)\n",
    "trump_mkt['econcount5day'] = trump_mkt['Count'].shift(5)\n",
    "trump_mkt['job_change5day'] = trump_mkt['job_change'].shift(5)\n",
    "trump_mkt['growthgap5day'] = trump_mkt['growthgap'].shift(5)\n",
    "trump_mkt['change5day'] = trump_mkt['change'].shift(5)\n",
    "trump_mkt['negcount6day'] = trump_mkt['Neg_Count'].shift(6)\n",
    "trump_mkt['poscount6day'] = trump_mkt['Pos_Count'].shift(6)\n",
    "trump_mkt['sentcount6day'] = trump_mkt['Sent_Count'].shift(6)\n",
    "trump_mkt['favcount6day'] = trump_mkt['favorites'].shift(6)\n",
    "trump_mkt['econcount6day'] = trump_mkt['Count'].shift(6)\n",
    "trump_mkt['job_change6day'] = trump_mkt['job_change'].shift(6)\n",
    "trump_mkt['growthgap6day'] = trump_mkt['growthgap'].shift(6)\n",
    "trump_mkt['change6day'] = trump_mkt['change'].shift(6)\n",
    "trump_mkt['negcount7day'] = trump_mkt['Neg_Count'].shift(7)\n",
    "trump_mkt['poscount7day'] = trump_mkt['Pos_Count'].shift(7)\n",
    "trump_mkt['sentcount7day'] = trump_mkt['Sent_Count'].shift(7)\n",
    "trump_mkt['favcount7day'] = trump_mkt['favorites'].shift(7)\n",
    "trump_mkt['econcount7day'] = trump_mkt['Count'].shift(7)\n",
    "trump_mkt['job_change7day'] = trump_mkt['job_change'].shift(7)\n",
    "trump_mkt['growthgap7day'] = trump_mkt['growthgap'].shift(7)\n",
    "trump_mkt['change7day'] = trump_mkt['change'].shift(7)\n",
    "trump_mkt['negcount8day'] = trump_mkt['Neg_Count'].shift(8)\n",
    "trump_mkt['poscount8day'] = trump_mkt['Pos_Count'].shift(8)\n",
    "trump_mkt['sentcount8day'] = trump_mkt['Sent_Count'].shift(8)\n",
    "trump_mkt['favcount8day'] = trump_mkt['favorites'].shift(8)\n",
    "trump_mkt['econcount8day'] = trump_mkt['Count'].shift(8)\n",
    "trump_mkt['job_change8day'] = trump_mkt['job_change'].shift(8)\n",
    "trump_mkt['growthgap8day'] = trump_mkt['growthgap'].shift(8)\n",
    "trump_mkt['change8day'] = trump_mkt['change'].shift(8)\n",
    "trump_mkt['negcount9day'] = trump_mkt['Neg_Count'].shift(9)\n",
    "trump_mkt['poscount9day'] = trump_mkt['Pos_Count'].shift(9)\n",
    "trump_mkt['sentcount9day'] = trump_mkt['Sent_Count'].shift(9)\n",
    "trump_mkt['favcount9day'] = trump_mkt['favorites'].shift(9)\n",
    "trump_mkt['econcount9day'] = trump_mkt['Count'].shift(9)\n",
    "trump_mkt['job_change9day'] = trump_mkt['job_change'].shift(9)\n",
    "trump_mkt['growthgap9day'] = trump_mkt['growthgap'].shift(9)\n",
    "trump_mkt['change9day'] = trump_mkt['change'].shift(9)\n",
    "trump_mkt['negcount10day'] = trump_mkt['Neg_Count'].shift(10)\n",
    "trump_mkt['poscount10day'] = trump_mkt['Pos_Count'].shift(10)\n",
    "trump_mkt['sentcount10day'] = trump_mkt['Sent_Count'].shift(10)\n",
    "trump_mkt['favcount10day'] = trump_mkt['favorites'].shift(10)\n",
    "trump_mkt['econcount10day'] = trump_mkt['Count'].shift(10)\n",
    "trump_mkt['job_change10day'] = trump_mkt['job_change'].shift(10)\n",
    "trump_mkt['growthgap10day'] = trump_mkt['growthgap'].shift(10)\n",
    "trump_mkt['change10day'] = trump_mkt['change'].shift(10)\n",
    "trump_mkt['negcount11day'] = trump_mkt['Neg_Count'].shift(11)\n",
    "trump_mkt['poscount11day'] = trump_mkt['Pos_Count'].shift(11)\n",
    "trump_mkt['sentcount11day'] = trump_mkt['Sent_Count'].shift(11)\n",
    "trump_mkt['favcount11day'] = trump_mkt['favorites'].shift(11)\n",
    "trump_mkt['econcount11day'] = trump_mkt['Count'].shift(11)\n",
    "trump_mkt['job_change11day'] = trump_mkt['job_change'].shift(11)\n",
    "trump_mkt['growthgap11day'] = trump_mkt['growthgap'].shift(11)\n",
    "trump_mkt['change11day'] = trump_mkt['change'].shift(11)\n",
    "trump_mkt['negcount12day'] = trump_mkt['Neg_Count'].shift(12)\n",
    "trump_mkt['poscount12day'] = trump_mkt['Pos_Count'].shift(12)\n",
    "trump_mkt['sentcount12day'] = trump_mkt['Sent_Count'].shift(12)\n",
    "trump_mkt['favcount12day'] = trump_mkt['favorites'].shift(12)\n",
    "trump_mkt['econcount12day'] = trump_mkt['Count'].shift(12)\n",
    "trump_mkt['job_change12day'] = trump_mkt['job_change'].shift(12)\n",
    "trump_mkt['growthgap12day'] = trump_mkt['growthgap'].shift(12)\n",
    "trump_mkt['change12day'] = trump_mkt['change'].shift(12)\n",
    "trump_mkt['negcount13day'] = trump_mkt['Neg_Count'].shift(13)\n",
    "trump_mkt['poscount13day'] = trump_mkt['Pos_Count'].shift(13)\n",
    "trump_mkt['sentcount13day'] = trump_mkt['Sent_Count'].shift(13)\n",
    "trump_mkt['favcount13day'] = trump_mkt['favorites'].shift(13)\n",
    "trump_mkt['econcount13day'] = trump_mkt['Count'].shift(13)\n",
    "trump_mkt['job_change13day'] = trump_mkt['job_change'].shift(13)\n",
    "trump_mkt['growthgap13day'] = trump_mkt['growthgap'].shift(13)\n",
    "trump_mkt['change13day'] = trump_mkt['change'].shift(13)\n",
    "trump_mkt['negcount14day'] = trump_mkt['Neg_Count'].shift(14)\n",
    "trump_mkt['poscount14day'] = trump_mkt['Pos_Count'].shift(14)\n",
    "trump_mkt['sentcount14day'] = trump_mkt['Sent_Count'].shift(14)\n",
    "trump_mkt['favcount14day'] = trump_mkt['favorites'].shift(14)\n",
    "trump_mkt['econcount14day'] = trump_mkt['Count'].shift(14)\n",
    "trump_mkt['job_change14day'] = trump_mkt['job_change'].shift(14)\n",
    "trump_mkt['growthgap14day'] = trump_mkt['growthgap'].shift(14)\n",
    "trump_mkt['change14day'] = trump_mkt['change'].shift(14)\n",
    "trump_mkt['negcount15day'] = trump_mkt['Neg_Count'].shift(15)\n",
    "trump_mkt['poscount15day'] = trump_mkt['Pos_Count'].shift(15)\n",
    "trump_mkt['sentcount15day'] = trump_mkt['Sent_Count'].shift(15)\n",
    "trump_mkt['favcount15day'] = trump_mkt['favorites'].shift(15)\n",
    "trump_mkt['econcount15day'] = trump_mkt['Count'].shift(15)\n",
    "trump_mkt['job_change15day'] = trump_mkt['job_change'].shift(15)\n",
    "trump_mkt['growthgap15day'] = trump_mkt['growthgap'].shift(15)\n",
    "trump_mkt['change15day'] = trump_mkt['change'].shift(15)\n",
    "trump_mkt.head(1)"
   ]
  },
  {
   "cell_type": "code",
   "execution_count": 28,
   "metadata": {},
   "outputs": [],
   "source": [
    "trump_mkt.to_csv('./Data/trump_mmkt.csv', index=False)"
   ]
  },
  {
   "cell_type": "code",
   "execution_count": 29,
   "metadata": {},
   "outputs": [
    {
     "name": "stdout",
     "output_type": "stream",
     "text": [
      "date\n",
      "change\n",
      "Date\n",
      "Neg_Count\n",
      "Pos_Count\n",
      "Sent_Count\n",
      "day\n",
      "favorites\n",
      "Count\n",
      "pos_neg\n",
      "pos\n",
      "neg\n",
      "flat\n",
      "job_change\n",
      "growthgap\n",
      "negcount1day\n",
      "poscount1day\n",
      "sentcount1day\n",
      "favcount1day\n",
      "econcount1day\n",
      "job_change1day\n",
      "growthgap1day\n",
      "change1day\n",
      "negcount2day\n",
      "poscount2day\n",
      "sentcount2day\n",
      "favcount2day\n",
      "econcount2day\n",
      "job_change2day\n",
      "growthgap2day\n",
      "change2day\n",
      "negcount3day\n",
      "poscount3day\n",
      "sentcount3day\n",
      "favcount3day\n",
      "econcount3day\n",
      "job_change3day\n",
      "growthgap3day\n",
      "change3day\n",
      "negcount4day\n",
      "poscount4day\n",
      "sentcount4day\n",
      "favcount4day\n",
      "econcount4day\n",
      "job_change4day\n",
      "growthgap4day\n",
      "change4day\n",
      "negcount5day\n",
      "poscount5day\n",
      "sentcount5day\n",
      "favcount5day\n",
      "econcount5day\n",
      "job_change5day\n",
      "growthgap5day\n",
      "change5day\n",
      "negcount6day\n",
      "poscount6day\n",
      "sentcount6day\n",
      "favcount6day\n",
      "econcount6day\n",
      "job_change6day\n",
      "growthgap6day\n",
      "change6day\n",
      "negcount7day\n",
      "poscount7day\n",
      "sentcount7day\n",
      "favcount7day\n",
      "econcount7day\n",
      "job_change7day\n",
      "growthgap7day\n",
      "change7day\n",
      "negcount8day\n",
      "poscount8day\n",
      "sentcount8day\n",
      "favcount8day\n",
      "econcount8day\n",
      "job_change8day\n",
      "growthgap8day\n",
      "change8day\n",
      "negcount9day\n",
      "poscount9day\n",
      "sentcount9day\n",
      "favcount9day\n",
      "econcount9day\n",
      "job_change9day\n",
      "growthgap9day\n",
      "change9day\n",
      "negcount10day\n",
      "poscount10day\n",
      "sentcount10day\n",
      "favcount10day\n",
      "econcount10day\n",
      "job_change10day\n",
      "growthgap10day\n",
      "change10day\n",
      "negcount11day\n",
      "poscount11day\n",
      "sentcount11day\n",
      "favcount11day\n",
      "econcount11day\n",
      "job_change11day\n",
      "growthgap11day\n",
      "change11day\n",
      "negcount12day\n",
      "poscount12day\n",
      "sentcount12day\n",
      "favcount12day\n",
      "econcount12day\n",
      "job_change12day\n",
      "growthgap12day\n",
      "change12day\n",
      "negcount13day\n",
      "poscount13day\n",
      "sentcount13day\n",
      "favcount13day\n",
      "econcount13day\n",
      "job_change13day\n",
      "growthgap13day\n",
      "change13day\n",
      "negcount14day\n",
      "poscount14day\n",
      "sentcount14day\n",
      "favcount14day\n",
      "econcount14day\n",
      "job_change14day\n",
      "growthgap14day\n",
      "change14day\n",
      "negcount15day\n",
      "poscount15day\n",
      "sentcount15day\n",
      "favcount15day\n",
      "econcount15day\n",
      "job_change15day\n",
      "growthgap15day\n",
      "change15day\n"
     ]
    }
   ],
   "source": [
    "for x in trump_mkt.columns:\n",
    "    print(x)"
   ]
  },
  {
   "cell_type": "markdown",
   "metadata": {},
   "source": [
    "Machine Learning Models: RandomForesRegression & Ridge for the model with % change of prices for SPY, MDY and IJR as labels; RandomClassifier and LogisticRegressor for the models with labels as classifiers of price change directions -- up or down. The RandomFlorest models also oberve feature importance and decision trees."
   ]
  },
  {
   "cell_type": "code",
   "execution_count": 30,
   "metadata": {},
   "outputs": [
    {
     "data": {
      "text/html": [
       "<div>\n",
       "<style scoped>\n",
       "    .dataframe tbody tr th:only-of-type {\n",
       "        vertical-align: middle;\n",
       "    }\n",
       "\n",
       "    .dataframe tbody tr th {\n",
       "        vertical-align: top;\n",
       "    }\n",
       "\n",
       "    .dataframe thead th {\n",
       "        text-align: right;\n",
       "    }\n",
       "</style>\n",
       "<table border=\"1\" class=\"dataframe\">\n",
       "  <thead>\n",
       "    <tr style=\"text-align: right;\">\n",
       "      <th></th>\n",
       "      <th>Neg_Count</th>\n",
       "      <th>Pos_Count</th>\n",
       "      <th>favorites</th>\n",
       "      <th>Count</th>\n",
       "      <th>job_change</th>\n",
       "      <th>growthgap</th>\n",
       "    </tr>\n",
       "    <tr>\n",
       "      <th>date</th>\n",
       "      <th></th>\n",
       "      <th></th>\n",
       "      <th></th>\n",
       "      <th></th>\n",
       "      <th></th>\n",
       "      <th></th>\n",
       "    </tr>\n",
       "  </thead>\n",
       "  <tbody>\n",
       "    <tr>\n",
       "      <th>2016-05-11</th>\n",
       "      <td>9</td>\n",
       "      <td>3</td>\n",
       "      <td>211703</td>\n",
       "      <td>1</td>\n",
       "      <td>197.0</td>\n",
       "      <td>1.8</td>\n",
       "    </tr>\n",
       "  </tbody>\n",
       "</table>\n",
       "</div>"
      ],
      "text/plain": [
       "            Neg_Count  Pos_Count  favorites  Count  job_change  growthgap\n",
       "date                                                                     \n",
       "2016-05-11          9          3     211703      1       197.0        1.8"
      ]
     },
     "execution_count": 30,
     "metadata": {},
     "output_type": "execute_result"
    }
   ],
   "source": [
    "trump_mkt.dropna(inplace=True)\n",
    "trump_mmkt_x = trump_mkt.iloc[:, np.r_[0, 3:5, 7:9, 13:15]] #1 %Change (y_3)\n",
    "#trump_mmkt_x = trump_mkt.iloc[:, np.r_[0, 3:5, 7:9, 13:15]] #2 Classification Change (y_1)\n",
    "#trump_mmkt_x = trump_mkt.iloc[:, np.r_[0, 3:5, 7:9]] #3 y_1 Neg_Count, Pos_Count, favorites, Count\n",
    "#trump_mmkt_x = trump_mkt.iloc[:, np.r_[0, 5:6, 7:9]] #4 Sent_Count, favorites, Count\n",
    "#trump_mmkt_x = trump_mkt.iloc[:, np.r_[0, 5:6, 7:8]] #4.1 Sent_Count, favorites\n",
    "\n",
    "trump_mmkt_x.set_index(\"date\", inplace=True)\n",
    "trump_mmkt_y1 = trump_mkt['pos_neg']\n",
    "#trump_mmkt_y2 = trump_mkt[['pos','neg','flat']]\n",
    "trump_mmkt_y3 = trump_mkt[['change']]\n",
    "trump_mmkt_x.head(1)\n",
    "#trump_mmkt_x.to_csv('./Data/trump_mmkt_x.csv', index=True)\n",
    "#trump_mmkt_y1.to_csv('./Data/trump_mmkt_y1.csv', index=False)"
   ]
  },
  {
   "cell_type": "code",
   "execution_count": 31,
   "metadata": {},
   "outputs": [
    {
     "name": "stdout",
     "output_type": "stream",
     "text": [
      "-0.26679076730736173\n",
      "-0.05860073488648676\n"
     ]
    }
   ],
   "source": [
    "X_train, X_test,y_train,y_test = train_test_split(trump_mmkt_x, trump_mmkt_y3, test_size = 0.33,random_state=42)\n",
    "regr = RandomForestRegressor()\n",
    "regr.fit(X_train,y_train)\n",
    "print(regr.score(X_test, y_test))\n",
    "\n",
    "#1 %Change\n",
    "\n",
    "ridge = Ridge()\n",
    "ridge.fit(X_train,y_train)\n",
    "print(ridge.score(X_test, y_test))\n",
    "# regr.predict_proba(X_test)"
   ]
  },
  {
   "cell_type": "code",
   "execution_count": null,
   "metadata": {},
   "outputs": [],
   "source": [
    "trump_mkt.dropna(inplace=True)\n",
    "#trump_mmkt_x = trump_mkt.iloc[:, np.r_[0, 3:5, 7:9, 13:15]] #1 %Change (y_3)\n",
    "trump_mmkt_x = trump_mkt.iloc[:, np.r_[0, 3:5, 7:9, 13:15]] #2 Classification Change (y_1)\n",
    "#trump_mmkt_x = trump_mkt.iloc[:, np.r_[0, 3:5, 7:9]] #3 y_1 Neg_Count, Pos_Count, favorites, Count\n",
    "#trump_mmkt_x = trump_mkt.iloc[:, np.r_[0, 5:6, 7:9]] #4 Sent_Count, favorites, Count\n",
    "#trump_mmkt_x = trump_mkt.iloc[:, np.r_[0, 5:6, 7:8]] #4.1 Sent_Count, favorites\n",
    "\n",
    "trump_mmkt_x.set_index(\"date\", inplace=True)\n",
    "trump_mmkt_y1 = trump_mkt['pos_neg']\n",
    "#trump_mmkt_y2 = trump_mkt[['pos','neg','flat']]\n",
    "trump_mmkt_y3 = trump_mkt[['change']]\n",
    "trump_mmkt_x.head(1)\n",
    "#trump_mmkt_x.to_csv('./Data/trump_mmkt_x.csv', index=True)\n",
    "#trump_mmkt_y1.to_csv('./Data/trump_mmkt_y1.csv', index=False)"
   ]
  },
  {
   "cell_type": "code",
   "execution_count": 32,
   "metadata": {},
   "outputs": [
    {
     "name": "stdout",
     "output_type": "stream",
     "text": [
      "0.45132743362831856\n",
      "0.48672566371681414\n"
     ]
    }
   ],
   "source": [
    "X_train, X_test,y_train,y_test = train_test_split(trump_mmkt_x, trump_mmkt_y1, test_size = 0.33,random_state=42)\n",
    "\n",
    "from sklearn.ensemble import RandomForestClassifier\n",
    "\n",
    "regr = RandomForestClassifier()\n",
    "regr.fit(X_train,y_train)\n",
    "print(regr.score(X_test, y_test))\n",
    "\n",
    "#2 Pos_Count, Neg_Count, Count, job_change, growthgap\n",
    "\n",
    "from sklearn.linear_model import RidgeClassifier\n",
    "\n",
    "ridge = RidgeClassifier()\n",
    "ridge.fit(X_train,y_train)\n",
    "print(ridge.score(X_test, y_test))\n",
    "# regr.predict_proba(X_test)"
   ]
  },
  {
   "cell_type": "code",
   "execution_count": 33,
   "metadata": {},
   "outputs": [
    {
     "data": {
      "text/html": [
       "<div>\n",
       "<style scoped>\n",
       "    .dataframe tbody tr th:only-of-type {\n",
       "        vertical-align: middle;\n",
       "    }\n",
       "\n",
       "    .dataframe tbody tr th {\n",
       "        vertical-align: top;\n",
       "    }\n",
       "\n",
       "    .dataframe thead th {\n",
       "        text-align: right;\n",
       "    }\n",
       "</style>\n",
       "<table border=\"1\" class=\"dataframe\">\n",
       "  <thead>\n",
       "    <tr style=\"text-align: right;\">\n",
       "      <th></th>\n",
       "      <th>Neg_Count</th>\n",
       "      <th>Pos_Count</th>\n",
       "      <th>favorites</th>\n",
       "      <th>Count</th>\n",
       "    </tr>\n",
       "    <tr>\n",
       "      <th>date</th>\n",
       "      <th></th>\n",
       "      <th></th>\n",
       "      <th></th>\n",
       "      <th></th>\n",
       "    </tr>\n",
       "  </thead>\n",
       "  <tbody>\n",
       "    <tr>\n",
       "      <th>2016-05-11</th>\n",
       "      <td>9</td>\n",
       "      <td>3</td>\n",
       "      <td>211703</td>\n",
       "      <td>1</td>\n",
       "    </tr>\n",
       "  </tbody>\n",
       "</table>\n",
       "</div>"
      ],
      "text/plain": [
       "            Neg_Count  Pos_Count  favorites  Count\n",
       "date                                              \n",
       "2016-05-11          9          3     211703      1"
      ]
     },
     "execution_count": 33,
     "metadata": {},
     "output_type": "execute_result"
    }
   ],
   "source": [
    "trump_mkt.dropna(inplace=True)\n",
    "#trump_mmkt_x = trump_mkt.iloc[:, np.r_[0, 3:5, 7:9, 13:15]] #1 %Change (y_3)\n",
    "#trump_mmkt_x = trump_mkt.iloc[:, np.r_[0, 3:5, 7:9, 13:15]] #2 Classification Change (y_1)\n",
    "trump_mmkt_x = trump_mkt.iloc[:, np.r_[0, 3:5, 7:9]] #3 y_1 Neg_Count, Pos_Count, favorites, Count\n",
    "#trump_mmkt_x = trump_mkt.iloc[:, np.r_[0, 5:6, 7:9]] #4 Sent_Count, favorites, Count\n",
    "#trump_mmkt_x = trump_mkt.iloc[:, np.r_[0, 5:6, 7:8]] #4.1 Sent_Count, favorites\n",
    "\n",
    "trump_mmkt_x.set_index(\"date\", inplace=True)\n",
    "trump_mmkt_y1 = trump_mkt['pos_neg']\n",
    "#trump_mmkt_y2 = trump_mkt[['pos','neg','flat']]\n",
    "trump_mmkt_y3 = trump_mkt[['change']]\n",
    "trump_mmkt_x.head(1)\n",
    "#trump_mmkt_x.to_csv('./Data/trump_mmkt_x.csv', index=True)\n",
    "#trump_mmkt_y1.to_csv('./Data/trump_mmkt_y1.csv', index=False)"
   ]
  },
  {
   "cell_type": "code",
   "execution_count": 34,
   "metadata": {},
   "outputs": [
    {
     "name": "stdout",
     "output_type": "stream",
     "text": [
      "0.48672566371681414\n",
      "0.4690265486725664\n"
     ]
    }
   ],
   "source": [
    "X_train, X_test,y_train,y_test = train_test_split(trump_mmkt_x, trump_mmkt_y1, test_size = 0.33,random_state=42)\n",
    "\n",
    "regr = RandomForestClassifier()\n",
    "regr.fit(X_train,y_train)\n",
    "print(regr.score(X_test, y_test))\n",
    "\n",
    "#3 Pos_Count, Neg_Count, favorites, Count\n",
    "\n",
    "ridge = RidgeClassifier()\n",
    "ridge.fit(X_train,y_train)\n",
    "print(ridge.score(X_test, y_test))\n",
    "# regr.predict_proba(X_test)"
   ]
  },
  {
   "cell_type": "code",
   "execution_count": 38,
   "metadata": {},
   "outputs": [
    {
     "data": {
      "text/html": [
       "<div>\n",
       "<style scoped>\n",
       "    .dataframe tbody tr th:only-of-type {\n",
       "        vertical-align: middle;\n",
       "    }\n",
       "\n",
       "    .dataframe tbody tr th {\n",
       "        vertical-align: top;\n",
       "    }\n",
       "\n",
       "    .dataframe thead th {\n",
       "        text-align: right;\n",
       "    }\n",
       "</style>\n",
       "<table border=\"1\" class=\"dataframe\">\n",
       "  <thead>\n",
       "    <tr style=\"text-align: right;\">\n",
       "      <th></th>\n",
       "      <th>Sent_Count</th>\n",
       "      <th>favorites</th>\n",
       "    </tr>\n",
       "    <tr>\n",
       "      <th>date</th>\n",
       "      <th></th>\n",
       "      <th></th>\n",
       "    </tr>\n",
       "  </thead>\n",
       "  <tbody>\n",
       "    <tr>\n",
       "      <th>2016-05-11</th>\n",
       "      <td>-6</td>\n",
       "      <td>211703</td>\n",
       "    </tr>\n",
       "  </tbody>\n",
       "</table>\n",
       "</div>"
      ],
      "text/plain": [
       "            Sent_Count  favorites\n",
       "date                             \n",
       "2016-05-11          -6     211703"
      ]
     },
     "execution_count": 38,
     "metadata": {},
     "output_type": "execute_result"
    }
   ],
   "source": [
    "trump_mkt.dropna(inplace=True)\n",
    "#trump_mmkt_x = trump_mkt.iloc[:, np.r_[0, 3:5, 7:9, 13:15]] #1 %Change (y_3)\n",
    "#trump_mmkt_x = trump_mkt.iloc[:, np.r_[0, 3:5, 7:9, 13:15]] #2 Classification Change (y_1)\n",
    "#trump_mmkt_x = trump_mkt.iloc[:, np.r_[0, 3:5, 7:9]] #3 y_1 Neg_Count, Pos_Count, favorites, Count\n",
    "#trump_mmkt_x = trump_mkt.iloc[:, np.r_[0, 5:6, 7:9]] #4 Sent_Count, favorites, Count\n",
    "trump_mmkt_x = trump_mkt.iloc[:, np.r_[0, 5:6, 7:8]] #4.1 Sent_Count, favorites\n",
    "\n",
    "trump_mmkt_x.set_index(\"date\", inplace=True)\n",
    "trump_mmkt_y1 = trump_mkt['pos_neg']\n",
    "#trump_mmkt_y2 = trump_mkt[['pos','neg','flat']]\n",
    "trump_mmkt_y3 = trump_mkt[['change']]\n",
    "trump_mmkt_x.head(1)\n",
    "#trump_mmkt_x.to_csv('./Data/trump_mmkt_x.csv', index=True)\n",
    "#trump_mmkt_y1.to_csv('./Data/trump_mmkt_y1.csv', index=False)"
   ]
  },
  {
   "cell_type": "code",
   "execution_count": 39,
   "metadata": {},
   "outputs": [
    {
     "name": "stdout",
     "output_type": "stream",
     "text": [
      "0.5929203539823009\n",
      "0.504424778761062\n"
     ]
    }
   ],
   "source": [
    "X_train, X_test,y_train,y_test = train_test_split(trump_mmkt_x, trump_mmkt_y1, test_size = 0.33,random_state=42)\n",
    "\n",
    "regr = RandomForestClassifier()\n",
    "regr.fit(X_train,y_train)\n",
    "print(regr.score(X_test, y_test))\n",
    "\n",
    "#4.1 Sent_Count, favorites\n",
    "\n",
    "ridge = RidgeClassifier()\n",
    "ridge.fit(X_train,y_train)\n",
    "print(ridge.score(X_test, y_test))\n",
    "# regr.predict_proba(X_test)"
   ]
  },
  {
   "cell_type": "code",
   "execution_count": 37,
   "metadata": {},
   "outputs": [
    {
     "name": "stdout",
     "output_type": "stream",
     "text": [
      "0.5309734513274337\n",
      "0.49557522123893805\n"
     ]
    }
   ],
   "source": [
    "X_train, X_test,y_train,y_test = train_test_split(trump_mmkt_x, trump_mmkt_y1, test_size = 0.33,random_state=42)\n",
    "\n",
    "regr = RandomForestClassifier()\n",
    "regr.fit(X_train,y_train)\n",
    "print(regr.score(X_test, y_test))\n",
    "\n",
    "#4 Sent_Count, favorites, Count\n",
    "\n",
    "ridge = RidgeClassifier()\n",
    "ridge.fit(X_train,y_train)\n",
    "print(ridge.score(X_test, y_test))\n",
    "# regr.predict_proba(X_test)"
   ]
  },
  {
   "cell_type": "code",
   "execution_count": 44,
   "metadata": {},
   "outputs": [
    {
     "data": {
      "text/html": [
       "<div>\n",
       "<style scoped>\n",
       "    .dataframe tbody tr th:only-of-type {\n",
       "        vertical-align: middle;\n",
       "    }\n",
       "\n",
       "    .dataframe tbody tr th {\n",
       "        vertical-align: top;\n",
       "    }\n",
       "\n",
       "    .dataframe thead th {\n",
       "        text-align: right;\n",
       "    }\n",
       "</style>\n",
       "<table border=\"1\" class=\"dataframe\">\n",
       "  <thead>\n",
       "    <tr style=\"text-align: right;\">\n",
       "      <th></th>\n",
       "      <th>Sent_Count</th>\n",
       "      <th>favorites</th>\n",
       "      <th>Count</th>\n",
       "      <th>sentcount1day</th>\n",
       "      <th>favcount1day</th>\n",
       "      <th>econcount1day</th>\n",
       "      <th>job_change1day</th>\n",
       "      <th>growthgap1day</th>\n",
       "      <th>change1day</th>\n",
       "    </tr>\n",
       "    <tr>\n",
       "      <th>date</th>\n",
       "      <th></th>\n",
       "      <th></th>\n",
       "      <th></th>\n",
       "      <th></th>\n",
       "      <th></th>\n",
       "      <th></th>\n",
       "      <th></th>\n",
       "      <th></th>\n",
       "      <th></th>\n",
       "    </tr>\n",
       "  </thead>\n",
       "  <tbody>\n",
       "    <tr>\n",
       "      <th>2016-05-11</th>\n",
       "      <td>-6</td>\n",
       "      <td>211703</td>\n",
       "      <td>1</td>\n",
       "      <td>2.0</td>\n",
       "      <td>159922.0</td>\n",
       "      <td>1.0</td>\n",
       "      <td>197.0</td>\n",
       "      <td>1.8</td>\n",
       "      <td>0.000568</td>\n",
       "    </tr>\n",
       "  </tbody>\n",
       "</table>\n",
       "</div>"
      ],
      "text/plain": [
       "            Sent_Count  favorites  Count  sentcount1day  favcount1day  \\\n",
       "date                                                                    \n",
       "2016-05-11          -6     211703      1            2.0      159922.0   \n",
       "\n",
       "            econcount1day  job_change1day  growthgap1day  change1day  \n",
       "date                                                                  \n",
       "2016-05-11            1.0           197.0            1.8    0.000568  "
      ]
     },
     "execution_count": 44,
     "metadata": {},
     "output_type": "execute_result"
    }
   ],
   "source": [
    "trump_mkt.dropna(inplace=True)\n",
    "\n",
    "trump_mmkt_x = trump_mkt.iloc[:, np.r_[0, 5:6, 7:9, 17:23]] #5 with 1 lag\n",
    "#trump_mmkt_x = trump_mkt.iloc[:, np.r_[0, 5:6, 7:9, 17:23, 25:31, 33:39, 41:47, 49:55, 57:63, 65:71]] #6 with 7 lags\n",
    "#trump_mmkt_x = trump_mkt.iloc[:, np.r_[0, 5:6, 7:9, 17:23, 25:31, 33:39, 41:47, 49:55, 57:63, 65:71, 73:79, 81:87, 89:95, 97:103, 105:111, 113:119, 121:127, 129:135]] #7 with 15 lags\n",
    "\n",
    "trump_mmkt_x.set_index(\"date\", inplace=True)\n",
    "trump_mmkt_y1 = trump_mkt['pos_neg']\n",
    "trump_mmkt_y2 = trump_mkt[['pos','neg','flat']]\n",
    "trump_mmkt_y3 = trump_mkt[['change']]\n",
    "trump_mmkt_x.head(1)\n",
    "#trump_mmkt_x.to_csv('./Data/trump_mmkt_x.csv', index=True)\n",
    "#trump_mmkt_y1.to_csv('./Data/trump_mmkt_y1.csv', index=False)"
   ]
  },
  {
   "cell_type": "code",
   "execution_count": 46,
   "metadata": {},
   "outputs": [
    {
     "name": "stdout",
     "output_type": "stream",
     "text": [
      "0.4778761061946903\n",
      "0.584070796460177\n"
     ]
    },
    {
     "data": {
      "text/plain": [
       "[(0.1888808991233418, 'favorites'),\n",
       " (0.14242989823777008, 'sentcount1day'),\n",
       " (0.14236618358530373, 'change1day'),\n",
       " (0.12817817613916252, 'job_change1day'),\n",
       " (0.12678697077309467, 'favcount1day'),\n",
       " (0.09745710937575268, 'growthgap1day'),\n",
       " (0.08498083147726597, 'Sent_Count'),\n",
       " (0.058982870615867905, 'Count'),\n",
       " (0.029937060672440768, 'econcount1day')]"
      ]
     },
     "execution_count": 46,
     "metadata": {},
     "output_type": "execute_result"
    }
   ],
   "source": [
    "X_train, X_test,y_train,y_test = train_test_split(trump_mmkt_x, trump_mmkt_y1, test_size = 0.33,random_state=42)\n",
    "regr = RandomForestClassifier()\n",
    "regr.fit(X_train,y_train)\n",
    "print(regr.score(X_test, y_test))\n",
    "\n",
    "\n",
    "#5 with 1 lag final model\n",
    "\n",
    "ridge = RidgeClassifier()\n",
    "ridge.fit(X_train,y_train)\n",
    "print(ridge.score(X_test, y_test))\n",
    "\n",
    "sorted(zip(regr.feature_importances_, trump_mkt.iloc[:, np.r_[5:6, 7:9, 17:23]]), reverse=True)\n"
   ]
  },
  {
   "cell_type": "code",
   "execution_count": 43,
   "metadata": {},
   "outputs": [
    {
     "name": "stdout",
     "output_type": "stream",
     "text": [
      "0.4778761061946903\n",
      "0.5309734513274337\n"
     ]
    },
    {
     "data": {
      "text/plain": [
       "[(0.04750633953164548, 'change5day'),\n",
       " (0.04580029113134687, 'favcount6day'),\n",
       " (0.04432690476493867, 'favcount1day'),\n",
       " (0.04403256362496399, 'change7day'),\n",
       " (0.04307179240530865, 'change1day'),\n",
       " (0.04224743270392497, 'change6day'),\n",
       " (0.0383439341813761, 'change3day'),\n",
       " (0.03433562355384155, 'favcount3day'),\n",
       " (0.03311489572269581, 'sentcount1day'),\n",
       " (0.032320315239892504, 'sentcount3day'),\n",
       " (0.030126011050061696, 'favcount5day'),\n",
       " (0.028135434807037434, 'sentcount7day'),\n",
       " (0.028030164786145936, 'change4day'),\n",
       " (0.027650139936964982, 'sentcount5day'),\n",
       " (0.027649787816709112, 'favcount7day'),\n",
       " (0.026785534756581023, 'favcount4day'),\n",
       " (0.025355830376400604, 'favcount2day'),\n",
       " (0.0248785395573874, 'growthgap5day'),\n",
       " (0.022253068091718977, 'econcount4day'),\n",
       " (0.021754036065957157, 'job_change1day'),\n",
       " (0.02088325136666258, 'job_change7day'),\n",
       " (0.020828327873631036, 'Sent_Count'),\n",
       " (0.020817465083128327, 'job_change4day'),\n",
       " (0.02046999196388176, 'job_change5day'),\n",
       " (0.0183380781741434, 'job_change2day'),\n",
       " (0.01692219981304616, 'sentcount2day'),\n",
       " (0.01644716073810298, 'sentcount6day'),\n",
       " (0.015930487791332226, 'sentcount4day'),\n",
       " (0.01550470834800801, 'econcount5day'),\n",
       " (0.015063109434686922, 'job_change3day'),\n",
       " (0.014946623667433455, 'econcount2day'),\n",
       " (0.014384755139840518, 'econcount7day'),\n",
       " (0.014375316755775762, 'favorites'),\n",
       " (0.012058910900731632, 'job_change6day'),\n",
       " (0.01143708295926654, 'econcount6day'),\n",
       " (0.011224724289270994, 'growthgap3day'),\n",
       " (0.010421671588580794, 'econcount3day'),\n",
       " (0.010240541108971372, 'Count'),\n",
       " (0.00904091092337883, 'growthgap2day'),\n",
       " (0.00804670919273089, 'econcount1day'),\n",
       " (0.007703328289997094, 'growthgap4day'),\n",
       " (0.007601694550845, 'change2day'),\n",
       " (0.007366847738440104, 'growthgap7day'),\n",
       " (0.0069181477885048885, 'growthgap6day'),\n",
       " (0.005309314414709923, 'growthgap1day')]"
      ]
     },
     "execution_count": 43,
     "metadata": {},
     "output_type": "execute_result"
    }
   ],
   "source": [
    "X_train, X_test,y_train,y_test = train_test_split(trump_mmkt_x, trump_mmkt_y1, test_size = 0.33,random_state=42)\n",
    "regr = RandomForestClassifier()\n",
    "regr.fit(X_train,y_train)\n",
    "print(regr.score(X_test, y_test))\n",
    "\n",
    "\n",
    "#6 with 7 lags\n",
    "\n",
    "ridge = RidgeClassifier()\n",
    "ridge.fit(X_train,y_train)\n",
    "print(ridge.score(X_test, y_test))\n",
    "# regr.predict_proba(X_test)\n",
    "\n",
    "sorted(zip(regr.feature_importances_, trump_mkt.iloc[:, np.r_[5:6, 7:9, 17:23, 25:31, 33:39, 41:47, 49:55, 57:63, 65:71]]), reverse=True)"
   ]
  },
  {
   "cell_type": "code",
   "execution_count": 41,
   "metadata": {},
   "outputs": [
    {
     "name": "stdout",
     "output_type": "stream",
     "text": [
      "0.4778761061946903\n",
      "0.5398230088495575\n"
     ]
    },
    {
     "data": {
      "text/plain": [
       "[(0.03838169553286344, 'change14day'),\n",
       " (0.0334679800935377, 'favcount13day'),\n",
       " (0.027649774951212496, 'job_change13day'),\n",
       " (0.02763378713661003, 'change10day'),\n",
       " (0.025868738019860005, 'favcount15day'),\n",
       " (0.02523109914271431, 'change11day'),\n",
       " (0.02522768351261172, 'favcount11day'),\n",
       " (0.02360534748682141, 'sentcount1day'),\n",
       " (0.02153079436095974, 'job_change2day'),\n",
       " (0.02144295449218616, 'change4day'),\n",
       " (0.021322852659303584, 'change3day'),\n",
       " (0.02078708402630301, 'change2day'),\n",
       " (0.020690059765578687, 'sentcount15day'),\n",
       " (0.020412075614568898, 'favorites'),\n",
       " (0.019742980350098274, 'change9day'),\n",
       " (0.018788378372345624, 'favcount8day'),\n",
       " (0.01872508168010032, 'change8day'),\n",
       " (0.01851408109672407, 'change15day'),\n",
       " (0.017346831379429266, 'change13day'),\n",
       " (0.01723757716870323, 'econcount3day'),\n",
       " (0.017097628976181844, 'job_change11day'),\n",
       " (0.016857255129290215, 'sentcount10day'),\n",
       " (0.016207127032993124, 'favcount1day'),\n",
       " (0.015880537020853347, 'favcount7day'),\n",
       " (0.01531057830253257, 'favcount5day'),\n",
       " (0.014224735011614162, 'growthgap12day'),\n",
       " (0.013783243335416603, 'sentcount7day'),\n",
       " (0.013723979528044125, 'job_change6day'),\n",
       " (0.013373820350827884, 'favcount12day'),\n",
       " (0.013353798526539132, 'change6day'),\n",
       " (0.012866667274220686, 'growthgap15day'),\n",
       " (0.012768565932818781, 'growthgap9day'),\n",
       " (0.012602484580763944, 'sentcount14day'),\n",
       " (0.012571699073744955, 'favcount10day'),\n",
       " (0.012508824691453146, 'favcount2day'),\n",
       " (0.01205762426060011, 'sentcount3day'),\n",
       " (0.01144371773200753, 'favcount4day'),\n",
       " (0.010591410697509704, 'econcount10day'),\n",
       " (0.010557362685090884, 'growthgap11day'),\n",
       " (0.01043958882002561, 'sentcount11day'),\n",
       " (0.010009497823150519, 'sentcount4day'),\n",
       " (0.009675937945766747, 'change7day'),\n",
       " (0.00962012595466729, 'growthgap5day'),\n",
       " (0.00949585753376877, 'change5day'),\n",
       " (0.009468527960694145, 'sentcount9day'),\n",
       " (0.00912951239973275, 'growthgap13day'),\n",
       " (0.008732181501376623, 'favcount14day'),\n",
       " (0.008679411521778157, 'sentcount6day'),\n",
       " (0.008475585361097026, 'job_change1day'),\n",
       " (0.008437101434070672, 'sentcount8day'),\n",
       " (0.008387298822217573, 'sentcount5day'),\n",
       " (0.008278546309718077, 'growthgap2day'),\n",
       " (0.00803715924644957, 'sentcount13day'),\n",
       " (0.007670207793179123, 'favcount6day'),\n",
       " (0.007388796800842745, 'econcount15day'),\n",
       " (0.007046277985198664, 'job_change5day'),\n",
       " (0.006887214788771262, 'growthgap7day'),\n",
       " (0.006203412183694484, 'job_change9day'),\n",
       " (0.0061462914588280935, 'econcount4day'),\n",
       " (0.005589542870656716, 'job_change10day'),\n",
       " (0.005395676657340889, 'change12day'),\n",
       " (0.005373473833978038, 'change1day'),\n",
       " (0.0052693344497398665, 'job_change3day'),\n",
       " (0.005128528208323516, 'econcount6day'),\n",
       " (0.0051148091975450494, 'growthgap3day'),\n",
       " (0.005079256489765418, 'sentcount2day'),\n",
       " (0.005067496263872864, 'job_change8day'),\n",
       " (0.0050277682768757204, 'job_change12day'),\n",
       " (0.004956328517481473, 'job_change15day'),\n",
       " (0.004800161152104593, 'growthgap8day'),\n",
       " (0.004668529941414055, 'job_change7day'),\n",
       " (0.004650281713949149, 'econcount13day'),\n",
       " (0.004363179205549464, 'econcount11day'),\n",
       " (0.004193066993608189, 'sentcount12day'),\n",
       " (0.0040725378098450445, 'growthgap10day'),\n",
       " (0.00396366255937098, 'growthgap14day'),\n",
       " (0.0037240750742641104, 'Count'),\n",
       " (0.003501652522447872, 'job_change14day'),\n",
       " (0.003007867494824016, 'econcount14day'),\n",
       " (0.0025185283805973465, 'econcount8day'),\n",
       " (0.0023976864969543358, 'job_change4day'),\n",
       " (0.002350626488557523, 'econcount5day'),\n",
       " (0.0022850733353775967, 'favcount3day'),\n",
       " (0.001511117028358408, 'econcount1day'),\n",
       " (0.0014979647406954573, 'econcount12day'),\n",
       " (0.0014086619263089864, 'econcount2day'),\n",
       " (0.001390084713006803, 'growthgap6day'),\n",
       " (0.001211655773420479, 'favcount9day'),\n",
       " (0.000884921253703415, 'growthgap4day'),\n",
       " (0.0, 'growthgap1day'),\n",
       " (0.0, 'econcount9day'),\n",
       " (0.0, 'econcount7day'),\n",
       " (0.0, 'Sent_Count')]"
      ]
     },
     "execution_count": 41,
     "metadata": {},
     "output_type": "execute_result"
    }
   ],
   "source": [
    "X_train, X_test,y_train,y_test = train_test_split(trump_mmkt_x, trump_mmkt_y1, test_size = 0.33,random_state=42)\n",
    "regr = RandomForestClassifier()\n",
    "regr.fit(X_train,y_train)\n",
    "print(regr.score(X_test, y_test))\n",
    "\n",
    "#7 with 15 lags\n",
    "\n",
    "ridge = RidgeClassifier()\n",
    "ridge.fit(X_train,y_train)\n",
    "print(ridge.score(X_test, y_test))\n",
    "# regr.predict_proba(X_test)\n",
    "\n",
    "sorted(zip(regr.feature_importances_, trump_mkt.iloc[:, np.r_[5:6, 7:9, 17:23, 25:31, 33:39, 41:47, 49:55, 57:63, 65:71, 73:79, 81:87, 89:95, 97:103, 105:111, 113:119, 121:127, 129:135]]), reverse=True)"
   ]
  },
  {
   "cell_type": "code",
   "execution_count": null,
   "metadata": {},
   "outputs": [],
   "source": []
  },
  {
   "cell_type": "code",
   "execution_count": null,
   "metadata": {},
   "outputs": [],
   "source": [
    "trump_mkt.dropna(inplace=True)\n",
    "\n",
    "trump_mmkt_x = trump_mkt.iloc[:, np.r_[0, 5:6, 7:8]] #4.1 Sent_Count, favorites\n",
    "\n",
    "trump_mmkt_x.set_index(\"date\", inplace=True)\n",
    "trump_mmkt_y1 = trump_mkt['pos_neg']\n",
    "#trump_mmkt_y2 = trump_mkt[['pos','neg','flat']]\n",
    "trump_mmkt_y3 = trump_mkt[['change']]\n",
    "trump_mmkt_x.head(1)\n",
    "trump_mmkt_x.to_csv('./Data/trump_mmkt_x.csv', index=True)\n",
    "trump_mmkt_y1.to_csv('./Data/trump_mmkt_y1.csv', index=False)"
   ]
  },
  {
   "cell_type": "code",
   "execution_count": 60,
   "metadata": {},
   "outputs": [
    {
     "name": "stdout",
     "output_type": "stream",
     "text": [
      "0.6017699115044248\n"
     ]
    },
    {
     "data": {
      "text/plain": [
       "array([[0.3, 0.7],\n",
       "       [0.6, 0.4],\n",
       "       [0.3, 0.7],\n",
       "       [0.7, 0.3],\n",
       "       [0.2, 0.8],\n",
       "       [0.6, 0.4],\n",
       "       [0.5, 0.5],\n",
       "       [0.3, 0.7],\n",
       "       [0.6, 0.4],\n",
       "       [0.6, 0.4],\n",
       "       [0.5, 0.5],\n",
       "       [0.5, 0.5],\n",
       "       [0.3, 0.7],\n",
       "       [0.3, 0.7],\n",
       "       [0.7, 0.3],\n",
       "       [0.4, 0.6],\n",
       "       [0.7, 0.3],\n",
       "       [0.7, 0.3],\n",
       "       [0.4, 0.6],\n",
       "       [0.4, 0.6],\n",
       "       [0.2, 0.8],\n",
       "       [0.6, 0.4],\n",
       "       [0.4, 0.6],\n",
       "       [0.5, 0.5],\n",
       "       [1. , 0. ],\n",
       "       [0.7, 0.3],\n",
       "       [0.3, 0.7],\n",
       "       [0.6, 0.4],\n",
       "       [0.6, 0.4],\n",
       "       [0.8, 0.2],\n",
       "       [0.5, 0.5],\n",
       "       [0.4, 0.6],\n",
       "       [0.3, 0.7],\n",
       "       [0.6, 0.4],\n",
       "       [0.8, 0.2],\n",
       "       [0.2, 0.8],\n",
       "       [0.8, 0.2],\n",
       "       [0.7, 0.3],\n",
       "       [0.6, 0.4],\n",
       "       [0.6, 0.4],\n",
       "       [0.5, 0.5],\n",
       "       [0.6, 0.4],\n",
       "       [0.4, 0.6],\n",
       "       [0.8, 0.2],\n",
       "       [0.4, 0.6],\n",
       "       [0.4, 0.6],\n",
       "       [0.3, 0.7],\n",
       "       [0.8, 0.2],\n",
       "       [0.6, 0.4],\n",
       "       [0.3, 0.7],\n",
       "       [0.6, 0.4],\n",
       "       [0.7, 0.3],\n",
       "       [0.2, 0.8],\n",
       "       [0.3, 0.7],\n",
       "       [0.1, 0.9],\n",
       "       [0.5, 0.5],\n",
       "       [0.4, 0.6],\n",
       "       [0.7, 0.3],\n",
       "       [0.4, 0.6],\n",
       "       [0.6, 0.4],\n",
       "       [0.7, 0.3],\n",
       "       [0.3, 0.7],\n",
       "       [0.7, 0.3],\n",
       "       [0.5, 0.5],\n",
       "       [0.2, 0.8],\n",
       "       [0.2, 0.8],\n",
       "       [0.6, 0.4],\n",
       "       [1. , 0. ],\n",
       "       [0.5, 0.5],\n",
       "       [0.5, 0.5],\n",
       "       [0.3, 0.7],\n",
       "       [0.4, 0.6],\n",
       "       [0.9, 0.1],\n",
       "       [0.5, 0.5],\n",
       "       [0.5, 0.5],\n",
       "       [0.6, 0.4],\n",
       "       [0.3, 0.7],\n",
       "       [0.8, 0.2],\n",
       "       [0.6, 0.4],\n",
       "       [0.4, 0.6],\n",
       "       [0.2, 0.8],\n",
       "       [0.6, 0.4],\n",
       "       [0.6, 0.4],\n",
       "       [0.4, 0.6],\n",
       "       [0.6, 0.4],\n",
       "       [0.5, 0.5],\n",
       "       [0.1, 0.9],\n",
       "       [0.7, 0.3],\n",
       "       [0.6, 0.4],\n",
       "       [0.3, 0.7],\n",
       "       [0.6, 0.4],\n",
       "       [0.5, 0.5],\n",
       "       [0.3, 0.7],\n",
       "       [0.7, 0.3],\n",
       "       [0.3, 0.7],\n",
       "       [0.6, 0.4],\n",
       "       [0.4, 0.6],\n",
       "       [0.6, 0.4],\n",
       "       [0.5, 0.5],\n",
       "       [0.8, 0.2],\n",
       "       [0.4, 0.6],\n",
       "       [0.1, 0.9],\n",
       "       [0.8, 0.2],\n",
       "       [0.3, 0.7],\n",
       "       [0.9, 0.1],\n",
       "       [0.4, 0.6],\n",
       "       [0.6, 0.4],\n",
       "       [0.5, 0.5],\n",
       "       [0.6, 0.4],\n",
       "       [0.3, 0.7],\n",
       "       [0.7, 0.3],\n",
       "       [0.4, 0.6],\n",
       "       [0.3, 0.7]])"
      ]
     },
     "execution_count": 60,
     "metadata": {},
     "output_type": "execute_result"
    }
   ],
   "source": [
    "X_train, X_test,y_train,y_test = train_test_split(trump_mmkt_x, trump_mmkt_y1, test_size = 0.33,random_state=42)\n",
    "\n",
    "regrfn = RandomForestClassifier()\n",
    "regrfn.fit(X_train,y_train)\n",
    "print(regrfn.score(X_test, y_test))\n",
    "\n",
    "#4.1 Sent_Count, favorites; final model\n",
    "\n",
    "\n",
    "regrfn.predict_proba(X_test)\n"
   ]
  },
  {
   "cell_type": "code",
   "execution_count": 61,
   "metadata": {},
   "outputs": [
    {
     "name": "stdout",
     "output_type": "stream",
     "text": [
      "              precision    recall  f1-score   support\n",
      "\n",
      "           0       0.64      0.67      0.66        64\n",
      "           1       0.54      0.51      0.53        49\n",
      "\n",
      "    accuracy                           0.60       113\n",
      "   macro avg       0.59      0.59      0.59       113\n",
      "weighted avg       0.60      0.60      0.60       113\n",
      "\n"
     ]
    }
   ],
   "source": [
    "# Calculate classification report\n",
    "from sklearn.metrics import classification_report\n",
    "y_pred = regrfn.predict(X_test)\n",
    "print(classification_report(y_test, y_pred))"
   ]
  },
  {
   "cell_type": "code",
   "execution_count": 62,
   "metadata": {},
   "outputs": [
    {
     "data": {
      "text/plain": [
       "array([[43, 21],\n",
       "       [24, 25]], dtype=int64)"
      ]
     },
     "execution_count": 62,
     "metadata": {},
     "output_type": "execute_result"
    }
   ],
   "source": [
    "from sklearn.metrics import mean_squared_error, accuracy_score, confusion_matrix, classification_report\n",
    "confusion_matrix(y_test, y_pred)"
   ]
  },
  {
   "cell_type": "code",
   "execution_count": 63,
   "metadata": {},
   "outputs": [
    {
     "data": {
      "image/png": "[encoded data removed]",
      "text/plain": [
       "<Figure size 720x360 with 2 Axes>"
      ]
     },
     "metadata": {
      "needs_background": "light"
     },
     "output_type": "display_data"
    }
   ],
   "source": [
    "# Get and reshape confusion matrix data\n",
    "matrix = confusion_matrix(y_test, y_pred)\n",
    "matrix = matrix.astype('float') / matrix.sum(axis=1)[:, np.newaxis]\n",
    "# Build the plot\n",
    "plt.figure(figsize=(10,5))\n",
    "sns.set(font_scale=1.4)\n",
    "sns.heatmap(matrix, annot=True, annot_kws={'size':10},\n",
    "            cmap=plt.cm.Greens, linewidths=0.2)\n",
    "# Add labels to the plot\n",
    "class_names = ['pos_neg=down', 'pos_neg=up']\n",
    "tick_marks = np.arange(len(class_names))\n",
    "tick_marks2 = tick_marks + 0.5\n",
    "plt.xticks(tick_marks, class_names, rotation=25)\n",
    "plt.yticks(tick_marks2, class_names, rotation=0)\n",
    "plt.xlabel('Predicted label')\n",
    "plt.ylabel('True label')\n",
    "plt.title('Confusion Matrix for RandomForestClassifier Model')\n",
    "plt.savefig('./Images/trump_SCap_rf_y_pred_confusion_matrix.png', bbox_inches=\"tight\")\n",
    "plt.show()"
   ]
  },
  {
   "cell_type": "code",
   "execution_count": 65,
   "metadata": {},
   "outputs": [
    {
     "data": {
      "text/plain": [
       "0.5910395408163265"
      ]
     },
     "execution_count": 65,
     "metadata": {},
     "output_type": "execute_result"
    }
   ],
   "source": [
    "from sklearn.metrics import roc_auc_score\n",
    "roc_auc_score(y_test, y_pred)"
   ]
  },
  {
   "cell_type": "code",
   "execution_count": 66,
   "metadata": {},
   "outputs": [
    {
     "data": {
      "image/png": "[encoded data removed]",
      "text/plain": [
       "<Figure size 432x288 with 1 Axes>"
      ]
     },
     "metadata": {},
     "output_type": "display_data"
    }
   ],
   "source": [
    "from sklearn.metrics import roc_curve\n",
    "from sklearn.metrics import auc\n",
    "\n",
    "# Compute fpr, tpr, thresholds and roc auc\n",
    "fpr, tpr, thresholds = roc_curve(y_test, y_pred)\n",
    "roc_auc = auc(fpr, tpr)\n",
    "\n",
    "# Plot ROC curve\n",
    "plt.plot(fpr, tpr, label='ROC curve (area = %0.3f)' % roc_auc)\n",
    "plt.plot([0, 1], [0, 1], 'k--')  # random predictions curve\n",
    "plt.xlim([0.0, 1.0])\n",
    "plt.ylim([0.0, 1.0])\n",
    "plt.xlabel('False Positive Rate or (1 - Specifity)')\n",
    "plt.ylabel('True Positive Rate or (Sensitivity)')\n",
    "plt.title('PowellEffect SCharacteristic/RandomForestClassifier Model')\n",
    "plt.legend(loc=\"lower right\")\n",
    "plt.savefig('./Images/powell_SCap_rf_y_pred.png', bbox_inches=\"tight\")"
   ]
  },
  {
   "cell_type": "code",
   "execution_count": 67,
   "metadata": {},
   "outputs": [],
   "source": [
    "filename = 'trump_smcap_model.sav'\n",
    "pickle.dump(regrfn, open(filename, 'wb'))"
   ]
  }
 ],
 "metadata": {
  "kernelspec": {
   "display_name": "Python 3",
   "language": "python",
   "name": "python3"
  },
  "language_info": {
   "codemirror_mode": {
    "name": "ipython",
    "version": 3
   },
   "file_extension": ".py",
   "mimetype": "text/x-python",
   "name": "python",
   "nbconvert_exporter": "python",
   "pygments_lexer": "ipython3",
   "version": "3.6.9"
  }
 },
 "nbformat": 4,
 "nbformat_minor": 2
}
