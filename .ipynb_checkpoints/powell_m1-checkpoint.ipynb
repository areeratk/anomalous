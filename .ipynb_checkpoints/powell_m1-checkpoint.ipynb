{
 "cells": [
  {
   "cell_type": "code",
   "execution_count": 1,
   "metadata": {},
   "outputs": [],
   "source": [
    "%matplotlib inline\n",
    "# Dependencies and Setup\n",
    "import pandas as pd\n",
    "import numpy as np\n",
    "import pickle\n",
    "from sklearn.ensemble import RandomForestRegressor\n",
    "from sklearn.model_selection import train_test_split\n",
    "from sklearn.linear_model import Ridge\n",
    "from sklearn.tree import DecisionTreeClassifier # Import Decision Tree Classifier\n",
    "from sklearn.tree import export_graphviz\n",
    "from sklearn import metrics #Import scikit-learn metrics module for accuracy calculation\n",
    "import matplotlib.pyplot as plt\n",
    "import seaborn as sns; sns.set()"
   ]
  },
  {
   "cell_type": "markdown",
   "metadata": {},
   "source": [
    "Read all files as indicated in subsequent cells containing data for labels and features of our project."
   ]
  },
  {
   "cell_type": "code",
   "execution_count": 2,
   "metadata": {},
   "outputs": [
    {
     "data": {
      "text/html": [
       "<div>\n",
       "<style scoped>\n",
       "    .dataframe tbody tr th:only-of-type {\n",
       "        vertical-align: middle;\n",
       "    }\n",
       "\n",
       "    .dataframe tbody tr th {\n",
       "        vertical-align: top;\n",
       "    }\n",
       "\n",
       "    .dataframe thead th {\n",
       "        text-align: right;\n",
       "    }\n",
       "</style>\n",
       "<table border=\"1\" class=\"dataframe\">\n",
       "  <thead>\n",
       "    <tr style=\"text-align: right;\">\n",
       "      <th></th>\n",
       "      <th>date</th>\n",
       "      <th>change</th>\n",
       "    </tr>\n",
       "  </thead>\n",
       "  <tbody>\n",
       "    <tr>\n",
       "      <th>4068</th>\n",
       "      <td>2016-01-04</td>\n",
       "      <td>0.002644</td>\n",
       "    </tr>\n",
       "  </tbody>\n",
       "</table>\n",
       "</div>"
      ],
      "text/plain": [
       "            date    change\n",
       "4068  2016-01-04  0.002644"
      ]
     },
     "execution_count": 2,
     "metadata": {},
     "output_type": "execute_result"
    }
   ],
   "source": [
    "L_cap = pd.read_csv(\"./data/stock_spy.csv\")\n",
    "L_cap = L_cap.loc[L_cap['date']>'2016-01-01']\n",
    "L_cap = L_cap.loc[:, [\"date\", \"change\"]]\n",
    "L_cap.head(1)"
   ]
  },
  {
   "cell_type": "code",
   "execution_count": 3,
   "metadata": {},
   "outputs": [
    {
     "data": {
      "text/html": [
       "<div>\n",
       "<style scoped>\n",
       "    .dataframe tbody tr th:only-of-type {\n",
       "        vertical-align: middle;\n",
       "    }\n",
       "\n",
       "    .dataframe tbody tr th {\n",
       "        vertical-align: top;\n",
       "    }\n",
       "\n",
       "    .dataframe thead th {\n",
       "        text-align: right;\n",
       "    }\n",
       "</style>\n",
       "<table border=\"1\" class=\"dataframe\">\n",
       "  <thead>\n",
       "    <tr style=\"text-align: right;\">\n",
       "      <th></th>\n",
       "      <th>date</th>\n",
       "      <th>change</th>\n",
       "    </tr>\n",
       "  </thead>\n",
       "  <tbody>\n",
       "    <tr>\n",
       "      <th>4068</th>\n",
       "      <td>2016-01-04</td>\n",
       "      <td>0.003601</td>\n",
       "    </tr>\n",
       "  </tbody>\n",
       "</table>\n",
       "</div>"
      ],
      "text/plain": [
       "            date    change\n",
       "4068  2016-01-04  0.003601"
      ]
     },
     "execution_count": 3,
     "metadata": {},
     "output_type": "execute_result"
    }
   ],
   "source": [
    "M_cap = pd.read_csv(\"./data/stock_mdy.csv\")\n",
    "M_cap = M_cap.loc[M_cap['date']>'2016-01-01']\n",
    "M_cap = M_cap.loc[:, [\"date\", \"change\"]]\n",
    "M_cap.head(1)"
   ]
  },
  {
   "cell_type": "code",
   "execution_count": 4,
   "metadata": {},
   "outputs": [
    {
     "data": {
      "text/html": [
       "<div>\n",
       "<style scoped>\n",
       "    .dataframe tbody tr th:only-of-type {\n",
       "        vertical-align: middle;\n",
       "    }\n",
       "\n",
       "    .dataframe tbody tr th {\n",
       "        vertical-align: top;\n",
       "    }\n",
       "\n",
       "    .dataframe thead th {\n",
       "        text-align: right;\n",
       "    }\n",
       "</style>\n",
       "<table border=\"1\" class=\"dataframe\">\n",
       "  <thead>\n",
       "    <tr style=\"text-align: right;\">\n",
       "      <th></th>\n",
       "      <th>date</th>\n",
       "      <th>change</th>\n",
       "    </tr>\n",
       "  </thead>\n",
       "  <tbody>\n",
       "    <tr>\n",
       "      <th>3924</th>\n",
       "      <td>2016-01-04</td>\n",
       "      <td>-0.006651</td>\n",
       "    </tr>\n",
       "  </tbody>\n",
       "</table>\n",
       "</div>"
      ],
      "text/plain": [
       "            date    change\n",
       "3924  2016-01-04 -0.006651"
      ]
     },
     "execution_count": 4,
     "metadata": {},
     "output_type": "execute_result"
    }
   ],
   "source": [
    "S_cap = pd.read_csv(\"./data/stock_ijr.csv\")\n",
    "S_cap = S_cap.loc[S_cap['date']>'2016-01-01']\n",
    "S_cap = S_cap.loc[:, [\"date\", \"change\"]]\n",
    "S_cap.head(1)"
   ]
  },
  {
   "cell_type": "code",
   "execution_count": 5,
   "metadata": {},
   "outputs": [
    {
     "data": {
      "text/html": [
       "<div>\n",
       "<style scoped>\n",
       "    .dataframe tbody tr th:only-of-type {\n",
       "        vertical-align: middle;\n",
       "    }\n",
       "\n",
       "    .dataframe tbody tr th {\n",
       "        vertical-align: top;\n",
       "    }\n",
       "\n",
       "    .dataframe thead th {\n",
       "        text-align: right;\n",
       "    }\n",
       "</style>\n",
       "<table border=\"1\" class=\"dataframe\">\n",
       "  <thead>\n",
       "    <tr style=\"text-align: right;\">\n",
       "      <th></th>\n",
       "      <th>Date</th>\n",
       "      <th>Count</th>\n",
       "    </tr>\n",
       "  </thead>\n",
       "  <tbody>\n",
       "    <tr>\n",
       "      <th>0</th>\n",
       "      <td>2021-02-10</td>\n",
       "      <td>11</td>\n",
       "    </tr>\n",
       "  </tbody>\n",
       "</table>\n",
       "</div>"
      ],
      "text/plain": [
       "         Date  Count\n",
       "0  2021-02-10     11"
      ]
     },
     "execution_count": 5,
     "metadata": {},
     "output_type": "execute_result"
    }
   ],
   "source": [
    "powell_econ = pd.read_csv(\"./data/powell_daydf_count.csv\")\n",
    "powell_econ.head(1)"
   ]
  },
  {
   "cell_type": "code",
   "execution_count": 6,
   "metadata": {},
   "outputs": [
    {
     "data": {
      "text/html": [
       "<div>\n",
       "<style scoped>\n",
       "    .dataframe tbody tr th:only-of-type {\n",
       "        vertical-align: middle;\n",
       "    }\n",
       "\n",
       "    .dataframe tbody tr th {\n",
       "        vertical-align: top;\n",
       "    }\n",
       "\n",
       "    .dataframe thead th {\n",
       "        text-align: right;\n",
       "    }\n",
       "</style>\n",
       "<table border=\"1\" class=\"dataframe\">\n",
       "  <thead>\n",
       "    <tr style=\"text-align: right;\">\n",
       "      <th></th>\n",
       "      <th>Date</th>\n",
       "      <th>Sent_Count</th>\n",
       "    </tr>\n",
       "  </thead>\n",
       "  <tbody>\n",
       "    <tr>\n",
       "      <th>0</th>\n",
       "      <td>2021-03-18</td>\n",
       "      <td>10</td>\n",
       "    </tr>\n",
       "  </tbody>\n",
       "</table>\n",
       "</div>"
      ],
      "text/plain": [
       "         Date  Sent_Count\n",
       "0  2021-03-18          10"
      ]
     },
     "execution_count": 6,
     "metadata": {},
     "output_type": "execute_result"
    }
   ],
   "source": [
    "powell_sentbyday = pd.read_csv(\"./data/powell_sentbydaydf_count.csv\")\n",
    "powell_sentbyday.head(1)"
   ]
  },
  {
   "cell_type": "code",
   "execution_count": 7,
   "metadata": {},
   "outputs": [
    {
     "data": {
      "text/html": [
       "<div>\n",
       "<style scoped>\n",
       "    .dataframe tbody tr th:only-of-type {\n",
       "        vertical-align: middle;\n",
       "    }\n",
       "\n",
       "    .dataframe tbody tr th {\n",
       "        vertical-align: top;\n",
       "    }\n",
       "\n",
       "    .dataframe thead th {\n",
       "        text-align: right;\n",
       "    }\n",
       "</style>\n",
       "<table border=\"1\" class=\"dataframe\">\n",
       "  <thead>\n",
       "    <tr style=\"text-align: right;\">\n",
       "      <th></th>\n",
       "      <th>Date</th>\n",
       "      <th>Pos_Count</th>\n",
       "    </tr>\n",
       "  </thead>\n",
       "  <tbody>\n",
       "    <tr>\n",
       "      <th>0</th>\n",
       "      <td>2021-03-18</td>\n",
       "      <td>18</td>\n",
       "    </tr>\n",
       "  </tbody>\n",
       "</table>\n",
       "</div>"
      ],
      "text/plain": [
       "         Date  Pos_Count\n",
       "0  2021-03-18         18"
      ]
     },
     "execution_count": 7,
     "metadata": {},
     "output_type": "execute_result"
    }
   ],
   "source": [
    "powell_sentbydaypos = pd.read_csv(\"./data/powell_sentbydayposdf_count.csv\")\n",
    "powell_sentbydaypos.head(1)"
   ]
  },
  {
   "cell_type": "code",
   "execution_count": 8,
   "metadata": {},
   "outputs": [
    {
     "data": {
      "text/html": [
       "<div>\n",
       "<style scoped>\n",
       "    .dataframe tbody tr th:only-of-type {\n",
       "        vertical-align: middle;\n",
       "    }\n",
       "\n",
       "    .dataframe tbody tr th {\n",
       "        vertical-align: top;\n",
       "    }\n",
       "\n",
       "    .dataframe thead th {\n",
       "        text-align: right;\n",
       "    }\n",
       "</style>\n",
       "<table border=\"1\" class=\"dataframe\">\n",
       "  <thead>\n",
       "    <tr style=\"text-align: right;\">\n",
       "      <th></th>\n",
       "      <th>Date</th>\n",
       "      <th>Neg_Count</th>\n",
       "    </tr>\n",
       "  </thead>\n",
       "  <tbody>\n",
       "    <tr>\n",
       "      <th>0</th>\n",
       "      <td>2021-03-18</td>\n",
       "      <td>8</td>\n",
       "    </tr>\n",
       "  </tbody>\n",
       "</table>\n",
       "</div>"
      ],
      "text/plain": [
       "         Date  Neg_Count\n",
       "0  2021-03-18          8"
      ]
     },
     "execution_count": 8,
     "metadata": {},
     "output_type": "execute_result"
    }
   ],
   "source": [
    "powell_sentbydayneg = pd.read_csv(\"./data/powell_sentbydaynegdf_count.csv\")\n",
    "powell_sentbydayneg.head(1)"
   ]
  },
  {
   "cell_type": "markdown",
   "metadata": {},
   "source": [
    "Join data frames and create classification labels."
   ]
  },
  {
   "cell_type": "code",
   "execution_count": null,
   "metadata": {},
   "outputs": [],
   "source": [
    "powell_mkt = L_cap.merge(powell_sentbydayneg, how='inner', left_on=\"date\" ,right_on=\"Date\")\n",
    "powell_mkt = powell_mkt.merge(powell_sentbydaypos, how='inner' ,on=\"Date\")\n",
    "powell_mkt =  powell_mkt.merge(powell_sentbyday, how='inner' ,on=\"Date\")\n",
    "powell_mkt =  powell_mkt.merge(powell_econ, how='inner' ,on=\"Date\")\n",
    "powell_mkt['pos_neg'] = np.where (powell_mkt['change'] > 0,1,0)\n",
    "powell_mkt['pos'] = np.where (powell_mkt['change'] > 0.002,1,0)\n",
    "powell_mkt['neg'] = np.where (powell_mkt['change'] < -0.002,1,0)\n",
    "powell_mkt['flat'] = np.where ((powell_mkt['change'] <= 0.002) & (powell_mkt['change'] >= -0.002) ,1,0)\n",
    "\n",
    "powell_mkt.head()"
   ]
  },
  {
   "cell_type": "code",
   "execution_count": null,
   "metadata": {},
   "outputs": [],
   "source": []
  },
  {
   "cell_type": "code",
   "execution_count": null,
   "metadata": {},
   "outputs": [],
   "source": [
    "powell_rgdp = pd.read_csv(\"./Data/RGDP.csv\")\n",
    "powell_rgdp.head()\n",
    "powell_rgdp['Date']=pd.to_datetime(powell_rgdp['Date'])"
   ]
  },
  {
   "cell_type": "code",
   "execution_count": null,
   "metadata": {},
   "outputs": [],
   "source": [
    "powell_mkt['growthgap']=np.nan\n",
    "for x in range(len(powell_rgdp.index)-1):\n",
    "   powell_mkt.loc[((powell_mkt['date']>= powell_rgdp.loc[x][0]) & (powell_mkt['date']< powell_rgdp.loc[x+1][0])),['growthgap']]=powell_rgdp.loc[x][3]\n",
    "powell_mkt.head()"
   ]
  },
  {
   "cell_type": "code",
   "execution_count": null,
   "metadata": {},
   "outputs": [],
   "source": [
    "powell_empsit = pd.read_csv(\"./Data/empsit.csv\")\n",
    "powell_empsit.head()\n",
    "powell_mkt['date'] = pd.to_datetime(powell_mkt['date'])"
   ]
  },
  {
   "cell_type": "code",
   "execution_count": null,
   "metadata": {},
   "outputs": [],
   "source": [
    "powell_mkt['job_change']=np.nan\n",
    "for x in range(len(powell_empsit.index)-1):\n",
    "   powell_mkt.loc[((powell_mkt['date']>= powell_empsit.loc[x][0]) & (powell_mkt['date']< powell_empsit.loc[x+1][0])),['job_change']]=powell_empsit.loc[x][1]\n",
    "#    print(wsb_mkt.loc[(wsb_mkt['date']>= wsb_empsit.loc[x][0]) & (wsb_mkt['date']< wsb_empsit.loc[x+1][0])]['job_change'])\n",
    "powell_mkt.head()"
   ]
  },
  {
   "cell_type": "code",
   "execution_count": null,
   "metadata": {},
   "outputs": [],
   "source": [
    "powell_mkt['negcount1day'] = powell_mkt['Neg_Count'].shift(1)\n",
    "powell_mkt['poscount1day'] = powell_mkt['Pos_Count'].shift(1)\n",
    "#powell_mkt['sentcount1day'] = powell_mkt['Sent_Count'].shift(1)\n",
    "powell_mkt['econcount1day'] = powell_mkt['Count'].shift(1)\n",
    "powell_mkt['job_change1day'] = powell_mkt['job_change'].shift(1)\n",
    "powell_mkt['growthgap1day'] = powell_mkt['growthgap'].shift(1)\n",
    "powell_mkt['change1day'] = powell_mkt['change'].shift(1)\n",
    "powell_mkt['negcount2day'] = powell_mkt['Neg_Count'].shift(2)\n",
    "powell_mkt['poscount2day'] = powell_mkt['Pos_Count'].shift(2)\n",
    "#powell_mkt['sentcount2day'] = powell_mkt['Sent_Count'].shift(2)\n",
    "powell_mkt['econcount2day'] = powell_mkt['Count'].shift(2)\n",
    "powell_mkt['job_change1day'] = powell_mkt['job_change'].shift(2)\n",
    "powell_mkt['growthgap1day'] = powell_mkt['growthgap'].shift(2)\n",
    "powell_mkt['change2day'] = powell_mkt['change'].shift(2)\n",
    "powell_mkt['negcount3day'] = powell_mkt['Neg_Count'].shift(3)\n",
    "powell_mkt['poscount3day'] = powell_mkt['Pos_Count'].shift(3)\n",
    "#powell_mkt['sentcount3day'] = powell_mkt['Sent_Count'].shift(3)\n",
    "powell_mkt['econcount3day'] = powell_mkt['Count'].shift(3)\n",
    "powell_mkt['job_change1day'] = powell_mkt['job_change'].shift(3)\n",
    "powell_mkt['growthgap1day'] = powell_mkt['growthgap'].shift(3)\n",
    "powell_mkt['change3day'] = powell_mkt['change'].shift(3)\n",
    "powell_mkt['negcount4day'] = powell_mkt['Neg_Count'].shift(4)\n",
    "powell_mkt['poscount4day'] = powell_mkt['Pos_Count'].shift(4)\n",
    "#powell_mkt['sentcount4day'] = powell_mkt['Sent_Count'].shift(4)\n",
    "powell_mkt['econcount4day'] = powell_mkt['Count'].shift(4)\n",
    "powell_mkt['job_change1day'] = powell_mkt['job_change'].shift(4)\n",
    "powell_mkt['growthgap1day'] = powell_mkt['growthgap'].shift(4)\n",
    "powell_mkt['change4day'] = powell_mkt['change'].shift(4)\n",
    "powell_mkt['negcount5day'] = powell_mkt['Neg_Count'].shift(5)\n",
    "powell_mkt['poscount5day'] = powell_mkt['Pos_Count'].shift(5)\n",
    "#powell_mkt['sentcount5day'] = powell_mkt['Sent_Count'].shift(5)\n",
    "powell_mkt['econcount5day'] = powell_mkt['Count'].shift(5)\n",
    "powell_mkt['job_change1day'] = powell_mkt['job_change'].shift(5)\n",
    "powell_mkt['growthgap1day'] = powell_mkt['growthgap'].shift(5)\n",
    "powell_mkt['change5day'] = powell_mkt['change'].shift(5)\n",
    "powell_mkt['negcount6day'] = powell_mkt['Neg_Count'].shift(6)\n",
    "powell_mkt['poscount6day'] = powell_mkt['Pos_Count'].shift(6)\n",
    "#powell_mkt['sentcount6day'] = powell_mkt['Sent_Count'].shift(6)\n",
    "powell_mkt['econcount6day'] = powell_mkt['Count'].shift(6)\n",
    "powell_mkt['job_change1day'] = powell_mkt['job_change'].shift(6)\n",
    "powell_mkt['growthgap1day'] = powell_mkt['growthgap'].shift(6)\n",
    "powell_mkt['change6day'] = powell_mkt['change'].shift(6)\n",
    "powell_mkt['negcount7day'] = powell_mkt['Neg_Count'].shift(7)\n",
    "powell_mkt['poscount7day'] = powell_mkt['Pos_Count'].shift(7)\n",
    "#powell_mkt['sentcount7day'] = powell_mkt['Sent_Count'].shift(7)\n",
    "powell_mkt['econcount7day'] = powell_mkt['Count'].shift(7)\n",
    "powell_mkt['job_change1day'] = powell_mkt['job_change'].shift(7)\n",
    "powell_mkt['growthgap1day'] = powell_mkt['growthgap'].shift(7)\n",
    "powell_mkt['change7day'] = powell_mkt['change'].shift(7)\n",
    "powell_mkt['negcount8day'] = powell_mkt['Neg_Count'].shift(8)\n",
    "powell_mkt['poscount8day'] = powell_mkt['Pos_Count'].shift(8)\n",
    "#powell_mkt['sentcount8day'] = powell_mkt['Sent_Count'].shift(8)\n",
    "powell_mkt['econcount8day'] = powell_mkt['Count'].shift(8)\n",
    "powell_mkt['job_change1day'] = powell_mkt['job_change'].shift(8)\n",
    "powell_mkt['growthgap1day'] = powell_mkt['growthgap'].shift(8)\n",
    "powell_mkt['change8day'] = powell_mkt['change'].shift(8)\n",
    "powell_mkt['negcount9day'] = powell_mkt['Neg_Count'].shift(9)\n",
    "powell_mkt['poscount9day'] = powell_mkt['Pos_Count'].shift(9)\n",
    "#powell_mkt['sentcount9day'] = powell_mkt['Sent_Count'].shift(9)\n",
    "powell_mkt['econcount9day'] = powell_mkt['Count'].shift(9)\n",
    "powell_mkt['job_change1day'] = powell_mkt['job_change'].shift(9)\n",
    "powell_mkt['growthgap1day'] = powell_mkt['growthgap'].shift(9)\n",
    "powell_mkt['change9day'] = powell_mkt['change'].shift(9)\n",
    "powell_mkt['negcount10day'] = powell_mkt['Neg_Count'].shift(10)\n",
    "powell_mkt['poscount10day'] = powell_mkt['Pos_Count'].shift(10)\n",
    "#powell_mkt['sentcount10day'] = powell_mkt['Sent_Count'].shift(10)\n",
    "powell_mkt['econcount10day'] = powell_mkt['Count'].shift(10)\n",
    "powell_mkt['job_change1day'] = powell_mkt['job_change'].shift(10)\n",
    "powell_mkt['growthgap1day'] = powell_mkt['growthgap'].shift(10)\n",
    "powell_mkt['change10day'] = powell_mkt['change'].shift(10)\n",
    "powell_mkt['negcount11day'] = powell_mkt['Neg_Count'].shift(11)\n",
    "powell_mkt['poscount11day'] = powell_mkt['Pos_Count'].shift(11)\n",
    "#powell_mkt['sentcount11day'] = powell_mkt['Sent_Count'].shift(11)\n",
    "powell_mkt['econcount11day'] = powell_mkt['Count'].shift(11)\n",
    "powell_mkt['job_change1day'] = powell_mkt['job_change'].shift(11)\n",
    "powell_mkt['growthgap1day'] = powell_mkt['growthgap'].shift(11)\n",
    "powell_mkt['change11day'] = powell_mkt['change'].shift(11)\n",
    "powell_mkt['negcount12day'] = powell_mkt['Neg_Count'].shift(12)\n",
    "powell_mkt['poscount12day'] = powell_mkt['Pos_Count'].shift(12)\n",
    "#powell_mkt['sentcount12day'] = powell_mkt['Sent_Count'].shift(12)\n",
    "powell_mkt['econcount12day'] = powell_mkt['Count'].shift(12)\n",
    "powell_mkt['job_change1day'] = powell_mkt['job_change'].shift(12)\n",
    "powell_mkt['growthgap1day'] = powell_mkt['growthgap'].shift(12)\n",
    "powell_mkt['change12day'] = powell_mkt['change'].shift(12)\n",
    "powell_mkt['negcount13day'] = powell_mkt['Neg_Count'].shift(13)\n",
    "powell_mkt['poscount13day'] = powell_mkt['Pos_Count'].shift(13)\n",
    "#powell_mkt['sentcount13day'] = powell_mkt['Sent_Count'].shift(13)\n",
    "powell_mkt['econcount13day'] = powell_mkt['Count'].shift(13)\n",
    "powell_mkt['job_change1day'] = powell_mkt['job_change'].shift(13)\n",
    "powell_mkt['growthgap1day'] = powell_mkt['growthgap'].shift(13)\n",
    "powell_mkt['change13day'] = powell_mkt['change'].shift(13)\n",
    "powell_mkt['negcount14day'] = powell_mkt['Neg_Count'].shift(14)\n",
    "powell_mkt['poscount14day'] = powell_mkt['Pos_Count'].shift(14)\n",
    "#powell_mkt['sentcount14day'] = powell_mkt['Sent_Count'].shift(14)\n",
    "powell_mkt['job_change1day'] = powell_mkt['job_change'].shift(14)\n",
    "powell_mkt['growthgap1day'] = powell_mkt['growthgap'].shift(14)\n",
    "powell_mkt['econcount14day'] = powell_mkt['change'].shift(14)\n",
    "powell_mkt['negcount15day'] = powell_mkt['Neg_Count'].shift(15)\n",
    "powell_mkt['poscount15day'] = powell_mkt['Pos_Count'].shift(15)\n",
    "#powell_mkt['sentcount15day'] = powell_mkt['Sent_Count'].shift(15)\n",
    "powell_mkt['econcount15day'] = powell_mkt['Count'].shift(15)\n",
    "powell_mkt['job_change1day'] = powell_mkt['job_change'].shift(15)\n",
    "powell_mkt['growthgap1day'] = powell_mkt['growthgap'].shift(15)\n",
    "powell_mkt['change15day'] = powell_mkt['change'].shift(15)\n",
    "powell_mkt"
   ]
  },
  {
   "cell_type": "code",
   "execution_count": null,
   "metadata": {},
   "outputs": [],
   "source": [
    "powell_mkt.to_csv('./Data/powell_lmkt.csv', index=False)"
   ]
  },
  {
   "cell_type": "code",
   "execution_count": null,
   "metadata": {},
   "outputs": [],
   "source": [
    "for x in powell_mkt.columns:\n",
    "    print(x)"
   ]
  },
  {
   "cell_type": "code",
   "execution_count": null,
   "metadata": {},
   "outputs": [],
   "source": [
    "powell_mkt.dropna(inplace=True)\n",
    "#powell_lmkt_x = powell_mkt.iloc[:, np.r_[0, 2:4, 5:7]] #1 Neg_Count, Pos_Count\n",
    "#powell_lmkt_x = powell_mkt.iloc[:, np.r_[0, 4:5, 5:7]] #2 Sent_Count\n",
    "#powell_lmkt_x = powell_mkt.iloc[:, np.r_[0, 2:4, 5:7, 11:13]] #3 Neg_Count, Pos_Count, job_change, growthgap\n",
    "powell_lmkt_x = powell_mkt.iloc[:, np.r_[0, 2:4, 5:7, 11:13, 13:15, 16:23, 24:31, 32:39, 40:47, 48 -55, 56:63, 64:71, 72:79, 80:87, 88:95, 96:103, 104:111, 112:119, 120:127, 128:133]] #4 with lags\n",
    "powell_lmkt_x.set_index(\"date\", inplace=True)\n",
    "powell_lmkt_y1 = powell_mkt['pos_neg']\n",
    "powell_lmkt_y2 = powell_mkt[['pos','neg','flat']]\n",
    "powell_lmkt_y3 = powell_mkt[['change']]\n",
    "powell_lmkt_x.head()\n",
    "#powell_lmkt_x.to_csv('./Data/powell_lmkt_x.csv', index=True)\n",
    "#powell_lmkt_y1.to_csv('./Data/powell_lmkt_y1.csv', index=False)"
   ]
  },
  {
   "cell_type": "code",
   "execution_count": null,
   "metadata": {},
   "outputs": [],
   "source": [
    "X_train, X_test,y_train,y_test = train_test_split(powell_lmkt_x, powell_lmkt_y3, test_size = 0.33,random_state=42)\n",
    "regr = RandomForestRegressor()\n",
    "regr.fit(X_train,y_train)\n",
    "#print(regr.score(X_test, y_test))"
   ]
  },
  {
   "cell_type": "code",
   "execution_count": null,
   "metadata": {},
   "outputs": [],
   "source": [
    "ridge = Ridge()\n",
    "ridge.fit(X_train,y_train)\n",
    "#print(ridge.score(X_test, y_test))\n",
    "# regr.predict_proba(X_test)"
   ]
  }
 ],
 "metadata": {
  "kernelspec": {
   "display_name": "Python 3",
   "language": "python",
   "name": "python3"
  },
  "language_info": {
   "codemirror_mode": {
    "name": "ipython",
    "version": 3
   },
   "file_extension": ".py",
   "mimetype": "text/x-python",
   "name": "python",
   "nbconvert_exporter": "python",
   "pygments_lexer": "ipython3",
   "version": "3.6.9"
  }
 },
 "nbformat": 4,
 "nbformat_minor": 2
}
