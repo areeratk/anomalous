{
 "cells": [
  {
   "cell_type": "code",
   "execution_count": null,
   "metadata": {},
   "outputs": [],
   "source": [
    "%matplotlib inline\n",
    "# Dependencies and Setup\n",
    "import pandas as pd\n",
    "import numpy as np\n",
    "import pickle\n",
    "from sklearn.ensemble import RandomForestRegressor\n",
    "from sklearn.model_selection import train_test_split\n",
    "from sklearn.linear_model import Ridge\n",
    "from sklearn.tree import DecisionTreeClassifier # Import Decision Tree Classifier\n",
    "from sklearn.tree import export_graphviz\n",
    "from sklearn import metrics #Import scikit-learn metrics module for accuracy calculation\n",
    "import matplotlib.pyplot as plt\n",
    "import matplotlib\n",
    "from matplotlib.widgets import Slider\n",
    "import seaborn as sns; sns.set()\n",
    "import ppscore as pps\n",
    "import seaborn as seabornInstance\n",
    "\n"
   ]
  },
  {
   "cell_type": "code",
   "execution_count": null,
   "metadata": {},
   "outputs": [],
   "source": [
    "import warnings\n",
    "warnings.filterwarnings('ignore')"
   ]
  },
  {
   "cell_type": "markdown",
   "metadata": {},
   "source": [
    "Read all files as indicated in subsequent cells containing data for labels and NLP formulated features of our project."
   ]
  },
  {
   "cell_type": "code",
   "execution_count": null,
   "metadata": {},
   "outputs": [],
   "source": [
    "L_cap = pd.read_csv(\"./data/stock_spy.csv\")\n",
    "L_cap = L_cap.loc[L_cap['date']>'2016-01-01']\n",
    "L_cap = L_cap.loc[:, [\"date\", \"change\"]]\n",
    "L_cap.head(1)"
   ]
  },
  {
   "cell_type": "code",
   "execution_count": null,
   "metadata": {},
   "outputs": [],
   "source": [
    "M_cap = pd.read_csv(\"./data/stock_mdy.csv\")\n",
    "M_cap = M_cap.loc[M_cap['date']>'2016-01-01']\n",
    "M_cap = M_cap.loc[:, [\"date\", \"change\"]]\n",
    "M_cap.head(1)"
   ]
  },
  {
   "cell_type": "code",
   "execution_count": null,
   "metadata": {},
   "outputs": [],
   "source": [
    "S_cap = pd.read_csv(\"./data/stock_ijr.csv\")\n",
    "S_cap = S_cap.loc[S_cap['date']>'2016-01-01']\n",
    "S_cap = S_cap.loc[:, [\"date\", \"change\"]]\n",
    "S_cap.head(1)"
   ]
  },
  {
   "cell_type": "code",
   "execution_count": null,
   "metadata": {},
   "outputs": [],
   "source": [
    "powell_econ = pd.read_csv(\"./data/powell_daydf_count.csv\")\n",
    "powell_econ.head(1)"
   ]
  },
  {
   "cell_type": "code",
   "execution_count": null,
   "metadata": {},
   "outputs": [],
   "source": [
    "powell_sentbyday = pd.read_csv(\"./data/powell_sentbydaydf_count.csv\")\n",
    "powell_sentbyday.head(1)"
   ]
  },
  {
   "cell_type": "code",
   "execution_count": null,
   "metadata": {},
   "outputs": [],
   "source": [
    "powell_sentbydaypos = pd.read_csv(\"./data/powell_sentbydayposdf_count.csv\")\n",
    "powell_sentbydaypos.head(1)"
   ]
  },
  {
   "cell_type": "code",
   "execution_count": null,
   "metadata": {},
   "outputs": [],
   "source": [
    "powell_sentbydayneg = pd.read_csv(\"./data/powell_sentbydaynegdf_count.csv\")\n",
    "powell_sentbydayneg.head(1)"
   ]
  },
  {
   "cell_type": "markdown",
   "metadata": {},
   "source": [
    "Join data frames and create classification labels."
   ]
  },
  {
   "cell_type": "code",
   "execution_count": null,
   "metadata": {},
   "outputs": [],
   "source": [
    "powell_mkt = M_cap.merge(powell_sentbydayneg, how='inner', left_on=\"date\" ,right_on=\"Date\")\n",
    "powell_mkt = powell_mkt.merge(powell_sentbydaypos, how='inner' ,on=\"Date\")\n",
    "powell_mkt =  powell_mkt.merge(powell_sentbyday, how='inner' ,on=\"Date\")\n",
    "powell_mkt =  powell_mkt.merge(powell_econ, how='inner' ,on=\"Date\")\n",
    "powell_mkt['pos_neg'] = np.where (powell_mkt['change'] > 0,1,0)\n",
    "powell_mkt['pos'] = np.where (powell_mkt['change'] > 0.002,1,0)\n",
    "powell_mkt['neg'] = np.where (powell_mkt['change'] < -0.002,1,0)\n",
    "powell_mkt['flat'] = np.where ((powell_mkt['change'] <= 0.002) & (powell_mkt['change'] >= -0.002) ,1,0)\n",
    "\n",
    "powell_mkt.head()\n"
   ]
  },
  {
   "cell_type": "markdown",
   "metadata": {},
   "source": [
    "Add % changes of fundamental factors as features.  Since they are monthly released data, the values of subsequent daily rows after each releasing date would be equal to their prior row until they reach the new releasing date."
   ]
  },
  {
   "cell_type": "code",
   "execution_count": null,
   "metadata": {},
   "outputs": [],
   "source": [
    "powell_rgdp = pd.read_csv(\"./Data/RGDP.csv\")\n",
    "powell_rgdp.head()\n",
    "powell_mkt['date'] = pd.to_datetime(powell_mkt['date'])"
   ]
  },
  {
   "cell_type": "code",
   "execution_count": null,
   "metadata": {},
   "outputs": [],
   "source": [
    "powell_mkt['growthgap']=np.nan\n",
    "for x in range(len(powell_rgdp.index)-1):\n",
    "   powell_mkt.loc[((powell_mkt['date']>= powell_rgdp.loc[x][0]) & (powell_mkt['date']< powell_rgdp.loc[x+1][0])),['growthgap']]=powell_rgdp.loc[x][3]\n",
    "powell_mkt.head(1)"
   ]
  },
  {
   "cell_type": "code",
   "execution_count": null,
   "metadata": {},
   "outputs": [],
   "source": [
    "powell_empsit = pd.read_csv(\"./Data/empsit.csv\")\n",
    "powell_empsit.head()\n",
    "powell_mkt['date'] = pd.to_datetime(powell_mkt['date'])"
   ]
  },
  {
   "cell_type": "code",
   "execution_count": null,
   "metadata": {},
   "outputs": [],
   "source": [
    "powell_mkt['job_change']=np.nan\n",
    "for x in range(len(powell_empsit.index)-1):\n",
    "   powell_mkt.loc[((powell_mkt['date']>= powell_empsit.loc[x][0]) & (powell_mkt['date']< powell_empsit.loc[x+1][0])),['job_change']]=powell_empsit.loc[x][1]\n",
    "#    print(wsb_mkt.loc[(wsb_mkt['date']>= wsb_empsit.loc[x][0]) & (wsb_mkt['date']< wsb_empsit.loc[x+1][0])]['job_change'])\n",
    "powell_mkt.head(1)"
   ]
  },
  {
   "cell_type": "code",
   "execution_count": null,
   "metadata": {},
   "outputs": [],
   "source": [
    "powell_mkt_hm1 = powell_mkt.loc[:, [\n",
    "\"date\",\n",
    "\"change\",\n",
    "\"Neg_Count\",\n",
    "\"Pos_Count\",\n",
    "\"Sent_Count\",\n",
    "\"Count\",\n",
    "\"job_change\",\n",
    "\"growthgap\"]]\n",
    "powell_mkt_hm1.set_index('date', inplace=True)\n",
    "plt.subplots_adjust(bottom=0.25)\n",
    "powell_mkt_hm1.plot(subplots=True, figsize=(16, 16)); plt.legend(loc='best')"
   ]
  },
  {
   "cell_type": "code",
   "execution_count": null,
   "metadata": {},
   "outputs": [],
   "source": [
    "#pps matrix plot\n",
    "powell_mkt_hm1 = powell_mkt.loc[:, [\n",
    "\n",
    "\"pos_neg\",\n",
    "\"Neg_Count\",\n",
    "\"Pos_Count\",\n",
    "\"Sent_Count\",\n",
    "#\"favorites\",\n",
    "\"Count\",\n",
    "\"job_change\",\n",
    "\"growthgap\"]]\n",
    "\n",
    "ax = sns.heatmap(pps.matrix(powell_mkt_hm1), vmin=0, vmax=1, cmap=\"Blues\", linewidths=0.5, annot=True, fmt=\".3f\")\n",
    "ax.set_xticklabels(\n",
    "    ax.get_xticklabels(),\n",
    "    rotation=45,\n",
    "    horizontalalignment='right'\n",
    ")\n",
    "bottom, top = ax.get_ylim()\n",
    "ax.set_ylim(bottom + 0.5, top - 0.5)\n",
    ";\n",
    "\n",
    "# Save Figure\n",
    "plt.savefig('./Images/powell_LCap_PPS_Matrix.png', figsize=(400,240))\n",
    "\n",
    "# Show plot\n",
    "plt.show()"
   ]
  },
  {
   "cell_type": "markdown",
   "metadata": {},
   "source": [
    "Create lag values to add to features given that signals may adjust in lagged time."
   ]
  },
  {
   "cell_type": "code",
   "execution_count": null,
   "metadata": {},
   "outputs": [],
   "source": [
    "powell_mkt['negcount1day'] = powell_mkt['Neg_Count'].shift(1)\n",
    "powell_mkt['poscount1day'] = powell_mkt['Pos_Count'].shift(1)\n",
    "powell_mkt['sentcount1day'] = powell_mkt['Sent_Count'].shift(1)\n",
    "powell_mkt['econcount1day'] = powell_mkt['Count'].shift(1)\n",
    "powell_mkt['job_change1day'] = powell_mkt['job_change'].shift(1)\n",
    "powell_mkt['growthgap1day'] = powell_mkt['growthgap'].shift(1)\n",
    "powell_mkt['change1day'] = powell_mkt['change'].shift(1)\n",
    "powell_mkt['negcount2day'] = powell_mkt['Neg_Count'].shift(2)\n",
    "powell_mkt['poscount2day'] = powell_mkt['Pos_Count'].shift(2)\n",
    "powell_mkt['sentcount2day'] = powell_mkt['Sent_Count'].shift(2)\n",
    "powell_mkt['econcount2day'] = powell_mkt['Count'].shift(2)\n",
    "powell_mkt['job_change2day'] = powell_mkt['job_change'].shift(2)\n",
    "powell_mkt['growthgap2day'] = powell_mkt['growthgap'].shift(2)\n",
    "powell_mkt['change2day'] = powell_mkt['change'].shift(2)\n",
    "powell_mkt['negcount3day'] = powell_mkt['Neg_Count'].shift(3)\n",
    "powell_mkt['poscount3day'] = powell_mkt['Pos_Count'].shift(3)\n",
    "powell_mkt['sentcount3day'] = powell_mkt['Sent_Count'].shift(3)\n",
    "powell_mkt['econcount3day'] = powell_mkt['Count'].shift(3)\n",
    "powell_mkt['job_change3day'] = powell_mkt['job_change'].shift(3)\n",
    "powell_mkt['growthgap3day'] = powell_mkt['growthgap'].shift(3)\n",
    "powell_mkt['change3day'] = powell_mkt['change'].shift(3)\n",
    "powell_mkt['negcount4day'] = powell_mkt['Neg_Count'].shift(4)\n",
    "powell_mkt['poscount4day'] = powell_mkt['Pos_Count'].shift(4)\n",
    "powell_mkt['sentcount4day'] = powell_mkt['Sent_Count'].shift(4)\n",
    "powell_mkt['econcount4day'] = powell_mkt['Count'].shift(4)\n",
    "powell_mkt['job_change4day'] = powell_mkt['job_change'].shift(4)\n",
    "powell_mkt['growthgap4day'] = powell_mkt['growthgap'].shift(4)\n",
    "powell_mkt['change4day'] = powell_mkt['change'].shift(4)\n",
    "powell_mkt['negcount5day'] = powell_mkt['Neg_Count'].shift(5)\n",
    "powell_mkt['poscount5day'] = powell_mkt['Pos_Count'].shift(5)\n",
    "powell_mkt['sentcount5day'] = powell_mkt['Sent_Count'].shift(5)\n",
    "powell_mkt['econcount5day'] = powell_mkt['Count'].shift(5)\n",
    "powell_mkt['job_change5day'] = powell_mkt['job_change'].shift(5)\n",
    "powell_mkt['growthgap5day'] = powell_mkt['growthgap'].shift(5)\n",
    "powell_mkt['change5day'] = powell_mkt['change'].shift(5)\n",
    "powell_mkt['negcount6day'] = powell_mkt['Neg_Count'].shift(6)\n",
    "powell_mkt['poscount6day'] = powell_mkt['Pos_Count'].shift(6)\n",
    "powell_mkt['sentcount6day'] = powell_mkt['Sent_Count'].shift(6)\n",
    "powell_mkt['econcount6day'] = powell_mkt['Count'].shift(6)\n",
    "powell_mkt['job_change6day'] = powell_mkt['job_change'].shift(6)\n",
    "powell_mkt['growthgap6day'] = powell_mkt['growthgap'].shift(6)\n",
    "powell_mkt['change6day'] = powell_mkt['change'].shift(6)\n",
    "powell_mkt['negcount7day'] = powell_mkt['Neg_Count'].shift(7)\n",
    "powell_mkt['poscount7day'] = powell_mkt['Pos_Count'].shift(7)\n",
    "powell_mkt['sentcount7day'] = powell_mkt['Sent_Count'].shift(7)\n",
    "powell_mkt['econcount7day'] = powell_mkt['Count'].shift(7)\n",
    "powell_mkt['job_change7day'] = powell_mkt['job_change'].shift(7)\n",
    "powell_mkt['growthgap7day'] = powell_mkt['growthgap'].shift(7)\n",
    "powell_mkt['change7day'] = powell_mkt['change'].shift(7)\n",
    "powell_mkt['negcount8day'] = powell_mkt['Neg_Count'].shift(8)\n",
    "powell_mkt['poscount8day'] = powell_mkt['Pos_Count'].shift(8)\n",
    "powell_mkt['sentcount8day'] = powell_mkt['Sent_Count'].shift(8)\n",
    "powell_mkt['econcount8day'] = powell_mkt['Count'].shift(8)\n",
    "powell_mkt['job_change8day'] = powell_mkt['job_change'].shift(8)\n",
    "powell_mkt['growthgap8day'] = powell_mkt['growthgap'].shift(8)\n",
    "powell_mkt['change8day'] = powell_mkt['change'].shift(8)\n",
    "powell_mkt['negcount9day'] = powell_mkt['Neg_Count'].shift(9)\n",
    "powell_mkt['poscount9day'] = powell_mkt['Pos_Count'].shift(9)\n",
    "powell_mkt['sentcount9day'] = powell_mkt['Sent_Count'].shift(9)\n",
    "powell_mkt['econcount9day'] = powell_mkt['Count'].shift(9)\n",
    "powell_mkt['job_change9day'] = powell_mkt['job_change'].shift(9)\n",
    "powell_mkt['growthgap9day'] = powell_mkt['growthgap'].shift(9)\n",
    "powell_mkt['change9day'] = powell_mkt['change'].shift(9)\n",
    "powell_mkt['negcount10day'] = powell_mkt['Neg_Count'].shift(10)\n",
    "powell_mkt['poscount10day'] = powell_mkt['Pos_Count'].shift(10)\n",
    "powell_mkt['sentcount10day'] = powell_mkt['Sent_Count'].shift(10)\n",
    "powell_mkt['econcount10day'] = powell_mkt['Count'].shift(10)\n",
    "powell_mkt['job_change10day'] = powell_mkt['job_change'].shift(10)\n",
    "powell_mkt['growthgap10day'] = powell_mkt['growthgap'].shift(10)\n",
    "powell_mkt['change10day'] = powell_mkt['change'].shift(10)\n",
    "powell_mkt['negcount11day'] = powell_mkt['Neg_Count'].shift(11)\n",
    "powell_mkt['poscount11day'] = powell_mkt['Pos_Count'].shift(11)\n",
    "powell_mkt['sentcount11day'] = powell_mkt['Sent_Count'].shift(11)\n",
    "powell_mkt['econcount11day'] = powell_mkt['Count'].shift(11)\n",
    "powell_mkt['job_change11day'] = powell_mkt['job_change'].shift(11)\n",
    "powell_mkt['growthgap11day'] = powell_mkt['growthgap'].shift(11)\n",
    "powell_mkt['change11day'] = powell_mkt['change'].shift(11)\n",
    "powell_mkt['negcount12day'] = powell_mkt['Neg_Count'].shift(12)\n",
    "powell_mkt['poscount12day'] = powell_mkt['Pos_Count'].shift(12)\n",
    "powell_mkt['sentcount12day'] = powell_mkt['Sent_Count'].shift(12)\n",
    "powell_mkt['econcount12day'] = powell_mkt['Count'].shift(12)\n",
    "powell_mkt['job_change12day'] = powell_mkt['job_change'].shift(12)\n",
    "powell_mkt['growthgap12day'] = powell_mkt['growthgap'].shift(12)\n",
    "powell_mkt['change12day'] = powell_mkt['change'].shift(12)\n",
    "powell_mkt['negcount13day'] = powell_mkt['Neg_Count'].shift(13)\n",
    "powell_mkt['poscount13day'] = powell_mkt['Pos_Count'].shift(13)\n",
    "powell_mkt['sentcount13day'] = powell_mkt['Sent_Count'].shift(13)\n",
    "powell_mkt['econcount13day'] = powell_mkt['Count'].shift(13)\n",
    "powell_mkt['job_change13day'] = powell_mkt['job_change'].shift(13)\n",
    "powell_mkt['growthgap13day'] = powell_mkt['growthgap'].shift(13)\n",
    "powell_mkt['change13day'] = powell_mkt['change'].shift(13)\n",
    "powell_mkt['negcount14day'] = powell_mkt['Neg_Count'].shift(14)\n",
    "powell_mkt['poscount14day'] = powell_mkt['Pos_Count'].shift(14)\n",
    "powell_mkt['sentcount14day'] = powell_mkt['Sent_Count'].shift(14)\n",
    "powell_mkt['job_change14day'] = powell_mkt['job_change'].shift(14)\n",
    "powell_mkt['growthgap14day'] = powell_mkt['growthgap'].shift(14)\n",
    "powell_mkt['econcount14day'] = powell_mkt['change'].shift(14)\n",
    "powell_mkt['change14day'] = powell_mkt['change'].shift(14)\n",
    "powell_mkt['negcount15day'] = powell_mkt['Neg_Count'].shift(15)\n",
    "powell_mkt['poscount15day'] = powell_mkt['Pos_Count'].shift(15)\n",
    "powell_mkt['sentcount15day'] = powell_mkt['Sent_Count'].shift(15)\n",
    "powell_mkt['econcount15day'] = powell_mkt['Count'].shift(15)\n",
    "powell_mkt['job_change15day'] = powell_mkt['job_change'].shift(15)\n",
    "powell_mkt['growthgap15day'] = powell_mkt['growthgap'].shift(15)\n",
    "powell_mkt['change15day'] = powell_mkt['change'].shift(15)\n",
    "powell_mkt.head(1)"
   ]
  },
  {
   "cell_type": "code",
   "execution_count": null,
   "metadata": {},
   "outputs": [],
   "source": [
    "powell_mkt.to_csv('./Data/powell_lmkt.csv', index=False)"
   ]
  },
  {
   "cell_type": "code",
   "execution_count": null,
   "metadata": {},
   "outputs": [],
   "source": [
    "for x in powell_mkt.columns:\n",
    "    print(x)"
   ]
  },
  {
   "cell_type": "markdown",
   "metadata": {},
   "source": [
    "Machine Learning Models: RandomForesRegression & Ridge for the model with % change of prices for SPY, MDY and IJR as labels; RandomClassifier and LogisticRegressor for the models with labels as classifiers of price change directions -- up or down. The RandomFlorest models also oberve feature importance and decision trees. "
   ]
  },
  {
   "cell_type": "code",
   "execution_count": null,
   "metadata": {},
   "outputs": [],
   "source": [
    "powell_mkt.dropna(inplace=True)\n",
    "powell_lmkt_x = powell_mkt.iloc[:, np.r_[0, 3:5, 6:7, 11:13]] #1 %Change (y_3)\n",
    "#powell_lmkt_x = powell_mkt.iloc[:, np.r_[0, 3:5, 6:7, 11:13]] #2 Classification Change (y_1)\n",
    "#powell_lmkt_x = powell_mkt.iloc[:, np.r_[0, 3:5, 6:7]] #3 y_1 Neg_Count, Pos_Count, Count\n",
    "\n",
    "powell_lmkt_x.set_index(\"date\", inplace=True)\n",
    "powell_lmkt_y1 = powell_mkt['pos_neg']\n",
    "powell_lmkt_y2 = powell_mkt[['pos','neg','flat']]\n",
    "powell_lmkt_y3 = powell_mkt[['change']]\n",
    "powell_lmkt_x.head(1)\n",
    "#powell_lmkt_x.to_csv('./Data/powell_lmkt_x.csv', index=True)\n",
    "#powell_lmkt_y1.to_csv('./Data/powell_lmkt_y1.csv', index=False)"
   ]
  },
  {
   "cell_type": "code",
   "execution_count": null,
   "metadata": {},
   "outputs": [],
   "source": [
    "X_train, X_test,y_train,y_test = train_test_split(powell_lmkt_x, powell_lmkt_y3, test_size = 0.33,random_state=42)\n",
    "regr = RandomForestRegressor()\n",
    "regr.fit(X_train,y_train)\n",
    "print(regr.score(X_test, y_test))\n",
    "\n",
    "#1 %Change\n",
    "\n",
    "ridge = Ridge()\n",
    "ridge.fit(X_train,y_train)\n",
    "print(ridge.score(X_test, y_test))\n",
    "# regr.predict_proba(X_test)"
   ]
  },
  {
   "cell_type": "code",
   "execution_count": null,
   "metadata": {},
   "outputs": [],
   "source": [
    "powell_mkt.dropna(inplace=True)\n",
    "#powell_lmkt_x = powell_mkt.iloc[:, np.r_[0, 3:5, 6:7, 11:13]] #1 %Change (y_3)\n",
    "powell_lmkt_x = powell_mkt.iloc[:, np.r_[0, 3:5, 6:7, 11:13]] #2 Classification Change (y_1)\n",
    "#powell_lmkt_x = powell_mkt.iloc[:, np.r_[0, 3:5, 6:7]] #3 y_1, Pos_Count, Neg_Count, Count\n",
    "\n",
    "powell_lmkt_x.set_index(\"date\", inplace=True)\n",
    "powell_lmkt_y1 = powell_mkt['pos_neg']\n",
    "powell_lmkt_y2 = powell_mkt[['pos','neg','flat']]\n",
    "powell_lmkt_y3 = powell_mkt[['change']]\n",
    "#powell_lmkt_x.head(1)\n",
    "#powell_lmkt_x.to_csv('./Data/powell_lmkt_x.csv', index=True)\n",
    "#powell_lmkt_y1.to_csv('./Data/powell_lmkt_y1.csv', index=False)"
   ]
  },
  {
   "cell_type": "code",
   "execution_count": null,
   "metadata": {},
   "outputs": [],
   "source": [
    "X_train, X_test,y_train,y_test = train_test_split(powell_lmkt_x, powell_lmkt_y1, test_size = 0.33,random_state=42)\n",
    "from sklearn.ensemble import RandomForestClassifier\n",
    "\n",
    "regr = RandomForestClassifier()\n",
    "regr.fit(X_train,y_train)\n",
    "print(regr.score(X_test, y_test))\n",
    "\n",
    "#2 Pos_Count, Neg_Count, Count, job_change, growthgap\n",
    "\n",
    "ridge = Ridge()\n",
    "ridge.fit(X_train,y_train)\n",
    "print(ridge.score(X_test, y_test))\n",
    "# regr.predict_proba(X_test)"
   ]
  },
  {
   "cell_type": "code",
   "execution_count": null,
   "metadata": {},
   "outputs": [],
   "source": [
    "powell_mkt.dropna(inplace=True)\n",
    "#powell_lmkt_x = powell_mkt.iloc[:, np.r_[0, 3:5, 6:7, 11:13]] #1 %Change\n",
    "#powell_lmkt_x = powell_mkt.iloc[:, np.r_[0, 3:5, 6:7, 11:13]] #2 Pos_Count, Neg_Count, Count, job_change, growthgap\n",
    "powell_lmkt_x = powell_mkt.iloc[:, np.r_[0, 3:5, 6:7]] #3 Pos_Count, Neg_Count, Count\n",
    "\n",
    "powell_lmkt_x.set_index(\"date\", inplace=True)\n",
    "powell_lmkt_y1 = powell_mkt['pos_neg']\n",
    "powell_lmkt_y2 = powell_mkt[['pos','neg','flat']]\n",
    "powell_lmkt_y3 = powell_mkt[['change']]\n",
    "powell_lmkt_x.head(1)\n",
    "#powell_lmkt_x.to_csv('./Data/powell_lmkt_x.csv', index=True)\n",
    "#powell_lmkt_y1.to_csv('./Data/powell_lmkt_y1.csv', index=False)"
   ]
  },
  {
   "cell_type": "code",
   "execution_count": null,
   "metadata": {},
   "outputs": [],
   "source": [
    "X_train, X_test,y_train,y_test = train_test_split(powell_lmkt_x, powell_lmkt_y1, test_size = 0.33,random_state=42)\n",
    "regr = RandomForestClassifier()\n",
    "regr.fit(X_train,y_train)\n",
    "print(regr.score(X_test, y_test))\n",
    "\n",
    "#3 Pos_Count, Neg_Count, Count\n",
    "\n",
    "ridge = Ridge()\n",
    "ridge.fit(X_train,y_train)\n",
    "print(ridge.score(X_test, y_test))\n",
    "# regr.predict_proba(X_test)"
   ]
  },
  {
   "cell_type": "code",
   "execution_count": null,
   "metadata": {},
   "outputs": [],
   "source": [
    "powell_mkt.dropna(inplace=True)\n",
    "#powell_lmkt_x = powell_mkt.iloc[:, np.r_[0, 3:5, 6:7, 11:13]] #1 %Change\n",
    "#powell_lmkt_x = powell_mkt.iloc[:, np.r_[0, 3:5, 6:7, 11:13]] #2 Pos_Count, Neg_Count, Count, job_change, growthgap\n",
    "#powell_lmkt_x = powell_mkt.iloc[:, np.r_[0, 3:5, 6:7]] #3 Pos_Count, Neg_Count, Count\n",
    "#powell_lmkt_x = powell_mkt.iloc[:, np.r_[0, 5:6, 6:7]] #4 Sent_Count, Count\n",
    "powell_lmkt_x = powell_mkt.iloc[:, np.r_[0, 5:6]] #4.1 Sent_Count\n",
    "\n",
    "powell_lmkt_x.set_index(\"date\", inplace=True)\n",
    "powell_lmkt_y1 = powell_mkt['pos_neg']\n",
    "powell_lmkt_y2 = powell_mkt[['pos','neg','flat']]\n",
    "powell_lmkt_y3 = powell_mkt[['change']]\n",
    "powell_lmkt_x.head(1)\n",
    "#powell_lmkt_x.to_csv('./Data/powell_lmkt_x.csv', index=True)\n",
    "#powell_lmkt_y1.to_csv('./Data/powell_lmkt_y1.csv', index=False)"
   ]
  },
  {
   "cell_type": "code",
   "execution_count": null,
   "metadata": {},
   "outputs": [],
   "source": [
    "X_train, X_test,y_train,y_test = train_test_split(powell_lmkt_x, powell_lmkt_y1, test_size = 0.33,random_state=42)\n",
    "regr = RandomForestClassifier()\n",
    "regr.fit(X_train,y_train)\n",
    "print(regr.score(X_test, y_test))\n",
    "\n",
    "\n",
    "#4.1 Sent_Count\n",
    "\n",
    "ridge = Ridge()\n",
    "ridge.fit(X_train,y_train)\n",
    "print(ridge.score(X_test, y_test))\n",
    "# regr.predict_proba(X_test)"
   ]
  },
  {
   "cell_type": "code",
   "execution_count": null,
   "metadata": {},
   "outputs": [],
   "source": [
    "X_train, X_test,y_train,y_test = train_test_split(powell_lmkt_x, powell_lmkt_y1, test_size = 0.33,random_state=42)\n",
    "regr = RandomForestRegressor()\n",
    "regr.fit(X_train,y_train)\n",
    "print(regr.score(X_test, y_test))\n",
    "\n",
    "#4 Sent_Count, Count\n",
    "\n",
    "ridge = Ridge()\n",
    "ridge.fit(X_train,y_train)\n",
    "print(ridge.score(X_test, y_test))\n",
    "# regr.predict_proba(X_test)"
   ]
  },
  {
   "cell_type": "code",
   "execution_count": null,
   "metadata": {},
   "outputs": [],
   "source": [
    "powell_mkt.dropna(inplace=True)\n",
    "#powell_lmkt_x = powell_mkt.iloc[:, np.r_[0, 3:5, 6:7, 13:15, 19:20]] #5.1 with 1 lag\n",
    "powell_lmkt_x = powell_mkt.iloc[:, np.r_[0, 3:5, 6:7, 13:15, 16:17, 19:20]] #5 with 1 lag\n",
    "#powell_lmkt_x = powell_mkt.iloc[:, np.r_[0, 3:5, 6:7, 13:15, 16:17, 19:22, 23:24, 26:29, 30:31,33:36, 37:38, 40:43, 44:45, 47:50, 51:52, 54:57, 58:59, 61:62]] #6 with 7 lags\n",
    "#powell_lmkt_x = powell_mkt.iloc[:, np.r_[0, 3:5, 6:7, 13:15, 16:17, 19:22, 23:24, 26:29, 30:31,33:36, 37:38, 40:43, 44:45, 47:50, 51:52, 54:57, 58:59, 61:64, 65:66, 68:71, 72:73, 75:78, 79:80, 82:85, 86:87, 89:92, 93:94, 96:99, 100:101, 103:106, 107:108, 110-113, 114:115, 117:118]] #7 with 15 lags\n",
    "\n",
    "powell_lmkt_x.set_index(\"date\", inplace=True)\n",
    "powell_lmkt_y1 = powell_mkt['pos_neg']\n",
    "powell_lmkt_y2 = powell_mkt[['pos','neg','flat']]\n",
    "powell_lmkt_y3 = powell_mkt[['change']]\n",
    "powell_lmkt_x.head(1)\n",
    "#powell_lmkt_x.to_csv('./Data/powell_lmkt_x.csv', index=True)\n",
    "#powell_lmkt_y1.to_csv('./Data/powell_lmkt_y1.csv', index=False)"
   ]
  },
  {
   "cell_type": "code",
   "execution_count": null,
   "metadata": {},
   "outputs": [],
   "source": [
    "X_train, X_test,y_train,y_test = train_test_split(powell_lmkt_x, powell_lmkt_y1, test_size = 0.33,random_state=42)\n",
    "regr = RandomForestClassifier()\n",
    "regr.fit(X_train,y_train)\n",
    "print(regr.score(X_test, y_test))\n",
    "\n",
    "#5 with 1 lag\n",
    "\n",
    "ridge = Ridge()\n",
    "ridge.fit(X_train,y_train)\n",
    "print(ridge.score(X_test, y_test))\n",
    "# regr.predict_proba(X_test)\n",
    "\n",
    "sorted(zip(regr.feature_importances_, powell_mkt.iloc[:, np.r_[3:5, 6:7, 13:15, 16:17, 19:20]]), reverse=True)"
   ]
  },
  {
   "cell_type": "code",
   "execution_count": null,
   "metadata": {},
   "outputs": [],
   "source": [
    "X_train, X_test,y_train,y_test = train_test_split(powell_lmkt_x, powell_lmkt_y1, test_size = 0.33,random_state=42)\n",
    "regr = RandomForestClassifier()\n",
    "regr.fit(X_train,y_train)\n",
    "print(regr.score(X_test, y_test))\n",
    "\n",
    "\n",
    "#6 with 7 lags\n",
    "\n",
    "ridge = Ridge()\n",
    "ridge.fit(X_train,y_train)\n",
    "print(ridge.score(X_test, y_test))\n",
    "# regr.predict_proba(X_test)\n",
    "\n",
    "sorted(zip(regr.feature_importances_, powell_mkt.iloc[:, np.r_[3:5, 6:7, 13:15, 16:17, 19:22, 23:24, 26:29, 30:31,33:36, 37:38, 40:43, 44:45, 47:50, 51:52, 54:57, 58:59, 61:62]]), reverse=True)"
   ]
  },
  {
   "cell_type": "code",
   "execution_count": null,
   "metadata": {},
   "outputs": [],
   "source": [
    "X_train, X_test,y_train,y_test = train_test_split(powell_lmkt_x, powell_lmkt_y1, test_size = 0.33,random_state=42)\n",
    "regr = RandomForestClassifier()\n",
    "regr.fit(X_train,y_train)\n",
    "print(regr.score(X_test, y_test))\n",
    "\n",
    "\n",
    "#7 with 15 lags\n",
    "\n",
    "ridge = Ridge()\n",
    "ridge.fit(X_train,y_train)\n",
    "print(ridge.score(X_test, y_test))\n",
    "# regr.predict_proba(X_test)\n",
    "\n",
    "sorted(zip(regr.feature_importances_, powell_mkt.iloc[:, np.r_[3:5, 6:7, 13:15, 16:17, 19:22, 23:24, 26:29, 30:31,33:36, 37:38, 40:43, 44:45, 47:50, 51:52, 54:57, 58:59, 61:64, 65:66, 68:71, 72:73, 75:78, 79:80, 82:85, 86:87, 89:92, 93:94, 96:99, 100:101, 103:106, 107:108, 110-113, 114:115, 117:118]]), reverse=True)"
   ]
  },
  {
   "cell_type": "code",
   "execution_count": null,
   "metadata": {},
   "outputs": [],
   "source": [
    "powell_mkt.dropna(inplace=True)\n",
    "powell_lmkt_x = powell_mkt.iloc[:, np.r_[0, 3:5, 6:7, 13:15, 19:20]] #5.1 with 1 lag\n",
    "#powell_lmkt_x = powell_mkt.iloc[:, np.r_[0, 3:5, 6:7, 13:15, 16:17, 19:20]] #5 with 1 lag\n",
    "#powell_lmkt_x = powell_mkt.iloc[:, np.r_[0, 3:5, 6:7, 13:15, 16:17, 19:22, 23:24, 26:29, 30:31,33:36, 37:38, 40:43, 44:45, 47:50, 51:52, 54:57, 58:59, 61:62]] #6 with 7 lags\n",
    "#powell_lmkt_x = powell_mkt.iloc[:, np.r_[0, 3:5, 6:7, 13:15, 16:17, 19:22, 23:24, 26:29, 30:31,33:36, 37:38, 40:43, 44:45, 47:50, 51:52, 54:57, 58:59, 61:64, 65:66, 68:71, 72:73, 75:78, 79:80, 82:85, 86:87, 89:92, 93:94, 96:99, 100:101, 103:106, 107:108, 110-113, 114:115, 117:118]] #7 with 15 lags\n",
    "\n",
    "powell_lmkt_x.set_index(\"date\", inplace=True)\n",
    "powell_lmkt_y1 = powell_mkt['pos_neg']\n",
    "powell_lmkt_y2 = powell_mkt[['pos','neg','flat']]\n",
    "powell_lmkt_y3 = powell_mkt[['change']]\n",
    "powell_lmkt_x.head(1)\n",
    "powell_lmkt_x.to_csv('./Data/powell_lmkt_x.csv', index=True)\n",
    "powell_lmkt_y1.to_csv('./Data/powell_lmkt_y1.csv', index=False)"
   ]
  },
  {
   "cell_type": "code",
   "execution_count": null,
   "metadata": {},
   "outputs": [],
   "source": [
    "X_train, X_test,y_train,y_test = train_test_split(powell_lmkt_x, powell_lmkt_y1, test_size = 0.33,random_state=42)\n",
    "regr = RandomForestClassifier()\n",
    "regr.fit(X_train,y_train)\n",
    "print(regr.score(X_test, y_test))\n",
    "\n",
    "#5.1 with 1 lag (with no lag for Count)\n",
    "\n",
    "ridge = Ridge()\n",
    "ridge.fit(X_train,y_train)\n",
    "print(ridge.score(X_test, y_test))\n",
    "regr.predict_proba(X_test)\n",
    "\n",
    "sorted(zip(regr.feature_importances_, powell_mkt.iloc[:, np.r_[3:5, 6:7, 13:15, 19:20]]), reverse=True)"
   ]
  },
  {
   "cell_type": "code",
   "execution_count": null,
   "metadata": {},
   "outputs": [],
   "source": [
    "# Calculate classification report\n",
    "from sklearn.metrics import classification_report\n",
    "y_pred = regr.predict(X_test)\n",
    "print(classification_report(y_test, y_pred))"
   ]
  },
  {
   "cell_type": "code",
   "execution_count": null,
   "metadata": {},
   "outputs": [],
   "source": [
    "from sklearn.metrics import mean_squared_error, accuracy_score, confusion_matrix, classification_report\n",
    "confusion_matrix(y_test, y_pred)"
   ]
  },
  {
   "cell_type": "code",
   "execution_count": null,
   "metadata": {},
   "outputs": [],
   "source": [
    "# Get and reshape confusion matrix data\n",
    "matrix = confusion_matrix(y_test, y_pred)\n",
    "matrix = matrix.astype('float') / matrix.sum(axis=1)[:, np.newaxis]\n",
    "# Build the plot\n",
    "plt.figure(figsize=(10,5))\n",
    "sns.set(font_scale=1.4)\n",
    "sns.heatmap(matrix, annot=True, annot_kws={'size':10},\n",
    "            cmap=plt.cm.Greens, linewidths=0.2)\n",
    "# Add labels to the plot\n",
    "class_names = ['pos_neg=down', 'pos_neg=up']\n",
    "tick_marks = np.arange(len(class_names))\n",
    "tick_marks2 = tick_marks + 0.5\n",
    "plt.xticks(tick_marks, class_names, rotation=25)\n",
    "plt.yticks(tick_marks2, class_names, rotation=0)\n",
    "plt.xlabel('Predicted label')\n",
    "plt.ylabel('True label')\n",
    "plt.title('Confusion Matrix for Random Forest Model')\n",
    "plt.savefig('./Images/powell_LCap_rf_y_pred_confusion_matrix.png', figsize=(400,240))\n",
    "plt.show()"
   ]
  },
  {
   "cell_type": "code",
   "execution_count": null,
   "metadata": {},
   "outputs": [],
   "source": [
    "from sklearn.metrics import roc_auc_score\n",
    "roc_auc_score(y_test, y_pred)"
   ]
  },
  {
   "cell_type": "code",
   "execution_count": null,
   "metadata": {},
   "outputs": [],
   "source": [
    "from sklearn.metrics import roc_curve\n",
    "from sklearn.metrics import auc\n",
    "\n",
    "# Compute fpr, tpr, thresholds and roc auc\n",
    "fpr, tpr, thresholds = roc_curve(y_test, y_pred)\n",
    "roc_auc = auc(fpr, tpr)\n",
    "\n",
    "# Plot ROC curve\n",
    "plt.plot(fpr, tpr, label='ROC curve (area = %0.3f)' % roc_auc)\n",
    "plt.plot([0, 1], [0, 1], 'k--')  # random predictions curve\n",
    "plt.xlim([0.0, 1.0])\n",
    "plt.ylim([0.0, 1.0])\n",
    "plt.xlabel('False Positive Rate or (1 - Specifity)')\n",
    "plt.ylabel('True Positive Rate or (Sensitivity)')\n",
    "plt.title('PowellEffect Characteristic/RandomForest Model')\n",
    "plt.legend(loc=\"lower right\")\n",
    "plt.savefig('./Images/powell_LCap_rf_y_pred.png', figsize=(400,240))"
   ]
  },
  {
   "cell_type": "code",
   "execution_count": null,
   "metadata": {},
   "outputs": [],
   "source": [
    "#pps matrix plot\n",
    "powell_mkt_hm1 = powell_mkt.loc[:, [\n",
    "    \n",
    "\"pos_neg\",\n",
    "\"Neg_Count\",\n",
    "\"Pos_Count\",\n",
    "\"Count\",\n",
    "\"negcount1day\",\n",
    "\"poscount1day\",\n",
    "\"change1day\"\n",
    "\n",
    "]]\n",
    "\n",
    "ax = sns.heatmap(pps.matrix(powell_mkt_hm1), vmin=0, vmax=1, cmap=\"Blues\", linewidths=0.5, annot=True, fmt=\".3f\")\n",
    "ax.set_xticklabels(\n",
    "    ax.get_xticklabels(),\n",
    "    rotation=45,\n",
    "    horizontalalignment='right'\n",
    ")\n",
    "bottom, top = ax.get_ylim()\n",
    "ax.set_ylim(bottom + 0.5, top - 0.5)\n",
    ";\n",
    "\n",
    "# Save Figure\n",
    "plt.savefig('./Images/powell_LCap_PPS_Matrix.png', figsize=(400,240))\n",
    "\n",
    "# Show plot\n",
    "plt.show()"
   ]
  },
  {
   "cell_type": "code",
   "execution_count": null,
   "metadata": {},
   "outputs": [],
   "source": []
  }
 ],
 "metadata": {
  "kernelspec": {
   "display_name": "Python 3",
   "language": "python",
   "name": "python3"
  },
  "language_info": {
   "codemirror_mode": {
    "name": "ipython",
    "version": 3
   },
   "file_extension": ".py",
   "mimetype": "text/x-python",
   "name": "python",
   "nbconvert_exporter": "python",
   "pygments_lexer": "ipython3",
   "version": "3.6.9"
  }
 },
 "nbformat": 4,
 "nbformat_minor": 2
}
